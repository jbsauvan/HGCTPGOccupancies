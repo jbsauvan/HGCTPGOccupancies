{
 "cells": [
  {
   "cell_type": "code",
   "execution_count": 1,
   "metadata": {
    "ExecuteTime": {
     "end_time": "2020-11-20T10:08:32.808080Z",
     "start_time": "2020-11-20T10:08:32.784995Z"
    }
   },
   "outputs": [],
   "source": [
    "%load_ext autoreload\n",
    "%autoreload 2"
   ]
  },
  {
   "cell_type": "code",
   "execution_count": 2,
   "metadata": {
    "ExecuteTime": {
     "end_time": "2020-11-20T10:08:33.664913Z",
     "start_time": "2020-11-20T10:08:33.287243Z"
    }
   },
   "outputs": [],
   "source": [
    "%matplotlib inline "
   ]
  },
  {
   "cell_type": "code",
   "execution_count": 3,
   "metadata": {
    "ExecuteTime": {
     "end_time": "2020-11-20T10:08:35.658754Z",
     "start_time": "2020-11-20T10:08:33.666724Z"
    }
   },
   "outputs": [],
   "source": [
    "import uproot\n",
    "import pandas as pd\n",
    "import numpy as np\n",
    "from sklearn.cluster import DBSCAN\n",
    "import seaborn as sns\n",
    "import matplotlib.pyplot as plt\n",
    "from matplotlib import cm\n",
    "from pylab import rcParams\n",
    "import plotly.express as px\n",
    "import os"
   ]
  },
  {
   "cell_type": "code",
   "execution_count": 66,
   "metadata": {
    "ExecuteTime": {
     "end_time": "2020-11-20T10:22:02.824136Z",
     "start_time": "2020-11-20T10:22:02.768766Z"
    }
   },
   "outputs": [],
   "source": [
    "branches_gen = ['event','genpart_pid','genpart_exphi',\n",
    "              'genpart_exeta','genpart_gen','genpart_reachedEE',\n",
    "              'genpart_pt', 'genpart_energy']\n",
    "branches_tc = ['event', 'tc_subdet', 'tc_zside', 'tc_layer',\n",
    "            'tc_mipPt', 'tc_energy', 'tc_pt', 'tc_eta', 'tc_phi',\n",
    "              'tc_x', 'tc_y', 'tc_z', 'tc_simenergy']\n",
    "#filename = '/data_cms_upgrade/sauvan/HGCAL/Ntuples/occupancy_study/DoublePhoton_FlatPt-1To100_Phase2HLTTDRWinter20DIGI-NoPU_110X_mcRun4_realistic_v3-v1/ntuple.root'\n",
    "filename = '/data_cms_upgrade/sauvan/HGCAL/Ntuples/occupancy_study/FlatRandomPtGunProducer__20201022/ntuple_201120.root'\n",
    "#filename = '/data_cms_upgrade/sauvan/HGCAL/Ntuples/occupancy_study/FlatRandomPtGunProducer__20201110/ntuple_201120.root'\n",
    "treename = 'hgcalTriggerNtuplizer/HGCalTriggerNtuple'"
   ]
  },
  {
   "cell_type": "code",
   "execution_count": 67,
   "metadata": {
    "ExecuteTime": {
     "end_time": "2020-11-20T10:22:07.259217Z",
     "start_time": "2020-11-20T10:22:03.673258Z"
    }
   },
   "outputs": [],
   "source": [
    "gen_df = uproot.open(filename)[treename].pandas.df(branches_gen)\n",
    "tc_df = uproot.open(filename)[treename].pandas.df(branches_tc)"
   ]
  },
  {
   "cell_type": "code",
   "execution_count": 68,
   "metadata": {
    "ExecuteTime": {
     "end_time": "2020-11-20T10:22:08.352896Z",
     "start_time": "2020-11-20T10:22:08.272743Z"
    }
   },
   "outputs": [
    {
     "data": {
      "text/html": [
       "<div>\n",
       "<style scoped>\n",
       "    .dataframe tbody tr th:only-of-type {\n",
       "        vertical-align: middle;\n",
       "    }\n",
       "\n",
       "    .dataframe tbody tr th {\n",
       "        vertical-align: top;\n",
       "    }\n",
       "\n",
       "    .dataframe thead th {\n",
       "        text-align: right;\n",
       "    }\n",
       "</style>\n",
       "<table border=\"1\" class=\"dataframe\">\n",
       "  <thead>\n",
       "    <tr style=\"text-align: right;\">\n",
       "      <th></th>\n",
       "      <th></th>\n",
       "      <th>subentry</th>\n",
       "      <th>event</th>\n",
       "      <th>genpart_pid</th>\n",
       "      <th>genpart_exphi</th>\n",
       "      <th>genpart_exeta</th>\n",
       "      <th>genpart_gen</th>\n",
       "      <th>genpart_reachedEE</th>\n",
       "      <th>genpart_pt</th>\n",
       "      <th>genpart_energy</th>\n",
       "    </tr>\n",
       "    <tr>\n",
       "      <th>entry</th>\n",
       "      <th>zside</th>\n",
       "      <th></th>\n",
       "      <th></th>\n",
       "      <th></th>\n",
       "      <th></th>\n",
       "      <th></th>\n",
       "      <th></th>\n",
       "      <th></th>\n",
       "      <th></th>\n",
       "      <th></th>\n",
       "    </tr>\n",
       "  </thead>\n",
       "  <tbody>\n",
       "    <tr>\n",
       "      <th>0</th>\n",
       "      <th>1</th>\n",
       "      <td>0</td>\n",
       "      <td>1</td>\n",
       "      <td>22</td>\n",
       "      <td>-1.800932</td>\n",
       "      <td>1.763112</td>\n",
       "      <td>1</td>\n",
       "      <td>2</td>\n",
       "      <td>59.430420</td>\n",
       "      <td>178.587372</td>\n",
       "    </tr>\n",
       "    <tr>\n",
       "      <th rowspan=\"2\" valign=\"top\">3</th>\n",
       "      <th>1</th>\n",
       "      <td>0</td>\n",
       "      <td>4</td>\n",
       "      <td>22</td>\n",
       "      <td>-2.102252</td>\n",
       "      <td>2.044388</td>\n",
       "      <td>1</td>\n",
       "      <td>2</td>\n",
       "      <td>36.755638</td>\n",
       "      <td>145.756073</td>\n",
       "    </tr>\n",
       "    <tr>\n",
       "      <th>-1</th>\n",
       "      <td>1</td>\n",
       "      <td>4</td>\n",
       "      <td>22</td>\n",
       "      <td>1.039316</td>\n",
       "      <td>-2.064724</td>\n",
       "      <td>2</td>\n",
       "      <td>2</td>\n",
       "      <td>36.755638</td>\n",
       "      <td>145.756073</td>\n",
       "    </tr>\n",
       "    <tr>\n",
       "      <th>6</th>\n",
       "      <th>1</th>\n",
       "      <td>0</td>\n",
       "      <td>7</td>\n",
       "      <td>22</td>\n",
       "      <td>1.707615</td>\n",
       "      <td>2.712175</td>\n",
       "      <td>1</td>\n",
       "      <td>2</td>\n",
       "      <td>47.943630</td>\n",
       "      <td>362.466858</td>\n",
       "    </tr>\n",
       "    <tr>\n",
       "      <th>7</th>\n",
       "      <th>-1</th>\n",
       "      <td>1</td>\n",
       "      <td>8</td>\n",
       "      <td>22</td>\n",
       "      <td>2.847994</td>\n",
       "      <td>-2.812884</td>\n",
       "      <td>2</td>\n",
       "      <td>2</td>\n",
       "      <td>83.126060</td>\n",
       "      <td>706.278198</td>\n",
       "    </tr>\n",
       "    <tr>\n",
       "      <th>...</th>\n",
       "      <th>...</th>\n",
       "      <td>...</td>\n",
       "      <td>...</td>\n",
       "      <td>...</td>\n",
       "      <td>...</td>\n",
       "      <td>...</td>\n",
       "      <td>...</td>\n",
       "      <td>...</td>\n",
       "      <td>...</td>\n",
       "      <td>...</td>\n",
       "    </tr>\n",
       "    <tr>\n",
       "      <th>1987</th>\n",
       "      <th>-1</th>\n",
       "      <td>1</td>\n",
       "      <td>238</td>\n",
       "      <td>22</td>\n",
       "      <td>1.875734</td>\n",
       "      <td>-2.170146</td>\n",
       "      <td>2</td>\n",
       "      <td>2</td>\n",
       "      <td>96.879158</td>\n",
       "      <td>434.844940</td>\n",
       "    </tr>\n",
       "    <tr>\n",
       "      <th>1990</th>\n",
       "      <th>1</th>\n",
       "      <td>0</td>\n",
       "      <td>241</td>\n",
       "      <td>22</td>\n",
       "      <td>-1.907388</td>\n",
       "      <td>2.306815</td>\n",
       "      <td>1</td>\n",
       "      <td>2</td>\n",
       "      <td>95.899406</td>\n",
       "      <td>490.258484</td>\n",
       "    </tr>\n",
       "    <tr>\n",
       "      <th>1991</th>\n",
       "      <th>-1</th>\n",
       "      <td>1</td>\n",
       "      <td>242</td>\n",
       "      <td>22</td>\n",
       "      <td>1.442131</td>\n",
       "      <td>-2.153673</td>\n",
       "      <td>2</td>\n",
       "      <td>2</td>\n",
       "      <td>35.147293</td>\n",
       "      <td>154.092926</td>\n",
       "    </tr>\n",
       "    <tr>\n",
       "      <th rowspan=\"2\" valign=\"top\">1999</th>\n",
       "      <th>1</th>\n",
       "      <td>0</td>\n",
       "      <td>250</td>\n",
       "      <td>22</td>\n",
       "      <td>1.133173</td>\n",
       "      <td>2.780289</td>\n",
       "      <td>1</td>\n",
       "      <td>2</td>\n",
       "      <td>33.247585</td>\n",
       "      <td>267.532532</td>\n",
       "    </tr>\n",
       "    <tr>\n",
       "      <th>-1</th>\n",
       "      <td>1</td>\n",
       "      <td>250</td>\n",
       "      <td>22</td>\n",
       "      <td>-2.008406</td>\n",
       "      <td>-2.768790</td>\n",
       "      <td>2</td>\n",
       "      <td>2</td>\n",
       "      <td>33.247585</td>\n",
       "      <td>267.532532</td>\n",
       "    </tr>\n",
       "  </tbody>\n",
       "</table>\n",
       "<p>849 rows × 9 columns</p>\n",
       "</div>"
      ],
      "text/plain": [
       "             subentry  event  genpart_pid  genpart_exphi  genpart_exeta  \\\n",
       "entry zside                                                               \n",
       "0      1            0      1           22      -1.800932       1.763112   \n",
       "3      1            0      4           22      -2.102252       2.044388   \n",
       "      -1            1      4           22       1.039316      -2.064724   \n",
       "6      1            0      7           22       1.707615       2.712175   \n",
       "7     -1            1      8           22       2.847994      -2.812884   \n",
       "...               ...    ...          ...            ...            ...   \n",
       "1987  -1            1    238           22       1.875734      -2.170146   \n",
       "1990   1            0    241           22      -1.907388       2.306815   \n",
       "1991  -1            1    242           22       1.442131      -2.153673   \n",
       "1999   1            0    250           22       1.133173       2.780289   \n",
       "      -1            1    250           22      -2.008406      -2.768790   \n",
       "\n",
       "             genpart_gen  genpart_reachedEE  genpart_pt  genpart_energy  \n",
       "entry zside                                                              \n",
       "0      1               1                  2   59.430420      178.587372  \n",
       "3      1               1                  2   36.755638      145.756073  \n",
       "      -1               2                  2   36.755638      145.756073  \n",
       "6      1               1                  2   47.943630      362.466858  \n",
       "7     -1               2                  2   83.126060      706.278198  \n",
       "...                  ...                ...         ...             ...  \n",
       "1987  -1               2                  2   96.879158      434.844940  \n",
       "1990   1               1                  2   95.899406      490.258484  \n",
       "1991  -1               2                  2   35.147293      154.092926  \n",
       "1999   1               1                  2   33.247585      267.532532  \n",
       "      -1               2                  2   33.247585      267.532532  \n",
       "\n",
       "[849 rows x 9 columns]"
      ]
     },
     "execution_count": 68,
     "metadata": {},
     "output_type": "execute_result"
    }
   ],
   "source": [
    "gen_df = gen_df.query('genpart_gen>=0 & genpart_reachedEE==2 & abs(genpart_exeta)>1.6 & abs(genpart_exeta)<2.9 & genpart_pt>20 & genpart_pt<100')\n",
    "#gen_df = gen_df.query('genpart_gen>=0  & abs(genpart_exeta)>1.6 & abs(genpart_exeta)<2.9')\n",
    "gen_df['zside'] = np.where(gen_df.genpart_exeta>0, 1, -1)\n",
    "gen_df = gen_df.reset_index().set_index(['entry', 'zside'])\n",
    "gen_df"
   ]
  },
  {
   "cell_type": "code",
   "execution_count": 69,
   "metadata": {
    "ExecuteTime": {
     "end_time": "2020-11-20T10:22:11.519450Z",
     "start_time": "2020-11-20T10:22:11.228787Z"
    }
   },
   "outputs": [
    {
     "data": {
      "image/png": "[encoded data removed]",
      "text/plain": [
       "<Figure size 432x288 with 1 Axes>"
      ]
     },
     "metadata": {
      "needs_background": "light"
     },
     "output_type": "display_data"
    }
   ],
   "source": [
    "plt.hist(gen_df.groupby(['entry', 'zside']).count().genpart_energy)\n",
    "plt.show()"
   ]
  },
  {
   "cell_type": "code",
   "execution_count": 70,
   "metadata": {
    "ExecuteTime": {
     "end_time": "2020-11-20T10:22:13.566195Z",
     "start_time": "2020-11-20T10:22:12.689425Z"
    }
   },
   "outputs": [
    {
     "data": {
      "text/html": [
       "<div>\n",
       "<style scoped>\n",
       "    .dataframe tbody tr th:only-of-type {\n",
       "        vertical-align: middle;\n",
       "    }\n",
       "\n",
       "    .dataframe tbody tr th {\n",
       "        vertical-align: top;\n",
       "    }\n",
       "\n",
       "    .dataframe thead th {\n",
       "        text-align: right;\n",
       "    }\n",
       "</style>\n",
       "<table border=\"1\" class=\"dataframe\">\n",
       "  <thead>\n",
       "    <tr style=\"text-align: right;\">\n",
       "      <th></th>\n",
       "      <th></th>\n",
       "      <th>subentry</th>\n",
       "      <th>event</th>\n",
       "      <th>tc_subdet</th>\n",
       "      <th>tc_layer</th>\n",
       "      <th>tc_mipPt</th>\n",
       "      <th>tc_energy</th>\n",
       "      <th>tc_pt</th>\n",
       "      <th>tc_eta</th>\n",
       "      <th>tc_phi</th>\n",
       "      <th>tc_x</th>\n",
       "      <th>tc_y</th>\n",
       "      <th>tc_z</th>\n",
       "      <th>tc_simenergy</th>\n",
       "    </tr>\n",
       "    <tr>\n",
       "      <th>entry</th>\n",
       "      <th>zside</th>\n",
       "      <th></th>\n",
       "      <th></th>\n",
       "      <th></th>\n",
       "      <th></th>\n",
       "      <th></th>\n",
       "      <th></th>\n",
       "      <th></th>\n",
       "      <th></th>\n",
       "      <th></th>\n",
       "      <th></th>\n",
       "      <th></th>\n",
       "      <th></th>\n",
       "      <th></th>\n",
       "    </tr>\n",
       "  </thead>\n",
       "  <tbody>\n",
       "    <tr>\n",
       "      <th rowspan=\"5\" valign=\"top\">0</th>\n",
       "      <th>-1</th>\n",
       "      <td>276</td>\n",
       "      <td>1</td>\n",
       "      <td>2</td>\n",
       "      <td>30</td>\n",
       "      <td>0.227427</td>\n",
       "      <td>0.047617</td>\n",
       "      <td>0.013928</td>\n",
       "      <td>-1.900306</td>\n",
       "      <td>1.378873</td>\n",
       "      <td>21.771978</td>\n",
       "      <td>112.044800</td>\n",
       "      <td>-373.149017</td>\n",
       "      <td>0.051292</td>\n",
       "    </tr>\n",
       "    <tr>\n",
       "      <th>-1</th>\n",
       "      <td>463</td>\n",
       "      <td>1</td>\n",
       "      <td>1</td>\n",
       "      <td>19</td>\n",
       "      <td>0.357535</td>\n",
       "      <td>0.029159</td>\n",
       "      <td>0.010158</td>\n",
       "      <td>-1.715852</td>\n",
       "      <td>1.323731</td>\n",
       "      <td>31.704401</td>\n",
       "      <td>125.702454</td>\n",
       "      <td>-348.832764</td>\n",
       "      <td>0.032249</td>\n",
       "    </tr>\n",
       "    <tr>\n",
       "      <th>-1</th>\n",
       "      <td>464</td>\n",
       "      <td>1</td>\n",
       "      <td>1</td>\n",
       "      <td>19</td>\n",
       "      <td>0.281022</td>\n",
       "      <td>0.022169</td>\n",
       "      <td>0.007984</td>\n",
       "      <td>-1.680284</td>\n",
       "      <td>1.423669</td>\n",
       "      <td>19.741468</td>\n",
       "      <td>133.209839</td>\n",
       "      <td>-348.832764</td>\n",
       "      <td>0.021114</td>\n",
       "    </tr>\n",
       "    <tr>\n",
       "      <th>-1</th>\n",
       "      <td>465</td>\n",
       "      <td>1</td>\n",
       "      <td>1</td>\n",
       "      <td>19</td>\n",
       "      <td>0.219972</td>\n",
       "      <td>0.018563</td>\n",
       "      <td>0.006250</td>\n",
       "      <td>-1.752152</td>\n",
       "      <td>1.365200</td>\n",
       "      <td>25.462872</td>\n",
       "      <td>122.098907</td>\n",
       "      <td>-348.832764</td>\n",
       "      <td>0.017382</td>\n",
       "    </tr>\n",
       "    <tr>\n",
       "      <th>1</th>\n",
       "      <td>492</td>\n",
       "      <td>1</td>\n",
       "      <td>1</td>\n",
       "      <td>21</td>\n",
       "      <td>0.684070</td>\n",
       "      <td>0.058869</td>\n",
       "      <td>0.019435</td>\n",
       "      <td>1.772946</td>\n",
       "      <td>-1.761578</td>\n",
       "      <td>-23.332361</td>\n",
       "      <td>-120.811127</td>\n",
       "      <td>351.802765</td>\n",
       "      <td>0.065437</td>\n",
       "    </tr>\n",
       "    <tr>\n",
       "      <th>...</th>\n",
       "      <th>...</th>\n",
       "      <td>...</td>\n",
       "      <td>...</td>\n",
       "      <td>...</td>\n",
       "      <td>...</td>\n",
       "      <td>...</td>\n",
       "      <td>...</td>\n",
       "      <td>...</td>\n",
       "      <td>...</td>\n",
       "      <td>...</td>\n",
       "      <td>...</td>\n",
       "      <td>...</td>\n",
       "      <td>...</td>\n",
       "      <td>...</td>\n",
       "    </tr>\n",
       "    <tr>\n",
       "      <th rowspan=\"5\" valign=\"top\">1999</th>\n",
       "      <th>-1</th>\n",
       "      <td>2987</td>\n",
       "      <td>250</td>\n",
       "      <td>2</td>\n",
       "      <td>29</td>\n",
       "      <td>0.234967</td>\n",
       "      <td>0.193402</td>\n",
       "      <td>0.023470</td>\n",
       "      <td>-2.798474</td>\n",
       "      <td>-2.157425</td>\n",
       "      <td>-24.884953</td>\n",
       "      <td>-37.438747</td>\n",
       "      <td>-367.699005</td>\n",
       "      <td>0.272062</td>\n",
       "    </tr>\n",
       "    <tr>\n",
       "      <th>-1</th>\n",
       "      <td>2988</td>\n",
       "      <td>250</td>\n",
       "      <td>2</td>\n",
       "      <td>29</td>\n",
       "      <td>0.180055</td>\n",
       "      <td>0.141928</td>\n",
       "      <td>0.017985</td>\n",
       "      <td>-2.754869</td>\n",
       "      <td>-2.129111</td>\n",
       "      <td>-24.884953</td>\n",
       "      <td>-39.841118</td>\n",
       "      <td>-367.699005</td>\n",
       "      <td>0.179595</td>\n",
       "    </tr>\n",
       "    <tr>\n",
       "      <th>-1</th>\n",
       "      <td>2989</td>\n",
       "      <td>250</td>\n",
       "      <td>2</td>\n",
       "      <td>29</td>\n",
       "      <td>0.114543</td>\n",
       "      <td>0.098923</td>\n",
       "      <td>0.011442</td>\n",
       "      <td>-2.846874</td>\n",
       "      <td>-2.132484</td>\n",
       "      <td>-22.804441</td>\n",
       "      <td>-36.237564</td>\n",
       "      <td>-367.699005</td>\n",
       "      <td>0.136792</td>\n",
       "    </tr>\n",
       "    <tr>\n",
       "      <th>-1</th>\n",
       "      <td>2990</td>\n",
       "      <td>250</td>\n",
       "      <td>2</td>\n",
       "      <td>29</td>\n",
       "      <td>0.586842</td>\n",
       "      <td>0.483958</td>\n",
       "      <td>0.058619</td>\n",
       "      <td>-2.800401</td>\n",
       "      <td>-2.103962</td>\n",
       "      <td>-22.804441</td>\n",
       "      <td>-38.639931</td>\n",
       "      <td>-367.699005</td>\n",
       "      <td>0.550928</td>\n",
       "    </tr>\n",
       "    <tr>\n",
       "      <th>-1</th>\n",
       "      <td>2991</td>\n",
       "      <td>250</td>\n",
       "      <td>2</td>\n",
       "      <td>29</td>\n",
       "      <td>1.056805</td>\n",
       "      <td>0.870738</td>\n",
       "      <td>0.105563</td>\n",
       "      <td>-2.799488</td>\n",
       "      <td>-2.050445</td>\n",
       "      <td>-20.723932</td>\n",
       "      <td>-39.841118</td>\n",
       "      <td>-367.699005</td>\n",
       "      <td>0.893939</td>\n",
       "    </tr>\n",
       "  </tbody>\n",
       "</table>\n",
       "<p>1479241 rows × 13 columns</p>\n",
       "</div>"
      ],
      "text/plain": [
       "             subentry  event  tc_subdet  tc_layer  tc_mipPt  tc_energy  \\\n",
       "entry zside                                                              \n",
       "0     -1          276      1          2        30  0.227427   0.047617   \n",
       "      -1          463      1          1        19  0.357535   0.029159   \n",
       "      -1          464      1          1        19  0.281022   0.022169   \n",
       "      -1          465      1          1        19  0.219972   0.018563   \n",
       "       1          492      1          1        21  0.684070   0.058869   \n",
       "...               ...    ...        ...       ...       ...        ...   \n",
       "1999  -1         2987    250          2        29  0.234967   0.193402   \n",
       "      -1         2988    250          2        29  0.180055   0.141928   \n",
       "      -1         2989    250          2        29  0.114543   0.098923   \n",
       "      -1         2990    250          2        29  0.586842   0.483958   \n",
       "      -1         2991    250          2        29  1.056805   0.870738   \n",
       "\n",
       "                tc_pt    tc_eta    tc_phi       tc_x        tc_y        tc_z  \\\n",
       "entry zside                                                                    \n",
       "0     -1     0.013928 -1.900306  1.378873  21.771978  112.044800 -373.149017   \n",
       "      -1     0.010158 -1.715852  1.323731  31.704401  125.702454 -348.832764   \n",
       "      -1     0.007984 -1.680284  1.423669  19.741468  133.209839 -348.832764   \n",
       "      -1     0.006250 -1.752152  1.365200  25.462872  122.098907 -348.832764   \n",
       "       1     0.019435  1.772946 -1.761578 -23.332361 -120.811127  351.802765   \n",
       "...               ...       ...       ...        ...         ...         ...   \n",
       "1999  -1     0.023470 -2.798474 -2.157425 -24.884953  -37.438747 -367.699005   \n",
       "      -1     0.017985 -2.754869 -2.129111 -24.884953  -39.841118 -367.699005   \n",
       "      -1     0.011442 -2.846874 -2.132484 -22.804441  -36.237564 -367.699005   \n",
       "      -1     0.058619 -2.800401 -2.103962 -22.804441  -38.639931 -367.699005   \n",
       "      -1     0.105563 -2.799488 -2.050445 -20.723932  -39.841118 -367.699005   \n",
       "\n",
       "             tc_simenergy  \n",
       "entry zside                \n",
       "0     -1         0.051292  \n",
       "      -1         0.032249  \n",
       "      -1         0.021114  \n",
       "      -1         0.017382  \n",
       "       1         0.065437  \n",
       "...                   ...  \n",
       "1999  -1         0.272062  \n",
       "      -1         0.179595  \n",
       "      -1         0.136792  \n",
       "      -1         0.550928  \n",
       "      -1         0.893939  \n",
       "\n",
       "[1479241 rows x 13 columns]"
      ]
     },
     "execution_count": 70,
     "metadata": {},
     "output_type": "execute_result"
    }
   ],
   "source": [
    "tc_df = tc_df[tc_df.tc_simenergy>0]\n",
    "tc_df.rename(columns={'tc_zside': 'zside'}, inplace=True)\n",
    "tc_df = tc_df.reset_index().set_index(['entry', 'zside'])\n",
    "tc_df"
   ]
  },
  {
   "cell_type": "code",
   "execution_count": 71,
   "metadata": {
    "ExecuteTime": {
     "end_time": "2020-11-20T10:22:15.256160Z",
     "start_time": "2020-11-20T10:22:15.225593Z"
    }
   },
   "outputs": [],
   "source": [
    "def cluster(row):\n",
    "    ntc = row.shape[0]\n",
    "    sumpt = np.sum(row.tc_pt)\n",
    "    return pd.Series((ntc,sumpt))"
   ]
  },
  {
   "cell_type": "code",
   "execution_count": 72,
   "metadata": {
    "ExecuteTime": {
     "end_time": "2020-11-20T10:22:21.473257Z",
     "start_time": "2020-11-20T10:22:19.345617Z"
    }
   },
   "outputs": [],
   "source": [
    "clusters = tc_df.groupby(['entry', 'zside']).apply(cluster)\n",
    "clusters.columns = ['ntc', 'sumpt']"
   ]
  },
  {
   "cell_type": "code",
   "execution_count": 73,
   "metadata": {
    "ExecuteTime": {
     "end_time": "2020-11-20T10:22:21.501277Z",
     "start_time": "2020-11-20T10:22:21.475252Z"
    }
   },
   "outputs": [],
   "source": [
    "clusters_df = gen_df.join(clusters, how='left')"
   ]
  },
  {
   "cell_type": "code",
   "execution_count": 74,
   "metadata": {
    "ExecuteTime": {
     "end_time": "2020-11-20T10:22:21.771143Z",
     "start_time": "2020-11-20T10:22:21.529164Z"
    }
   },
   "outputs": [
    {
     "data": {
      "image/png": "[encoded data removed]",
      "text/plain": [
       "<Figure size 432x288 with 1 Axes>"
      ]
     },
     "metadata": {
      "needs_background": "light"
     },
     "output_type": "display_data"
    },
    {
     "name": "stdout",
     "output_type": "stream",
     "text": [
      "1.0382638545349978\n"
     ]
    }
   ],
   "source": [
    "plt.hist(clusters_df.sumpt / clusters_df.genpart_pt, bins=100)\n",
    "plt.grid()\n",
    "plt.show()\n",
    "print(np.mean(clusters_df.sumpt / clusters_df.genpart_pt))"
   ]
  },
  {
   "cell_type": "code",
   "execution_count": 75,
   "metadata": {
    "ExecuteTime": {
     "end_time": "2020-11-20T10:22:31.113772Z",
     "start_time": "2020-11-20T10:22:30.841172Z"
    }
   },
   "outputs": [
    {
     "data": {
      "image/png": "[encoded data removed]",
      "text/plain": [
       "<Figure size 432x288 with 1 Axes>"
      ]
     },
     "metadata": {
      "needs_background": "light"
     },
     "output_type": "display_data"
    },
    {
     "data": {
      "text/plain": [
       "<matplotlib.collections.PathCollection at 0x7f872d8945c0>"
      ]
     },
     "execution_count": 75,
     "metadata": {},
     "output_type": "execute_result"
    },
    {
     "data": {
      "image/png": "[encoded data removed]",
      "text/plain": [
       "<Figure size 432x288 with 1 Axes>"
      ]
     },
     "metadata": {
      "needs_background": "light"
     },
     "output_type": "display_data"
    }
   ],
   "source": [
    "plt.scatter(np.abs(clusters_df.genpart_exeta), clusters_df.sumpt / clusters_df.genpart_pt, alpha=0.3)\n",
    "plt.xlabel('eta')\n",
    "plt.ylabel('response')\n",
    "plt.grid()\n",
    "plt.show()\n",
    "plt.scatter(clusters_df.genpart_pt, clusters_df.sumpt / clusters_df.genpart_pt, alpha=0.3)"
   ]
  },
  {
   "cell_type": "code",
   "execution_count": 24,
   "metadata": {
    "ExecuteTime": {
     "end_time": "2020-11-05T12:37:32.349711Z",
     "start_time": "2020-11-05T12:37:10.223937Z"
    }
   },
   "outputs": [
    {
     "name": "stdout",
     "output_type": "stream",
     "text": [
      "Threshold =  0.5\n",
      "Threshold =  0.7\n",
      "Threshold =  0.8999999999999999\n",
      "Threshold =  1.0999999999999999\n",
      "Threshold =  1.2999999999999998\n",
      "Threshold =  1.4999999999999998\n",
      "Threshold =  1.6999999999999997\n",
      "Threshold =  1.8999999999999997\n",
      "Threshold =  2.0999999999999996\n"
     ]
    }
   ],
   "source": [
    "thresholds = np.arange(0.5, 2.2, step=0.2)\n",
    "clusters_df = []\n",
    "for threshold in thresholds:\n",
    "    print('Threshold = ', threshold)\n",
    "    tc_th = tc_df[tc_df.tc_mipPt>threshold]\n",
    "    clusters = tc_th.groupby(['event', 'zside']).apply(cluster)\n",
    "    clusters.columns = ['ntc_th{:3.1f}'.format(threshold), 'sumpt_th{:3.1f}'.format(threshold)]\n",
    "    clusters_df.append(clusters)\n",
    "join_df = gen_df.join(clusters_df, how='left')"
   ]
  },
  {
   "cell_type": "code",
   "execution_count": 33,
   "metadata": {
    "ExecuteTime": {
     "end_time": "2020-11-05T12:54:24.421749Z",
     "start_time": "2020-11-05T12:54:24.056983Z"
    }
   },
   "outputs": [
    {
     "data": {
      "text/html": [
       "<div>\n",
       "<style scoped>\n",
       "    .dataframe tbody tr th:only-of-type {\n",
       "        vertical-align: middle;\n",
       "    }\n",
       "\n",
       "    .dataframe tbody tr th {\n",
       "        vertical-align: top;\n",
       "    }\n",
       "\n",
       "    .dataframe thead th {\n",
       "        text-align: right;\n",
       "    }\n",
       "</style>\n",
       "<table border=\"1\" class=\"dataframe\">\n",
       "  <thead>\n",
       "    <tr style=\"text-align: right;\">\n",
       "      <th></th>\n",
       "      <th></th>\n",
       "      <th>genpart_pid</th>\n",
       "      <th>genpart_exphi</th>\n",
       "      <th>genpart_exeta</th>\n",
       "      <th>genpart_gen</th>\n",
       "      <th>genpart_reachedEE</th>\n",
       "      <th>genpart_pt</th>\n",
       "      <th>genpart_energy</th>\n",
       "      <th>ntc_th0.5</th>\n",
       "      <th>sumpt_th0.5</th>\n",
       "      <th>ntc_th0.7</th>\n",
       "      <th>...</th>\n",
       "      <th>ntc_th1.3</th>\n",
       "      <th>sumpt_th1.3</th>\n",
       "      <th>ntc_th1.5</th>\n",
       "      <th>sumpt_th1.5</th>\n",
       "      <th>ntc_th1.7</th>\n",
       "      <th>sumpt_th1.7</th>\n",
       "      <th>ntc_th1.9</th>\n",
       "      <th>sumpt_th1.9</th>\n",
       "      <th>ntc_th2.1</th>\n",
       "      <th>sumpt_th2.1</th>\n",
       "    </tr>\n",
       "    <tr>\n",
       "      <th>event</th>\n",
       "      <th>zside</th>\n",
       "      <th></th>\n",
       "      <th></th>\n",
       "      <th></th>\n",
       "      <th></th>\n",
       "      <th></th>\n",
       "      <th></th>\n",
       "      <th></th>\n",
       "      <th></th>\n",
       "      <th></th>\n",
       "      <th></th>\n",
       "      <th></th>\n",
       "      <th></th>\n",
       "      <th></th>\n",
       "      <th></th>\n",
       "      <th></th>\n",
       "      <th></th>\n",
       "      <th></th>\n",
       "      <th></th>\n",
       "      <th></th>\n",
       "      <th></th>\n",
       "      <th></th>\n",
       "    </tr>\n",
       "  </thead>\n",
       "  <tbody>\n",
       "    <tr>\n",
       "      <th>184087</th>\n",
       "      <th>-1</th>\n",
       "      <td>22.0</td>\n",
       "      <td>-2.045267</td>\n",
       "      <td>-2.454621</td>\n",
       "      <td>2.0</td>\n",
       "      <td>2.0</td>\n",
       "      <td>17.448227</td>\n",
       "      <td>101.648224</td>\n",
       "      <td>108.0</td>\n",
       "      <td>17.088247</td>\n",
       "      <td>84.0</td>\n",
       "      <td>...</td>\n",
       "      <td>56.0</td>\n",
       "      <td>15.861299</td>\n",
       "      <td>53.0</td>\n",
       "      <td>15.740112</td>\n",
       "      <td>49.0</td>\n",
       "      <td>15.563952</td>\n",
       "      <td>44.0</td>\n",
       "      <td>15.305203</td>\n",
       "      <td>41.0</td>\n",
       "      <td>15.137552</td>\n",
       "    </tr>\n",
       "    <tr>\n",
       "      <th>184079</th>\n",
       "      <th>1</th>\n",
       "      <td>22.0</td>\n",
       "      <td>0.810039</td>\n",
       "      <td>1.754615</td>\n",
       "      <td>2.0</td>\n",
       "      <td>2.0</td>\n",
       "      <td>50.712860</td>\n",
       "      <td>154.791931</td>\n",
       "      <td>185.0</td>\n",
       "      <td>51.368614</td>\n",
       "      <td>153.0</td>\n",
       "      <td>...</td>\n",
       "      <td>106.0</td>\n",
       "      <td>49.522331</td>\n",
       "      <td>93.0</td>\n",
       "      <td>49.014072</td>\n",
       "      <td>85.0</td>\n",
       "      <td>48.650925</td>\n",
       "      <td>78.0</td>\n",
       "      <td>48.289486</td>\n",
       "      <td>71.0</td>\n",
       "      <td>47.886696</td>\n",
       "    </tr>\n",
       "    <tr>\n",
       "      <th rowspan=\"2\" valign=\"top\">184077</th>\n",
       "      <th>1</th>\n",
       "      <td>22.0</td>\n",
       "      <td>2.475756</td>\n",
       "      <td>1.978353</td>\n",
       "      <td>1.0</td>\n",
       "      <td>2.0</td>\n",
       "      <td>46.636906</td>\n",
       "      <td>171.330246</td>\n",
       "      <td>191.0</td>\n",
       "      <td>46.270607</td>\n",
       "      <td>165.0</td>\n",
       "      <td>...</td>\n",
       "      <td>111.0</td>\n",
       "      <td>44.357323</td>\n",
       "      <td>95.0</td>\n",
       "      <td>43.726212</td>\n",
       "      <td>86.0</td>\n",
       "      <td>43.316051</td>\n",
       "      <td>76.0</td>\n",
       "      <td>42.812363</td>\n",
       "      <td>69.0</td>\n",
       "      <td>42.420269</td>\n",
       "    </tr>\n",
       "    <tr>\n",
       "      <th>-1</th>\n",
       "      <td>22.0</td>\n",
       "      <td>-0.665825</td>\n",
       "      <td>-1.972232</td>\n",
       "      <td>2.0</td>\n",
       "      <td>2.0</td>\n",
       "      <td>46.636906</td>\n",
       "      <td>171.330246</td>\n",
       "      <td>210.0</td>\n",
       "      <td>46.249649</td>\n",
       "      <td>174.0</td>\n",
       "      <td>...</td>\n",
       "      <td>112.0</td>\n",
       "      <td>43.834999</td>\n",
       "      <td>100.0</td>\n",
       "      <td>43.363274</td>\n",
       "      <td>86.0</td>\n",
       "      <td>42.731331</td>\n",
       "      <td>78.0</td>\n",
       "      <td>42.323536</td>\n",
       "      <td>74.0</td>\n",
       "      <td>42.098965</td>\n",
       "    </tr>\n",
       "    <tr>\n",
       "      <th>184085</th>\n",
       "      <th>1</th>\n",
       "      <td>22.0</td>\n",
       "      <td>-0.872458</td>\n",
       "      <td>2.514664</td>\n",
       "      <td>1.0</td>\n",
       "      <td>2.0</td>\n",
       "      <td>23.064737</td>\n",
       "      <td>145.996597</td>\n",
       "      <td>116.0</td>\n",
       "      <td>23.535223</td>\n",
       "      <td>98.0</td>\n",
       "      <td>...</td>\n",
       "      <td>68.0</td>\n",
       "      <td>22.424026</td>\n",
       "      <td>63.0</td>\n",
       "      <td>22.227777</td>\n",
       "      <td>54.0</td>\n",
       "      <td>21.816570</td>\n",
       "      <td>48.0</td>\n",
       "      <td>21.501732</td>\n",
       "      <td>48.0</td>\n",
       "      <td>21.501732</td>\n",
       "    </tr>\n",
       "    <tr>\n",
       "      <th>...</th>\n",
       "      <th>...</th>\n",
       "      <td>...</td>\n",
       "      <td>...</td>\n",
       "      <td>...</td>\n",
       "      <td>...</td>\n",
       "      <td>...</td>\n",
       "      <td>...</td>\n",
       "      <td>...</td>\n",
       "      <td>...</td>\n",
       "      <td>...</td>\n",
       "      <td>...</td>\n",
       "      <td>...</td>\n",
       "      <td>...</td>\n",
       "      <td>...</td>\n",
       "      <td>...</td>\n",
       "      <td>...</td>\n",
       "      <td>...</td>\n",
       "      <td>...</td>\n",
       "      <td>...</td>\n",
       "      <td>...</td>\n",
       "      <td>...</td>\n",
       "      <td>...</td>\n",
       "    </tr>\n",
       "    <tr>\n",
       "      <th>188727</th>\n",
       "      <th>-1</th>\n",
       "      <td>22.0</td>\n",
       "      <td>-0.113154</td>\n",
       "      <td>-2.722822</td>\n",
       "      <td>2.0</td>\n",
       "      <td>2.0</td>\n",
       "      <td>63.895966</td>\n",
       "      <td>483.307190</td>\n",
       "      <td>223.0</td>\n",
       "      <td>63.557655</td>\n",
       "      <td>183.0</td>\n",
       "      <td>...</td>\n",
       "      <td>111.0</td>\n",
       "      <td>60.883518</td>\n",
       "      <td>102.0</td>\n",
       "      <td>60.530186</td>\n",
       "      <td>91.0</td>\n",
       "      <td>60.023190</td>\n",
       "      <td>87.0</td>\n",
       "      <td>59.825813</td>\n",
       "      <td>82.0</td>\n",
       "      <td>59.544998</td>\n",
       "    </tr>\n",
       "    <tr>\n",
       "      <th>188742</th>\n",
       "      <th>-1</th>\n",
       "      <td>22.0</td>\n",
       "      <td>-0.956907</td>\n",
       "      <td>-2.128352</td>\n",
       "      <td>1.0</td>\n",
       "      <td>2.0</td>\n",
       "      <td>49.653736</td>\n",
       "      <td>212.560211</td>\n",
       "      <td>204.0</td>\n",
       "      <td>48.005440</td>\n",
       "      <td>174.0</td>\n",
       "      <td>...</td>\n",
       "      <td>112.0</td>\n",
       "      <td>45.781406</td>\n",
       "      <td>96.0</td>\n",
       "      <td>45.169495</td>\n",
       "      <td>87.0</td>\n",
       "      <td>44.759995</td>\n",
       "      <td>76.0</td>\n",
       "      <td>44.193939</td>\n",
       "      <td>71.0</td>\n",
       "      <td>43.912140</td>\n",
       "    </tr>\n",
       "    <tr>\n",
       "      <th>188743</th>\n",
       "      <th>1</th>\n",
       "      <td>22.0</td>\n",
       "      <td>1.621536</td>\n",
       "      <td>1.930054</td>\n",
       "      <td>2.0</td>\n",
       "      <td>2.0</td>\n",
       "      <td>89.428711</td>\n",
       "      <td>314.771240</td>\n",
       "      <td>302.0</td>\n",
       "      <td>92.391426</td>\n",
       "      <td>247.0</td>\n",
       "      <td>...</td>\n",
       "      <td>173.0</td>\n",
       "      <td>89.256546</td>\n",
       "      <td>151.0</td>\n",
       "      <td>88.387444</td>\n",
       "      <td>131.0</td>\n",
       "      <td>87.363251</td>\n",
       "      <td>120.0</td>\n",
       "      <td>86.670471</td>\n",
       "      <td>113.0</td>\n",
       "      <td>86.266266</td>\n",
       "    </tr>\n",
       "    <tr>\n",
       "      <th>188733</th>\n",
       "      <th>1</th>\n",
       "      <td>22.0</td>\n",
       "      <td>-0.875340</td>\n",
       "      <td>2.702108</td>\n",
       "      <td>1.0</td>\n",
       "      <td>2.0</td>\n",
       "      <td>89.526367</td>\n",
       "      <td>670.203857</td>\n",
       "      <td>261.0</td>\n",
       "      <td>87.853104</td>\n",
       "      <td>205.0</td>\n",
       "      <td>...</td>\n",
       "      <td>140.0</td>\n",
       "      <td>84.540627</td>\n",
       "      <td>129.0</td>\n",
       "      <td>84.098381</td>\n",
       "      <td>117.0</td>\n",
       "      <td>83.551392</td>\n",
       "      <td>110.0</td>\n",
       "      <td>83.190155</td>\n",
       "      <td>107.0</td>\n",
       "      <td>82.954239</td>\n",
       "    </tr>\n",
       "    <tr>\n",
       "      <th>188747</th>\n",
       "      <th>1</th>\n",
       "      <td>22.0</td>\n",
       "      <td>3.022176</td>\n",
       "      <td>1.836215</td>\n",
       "      <td>2.0</td>\n",
       "      <td>2.0</td>\n",
       "      <td>66.138939</td>\n",
       "      <td>212.705246</td>\n",
       "      <td>237.0</td>\n",
       "      <td>68.683105</td>\n",
       "      <td>206.0</td>\n",
       "      <td>...</td>\n",
       "      <td>137.0</td>\n",
       "      <td>66.293854</td>\n",
       "      <td>126.0</td>\n",
       "      <td>65.856331</td>\n",
       "      <td>114.0</td>\n",
       "      <td>65.304985</td>\n",
       "      <td>106.0</td>\n",
       "      <td>64.897751</td>\n",
       "      <td>90.0</td>\n",
       "      <td>63.990692</td>\n",
       "    </tr>\n",
       "  </tbody>\n",
       "</table>\n",
       "<p>1069 rows × 25 columns</p>\n",
       "</div>"
      ],
      "text/plain": [
       "              genpart_pid  genpart_exphi  genpart_exeta  genpart_gen  \\\n",
       "event  zside                                                           \n",
       "184087 -1            22.0      -2.045267      -2.454621          2.0   \n",
       "184079  1            22.0       0.810039       1.754615          2.0   \n",
       "184077  1            22.0       2.475756       1.978353          1.0   \n",
       "       -1            22.0      -0.665825      -1.972232          2.0   \n",
       "184085  1            22.0      -0.872458       2.514664          1.0   \n",
       "...                   ...            ...            ...          ...   \n",
       "188727 -1            22.0      -0.113154      -2.722822          2.0   \n",
       "188742 -1            22.0      -0.956907      -2.128352          1.0   \n",
       "188743  1            22.0       1.621536       1.930054          2.0   \n",
       "188733  1            22.0      -0.875340       2.702108          1.0   \n",
       "188747  1            22.0       3.022176       1.836215          2.0   \n",
       "\n",
       "              genpart_reachedEE  genpart_pt  genpart_energy  ntc_th0.5  \\\n",
       "event  zside                                                             \n",
       "184087 -1                   2.0   17.448227      101.648224      108.0   \n",
       "184079  1                   2.0   50.712860      154.791931      185.0   \n",
       "184077  1                   2.0   46.636906      171.330246      191.0   \n",
       "       -1                   2.0   46.636906      171.330246      210.0   \n",
       "184085  1                   2.0   23.064737      145.996597      116.0   \n",
       "...                         ...         ...             ...        ...   \n",
       "188727 -1                   2.0   63.895966      483.307190      223.0   \n",
       "188742 -1                   2.0   49.653736      212.560211      204.0   \n",
       "188743  1                   2.0   89.428711      314.771240      302.0   \n",
       "188733  1                   2.0   89.526367      670.203857      261.0   \n",
       "188747  1                   2.0   66.138939      212.705246      237.0   \n",
       "\n",
       "              sumpt_th0.5  ntc_th0.7  ...  ntc_th1.3  sumpt_th1.3  ntc_th1.5  \\\n",
       "event  zside                          ...                                      \n",
       "184087 -1       17.088247       84.0  ...       56.0    15.861299       53.0   \n",
       "184079  1       51.368614      153.0  ...      106.0    49.522331       93.0   \n",
       "184077  1       46.270607      165.0  ...      111.0    44.357323       95.0   \n",
       "       -1       46.249649      174.0  ...      112.0    43.834999      100.0   \n",
       "184085  1       23.535223       98.0  ...       68.0    22.424026       63.0   \n",
       "...                   ...        ...  ...        ...          ...        ...   \n",
       "188727 -1       63.557655      183.0  ...      111.0    60.883518      102.0   \n",
       "188742 -1       48.005440      174.0  ...      112.0    45.781406       96.0   \n",
       "188743  1       92.391426      247.0  ...      173.0    89.256546      151.0   \n",
       "188733  1       87.853104      205.0  ...      140.0    84.540627      129.0   \n",
       "188747  1       68.683105      206.0  ...      137.0    66.293854      126.0   \n",
       "\n",
       "              sumpt_th1.5  ntc_th1.7  sumpt_th1.7  ntc_th1.9  sumpt_th1.9  \\\n",
       "event  zside                                                                \n",
       "184087 -1       15.740112       49.0    15.563952       44.0    15.305203   \n",
       "184079  1       49.014072       85.0    48.650925       78.0    48.289486   \n",
       "184077  1       43.726212       86.0    43.316051       76.0    42.812363   \n",
       "       -1       43.363274       86.0    42.731331       78.0    42.323536   \n",
       "184085  1       22.227777       54.0    21.816570       48.0    21.501732   \n",
       "...                   ...        ...          ...        ...          ...   \n",
       "188727 -1       60.530186       91.0    60.023190       87.0    59.825813   \n",
       "188742 -1       45.169495       87.0    44.759995       76.0    44.193939   \n",
       "188743  1       88.387444      131.0    87.363251      120.0    86.670471   \n",
       "188733  1       84.098381      117.0    83.551392      110.0    83.190155   \n",
       "188747  1       65.856331      114.0    65.304985      106.0    64.897751   \n",
       "\n",
       "              ntc_th2.1  sumpt_th2.1  \n",
       "event  zside                          \n",
       "184087 -1          41.0    15.137552  \n",
       "184079  1          71.0    47.886696  \n",
       "184077  1          69.0    42.420269  \n",
       "       -1          74.0    42.098965  \n",
       "184085  1          48.0    21.501732  \n",
       "...                 ...          ...  \n",
       "188727 -1          82.0    59.544998  \n",
       "188742 -1          71.0    43.912140  \n",
       "188743  1         113.0    86.266266  \n",
       "188733  1         107.0    82.954239  \n",
       "188747  1          90.0    63.990692  \n",
       "\n",
       "[1069 rows x 25 columns]"
      ]
     },
     "execution_count": 33,
     "metadata": {},
     "output_type": "execute_result"
    }
   ],
   "source": [
    "join_df"
   ]
  },
  {
   "cell_type": "code",
   "execution_count": 28,
   "metadata": {
    "ExecuteTime": {
     "end_time": "2020-11-05T12:39:02.292435Z",
     "start_time": "2020-11-05T12:39:02.143364Z"
    }
   },
   "outputs": [
    {
     "data": {
      "text/plain": [
       "<matplotlib.collections.PathCollection at 0x7ff3f43115c0>"
      ]
     },
     "execution_count": 28,
     "metadata": {},
     "output_type": "execute_result"
    },
    {
     "data": {
      "image/png": "[encoded data removed]",
      "text/plain": [
       "<Figure size 432x288 with 1 Axes>"
      ]
     },
     "metadata": {
      "needs_background": "light"
     },
     "output_type": "display_data"
    }
   ],
   "source": [
    "plt.scatter(join_df.genpart_pt, join_df['ntc_th1.1'])\n",
    "plt.scatter(join_df.genpart_pt, join_df['ntc_th2.1'])"
   ]
  },
  {
   "cell_type": "code",
   "execution_count": 32,
   "metadata": {
    "ExecuteTime": {
     "end_time": "2020-11-05T12:45:25.602958Z",
     "start_time": "2020-11-05T12:45:25.439776Z"
    }
   },
   "outputs": [
    {
     "data": {
      "text/plain": [
       "<matplotlib.collections.PathCollection at 0x7ff3e5a1f518>"
      ]
     },
     "execution_count": 32,
     "metadata": {},
     "output_type": "execute_result"
    },
    {
     "data": {
      "image/png": "[encoded data removed]",
      "text/plain": [
       "<Figure size 432x288 with 1 Axes>"
      ]
     },
     "metadata": {
      "needs_background": "light"
     },
     "output_type": "display_data"
    }
   ],
   "source": [
    "plt.scatter(np.abs(join_df.genpart_exeta), join_df['ntc_th1.1'])\n",
    "plt.scatter(np.abs(join_df.genpart_exeta), join_df['ntc_th2.1'])"
   ]
  },
  {
   "cell_type": "code",
   "execution_count": 29,
   "metadata": {
    "ExecuteTime": {
     "end_time": "2020-11-05T12:41:27.977742Z",
     "start_time": "2020-11-05T12:41:27.511589Z"
    }
   },
   "outputs": [
    {
     "data": {
      "text/plain": [
       "<matplotlib.collections.PathCollection at 0x7ff3e1d9d7f0>"
      ]
     },
     "execution_count": 29,
     "metadata": {},
     "output_type": "execute_result"
    },
    {
     "data": {
      "image/png": "[encoded data removed]",
      "text/plain": [
       "<Figure size 432x288 with 1 Axes>"
      ]
     },
     "metadata": {
      "needs_background": "light"
     },
     "output_type": "display_data"
    }
   ],
   "source": [
    "plt.scatter(join_df.genpart_pt, join_df['sumpt_th1.1']/join_df.genpart_pt)\n",
    "plt.scatter(join_df.genpart_pt, join_df['sumpt_th2.1']/join_df.genpart_pt)"
   ]
  },
  {
   "cell_type": "code",
   "execution_count": 37,
   "metadata": {
    "ExecuteTime": {
     "end_time": "2020-11-05T12:57:23.567478Z",
     "start_time": "2020-11-05T12:57:23.227187Z"
    }
   },
   "outputs": [],
   "source": [
    "from sklearn.preprocessing import StandardScaler\n",
    "scaler = StandardScaler()\n",
    "rescaled_df = pd.DataFrame(scaler.fit_transform(join_df), columns=join_df.columns)"
   ]
  },
  {
   "cell_type": "code",
   "execution_count": 50,
   "metadata": {
    "ExecuteTime": {
     "end_time": "2020-11-05T15:07:07.869390Z",
     "start_time": "2020-11-05T15:07:07.341258Z"
    }
   },
   "outputs": [
    {
     "data": {
      "image/png": "[encoded data removed]",
      "text/plain": [
       "<Figure size 432x288 with 1 Axes>"
      ]
     },
     "metadata": {
      "needs_background": "light"
     },
     "output_type": "display_data"
    }
   ],
   "source": [
    "plt.hist(rescaled_df.genpart_pt, bins=50)\n",
    "plt.show()"
   ]
  },
  {
   "cell_type": "code",
   "execution_count": 49,
   "metadata": {
    "ExecuteTime": {
     "end_time": "2020-11-05T15:04:50.296109Z",
     "start_time": "2020-11-05T15:04:25.948335Z"
    }
   },
   "outputs": [],
   "source": [
    "from sklearn.gaussian_process import GaussianProcessRegressor\n",
    "from sklearn.gaussian_process.kernels import RBF, WhiteKernel\n",
    "kernel = 1.*RBF(length_scale=0.1,length_scale_bounds=(0.01,1))+WhiteKernel(noise_level=1,noise_level_bounds=(1e-10,10))\n",
    "gp = GaussianProcessRegressor(kernel=kernel, \n",
    "                              alpha=1e-10, random_state=0, \n",
    "                              n_restarts_optimizer=5).fit(rescaled_df.genpart_pt.values.reshape(-1,1), rescaled_df['ntc_th1.1'])\n"
   ]
  },
  {
   "cell_type": "code",
   "execution_count": 60,
   "metadata": {
    "ExecuteTime": {
     "end_time": "2020-11-05T15:13:48.928454Z",
     "start_time": "2020-11-05T15:13:48.863471Z"
    }
   },
   "outputs": [],
   "source": [
    "xs = np.arange(-2,2,step=0.01)\n",
    "mu, cov = gp.predict(xs.reshape(-1,1),return_cov=True)\n",
    "sigma = np.sqrt(np.diag(cov))"
   ]
  },
  {
   "cell_type": "code",
   "execution_count": 61,
   "metadata": {
    "ExecuteTime": {
     "end_time": "2020-11-05T15:13:50.094445Z",
     "start_time": "2020-11-05T15:13:49.950705Z"
    }
   },
   "outputs": [
    {
     "data": {
      "image/png": "[encoded data removed]",
      "text/plain": [
       "<Figure size 432x288 with 1 Axes>"
      ]
     },
     "metadata": {
      "needs_background": "light"
     },
     "output_type": "display_data"
    }
   ],
   "source": [
    "plt.plot(xs, mu, color='#0504aa', label='Mean 1D')\n",
    "plt.plot(xs, (mu+sigma), color='#0165fc', linestyle='--')\n",
    "plt.plot(xs, (mu-sigma), color='#0165fc', linestyle='--')\n",
    "plt.fill_between(xs, (mu+sigma),(mu-sigma),alpha=0.2, fc='#0165fc', label='Accuracy interval 1D')\n",
    "plt.scatter(rescaled_df.genpart_pt, rescaled_df['ntc_th1.1'], alpha=0.2)\n",
    "plt.show()"
   ]
  },
  {
   "cell_type": "code",
   "execution_count": 57,
   "metadata": {
    "ExecuteTime": {
     "end_time": "2020-11-06T09:43:42.291487Z",
     "start_time": "2020-11-06T09:43:41.796093Z"
    }
   },
   "outputs": [
    {
     "name": "stderr",
     "output_type": "stream",
     "text": [
      "/opt/exp_soft/llr/python/3.7.0/el7/lib/python3.7/site-packages/ipykernel_launcher.py:2: SettingWithCopyWarning:\n",
      "\n",
      "\n",
      "A value is trying to be set on a copy of a slice from a DataFrame.\n",
      "Try using .loc[row_indexer,col_indexer] = value instead\n",
      "\n",
      "See the caveats in the documentation: https://pandas.pydata.org/pandas-docs/stable/user_guide/indexing.html#returning-a-view-versus-a-copy\n",
      "\n",
      "/opt/exp_soft/llr/python/3.7.0/el7/lib/python3.7/site-packages/ipykernel_launcher.py:3: SettingWithCopyWarning:\n",
      "\n",
      "\n",
      "A value is trying to be set on a copy of a slice from a DataFrame.\n",
      "Try using .loc[row_indexer,col_indexer] = value instead\n",
      "\n",
      "See the caveats in the documentation: https://pandas.pydata.org/pandas-docs/stable/user_guide/indexing.html#returning-a-view-versus-a-copy\n",
      "\n"
     ]
    }
   ],
   "source": [
    "tc_test = tc_df.query('entry==1 & zside==1 & tc_simenergy>0')\n",
    "tc_test['xz'] = tc_test.tc_x/np.abs(tc_test.tc_z)\n",
    "tc_test['yz'] = tc_test.tc_y/np.abs(tc_test.tc_z)"
   ]
  },
  {
   "cell_type": "code",
   "execution_count": 58,
   "metadata": {
    "ExecuteTime": {
     "end_time": "2020-11-06T09:43:43.531230Z",
     "start_time": "2020-11-06T09:43:43.473344Z"
    }
   },
   "outputs": [
    {
     "data": {
      "text/html": [
       "<div>\n",
       "<style scoped>\n",
       "    .dataframe tbody tr th:only-of-type {\n",
       "        vertical-align: middle;\n",
       "    }\n",
       "\n",
       "    .dataframe tbody tr th {\n",
       "        vertical-align: top;\n",
       "    }\n",
       "\n",
       "    .dataframe thead th {\n",
       "        text-align: right;\n",
       "    }\n",
       "</style>\n",
       "<table border=\"1\" class=\"dataframe\">\n",
       "  <thead>\n",
       "    <tr style=\"text-align: right;\">\n",
       "      <th></th>\n",
       "      <th></th>\n",
       "      <th>subentry</th>\n",
       "      <th>event</th>\n",
       "      <th>tc_subdet</th>\n",
       "      <th>tc_layer</th>\n",
       "      <th>tc_mipPt</th>\n",
       "      <th>tc_energy</th>\n",
       "      <th>tc_pt</th>\n",
       "      <th>tc_eta</th>\n",
       "      <th>tc_phi</th>\n",
       "      <th>tc_x</th>\n",
       "      <th>tc_y</th>\n",
       "      <th>tc_z</th>\n",
       "      <th>tc_simenergy</th>\n",
       "      <th>xz</th>\n",
       "      <th>yz</th>\n",
       "    </tr>\n",
       "    <tr>\n",
       "      <th>entry</th>\n",
       "      <th>zside</th>\n",
       "      <th></th>\n",
       "      <th></th>\n",
       "      <th></th>\n",
       "      <th></th>\n",
       "      <th></th>\n",
       "      <th></th>\n",
       "      <th></th>\n",
       "      <th></th>\n",
       "      <th></th>\n",
       "      <th></th>\n",
       "      <th></th>\n",
       "      <th></th>\n",
       "      <th></th>\n",
       "      <th></th>\n",
       "      <th></th>\n",
       "    </tr>\n",
       "  </thead>\n",
       "  <tbody>\n",
       "    <tr>\n",
       "      <th rowspan=\"11\" valign=\"top\">1</th>\n",
       "      <th>1</th>\n",
       "      <td>475</td>\n",
       "      <td>2</td>\n",
       "      <td>1</td>\n",
       "      <td>11</td>\n",
       "      <td>0.436244</td>\n",
       "      <td>0.095654</td>\n",
       "      <td>0.012388</td>\n",
       "      <td>2.732934</td>\n",
       "      <td>1.640274</td>\n",
       "      <td>-3.055181</td>\n",
       "      <td>43.902790</td>\n",
       "      <td>336.952759</td>\n",
       "      <td>0.033768</td>\n",
       "      <td>-0.009067</td>\n",
       "      <td>0.130294</td>\n",
       "    </tr>\n",
       "    <tr>\n",
       "      <th>1</th>\n",
       "      <td>508</td>\n",
       "      <td>2</td>\n",
       "      <td>1</td>\n",
       "      <td>5</td>\n",
       "      <td>0.289196</td>\n",
       "      <td>0.040693</td>\n",
       "      <td>0.008216</td>\n",
       "      <td>2.282752</td>\n",
       "      <td>1.387868</td>\n",
       "      <td>12.301889</td>\n",
       "      <td>66.498077</td>\n",
       "      <td>328.042755</td>\n",
       "      <td>0.036441</td>\n",
       "      <td>0.037501</td>\n",
       "      <td>0.202712</td>\n",
       "    </tr>\n",
       "    <tr>\n",
       "      <th>1</th>\n",
       "      <td>551</td>\n",
       "      <td>2</td>\n",
       "      <td>1</td>\n",
       "      <td>11</td>\n",
       "      <td>0.417509</td>\n",
       "      <td>0.066805</td>\n",
       "      <td>0.011856</td>\n",
       "      <td>2.414113</td>\n",
       "      <td>1.412514</td>\n",
       "      <td>9.577878</td>\n",
       "      <td>60.005169</td>\n",
       "      <td>336.952759</td>\n",
       "      <td>0.041923</td>\n",
       "      <td>0.028425</td>\n",
       "      <td>0.178082</td>\n",
       "    </tr>\n",
       "    <tr>\n",
       "      <th>1</th>\n",
       "      <td>552</td>\n",
       "      <td>2</td>\n",
       "      <td>1</td>\n",
       "      <td>11</td>\n",
       "      <td>0.282931</td>\n",
       "      <td>0.043120</td>\n",
       "      <td>0.008034</td>\n",
       "      <td>2.364613</td>\n",
       "      <td>1.354105</td>\n",
       "      <td>13.738898</td>\n",
       "      <td>62.407532</td>\n",
       "      <td>336.952759</td>\n",
       "      <td>0.022640</td>\n",
       "      <td>0.040774</td>\n",
       "      <td>0.185212</td>\n",
       "    </tr>\n",
       "    <tr>\n",
       "      <th>1</th>\n",
       "      <td>554</td>\n",
       "      <td>2</td>\n",
       "      <td>1</td>\n",
       "      <td>11</td>\n",
       "      <td>1.289647</td>\n",
       "      <td>0.230680</td>\n",
       "      <td>0.036622</td>\n",
       "      <td>2.527162</td>\n",
       "      <td>1.380067</td>\n",
       "      <td>10.271382</td>\n",
       "      <td>53.198460</td>\n",
       "      <td>336.952759</td>\n",
       "      <td>0.128003</td>\n",
       "      <td>0.030483</td>\n",
       "      <td>0.157881</td>\n",
       "    </tr>\n",
       "    <tr>\n",
       "      <th>...</th>\n",
       "      <td>...</td>\n",
       "      <td>...</td>\n",
       "      <td>...</td>\n",
       "      <td>...</td>\n",
       "      <td>...</td>\n",
       "      <td>...</td>\n",
       "      <td>...</td>\n",
       "      <td>...</td>\n",
       "      <td>...</td>\n",
       "      <td>...</td>\n",
       "      <td>...</td>\n",
       "      <td>...</td>\n",
       "      <td>...</td>\n",
       "      <td>...</td>\n",
       "      <td>...</td>\n",
       "    </tr>\n",
       "    <tr>\n",
       "      <th>1</th>\n",
       "      <td>3158</td>\n",
       "      <td>2</td>\n",
       "      <td>2</td>\n",
       "      <td>29</td>\n",
       "      <td>0.247878</td>\n",
       "      <td>0.146826</td>\n",
       "      <td>0.024760</td>\n",
       "      <td>2.465975</td>\n",
       "      <td>1.607551</td>\n",
       "      <td>-2.311678</td>\n",
       "      <td>62.865662</td>\n",
       "      <td>367.699005</td>\n",
       "      <td>0.094718</td>\n",
       "      <td>-0.006287</td>\n",
       "      <td>0.170970</td>\n",
       "    </tr>\n",
       "    <tr>\n",
       "      <th>1</th>\n",
       "      <td>3160</td>\n",
       "      <td>2</td>\n",
       "      <td>2</td>\n",
       "      <td>29</td>\n",
       "      <td>0.260886</td>\n",
       "      <td>0.140610</td>\n",
       "      <td>0.026059</td>\n",
       "      <td>2.370057</td>\n",
       "      <td>1.524111</td>\n",
       "      <td>3.236349</td>\n",
       "      <td>69.271973</td>\n",
       "      <td>367.699005</td>\n",
       "      <td>0.098897</td>\n",
       "      <td>0.008802</td>\n",
       "      <td>0.188393</td>\n",
       "    </tr>\n",
       "    <tr>\n",
       "      <th>1</th>\n",
       "      <td>3161</td>\n",
       "      <td>2</td>\n",
       "      <td>2</td>\n",
       "      <td>29</td>\n",
       "      <td>0.394918</td>\n",
       "      <td>0.209541</td>\n",
       "      <td>0.039448</td>\n",
       "      <td>2.354107</td>\n",
       "      <td>1.554397</td>\n",
       "      <td>1.155839</td>\n",
       "      <td>70.473152</td>\n",
       "      <td>367.699005</td>\n",
       "      <td>0.155163</td>\n",
       "      <td>0.003143</td>\n",
       "      <td>0.191660</td>\n",
       "    </tr>\n",
       "    <tr>\n",
       "      <th>1</th>\n",
       "      <td>3205</td>\n",
       "      <td>2</td>\n",
       "      <td>2</td>\n",
       "      <td>30</td>\n",
       "      <td>0.119737</td>\n",
       "      <td>0.044491</td>\n",
       "      <td>0.007333</td>\n",
       "      <td>2.489176</td>\n",
       "      <td>1.349465</td>\n",
       "      <td>13.688898</td>\n",
       "      <td>60.834820</td>\n",
       "      <td>373.149048</td>\n",
       "      <td>0.054683</td>\n",
       "      <td>0.036685</td>\n",
       "      <td>0.163031</td>\n",
       "    </tr>\n",
       "    <tr>\n",
       "      <th>1</th>\n",
       "      <td>3268</td>\n",
       "      <td>2</td>\n",
       "      <td>2</td>\n",
       "      <td>29</td>\n",
       "      <td>0.117722</td>\n",
       "      <td>0.078026</td>\n",
       "      <td>0.011759</td>\n",
       "      <td>2.579827</td>\n",
       "      <td>1.625326</td>\n",
       "      <td>-3.055181</td>\n",
       "      <td>55.972351</td>\n",
       "      <td>367.699005</td>\n",
       "      <td>0.083298</td>\n",
       "      <td>-0.008309</td>\n",
       "      <td>0.152223</td>\n",
       "    </tr>\n",
       "  </tbody>\n",
       "</table>\n",
       "<p>438 rows × 15 columns</p>\n",
       "</div>"
      ],
      "text/plain": [
       "             subentry  event  tc_subdet  tc_layer  tc_mipPt  tc_energy  \\\n",
       "entry zside                                                              \n",
       "1     1           475      2          1        11  0.436244   0.095654   \n",
       "      1           508      2          1         5  0.289196   0.040693   \n",
       "      1           551      2          1        11  0.417509   0.066805   \n",
       "      1           552      2          1        11  0.282931   0.043120   \n",
       "      1           554      2          1        11  1.289647   0.230680   \n",
       "...               ...    ...        ...       ...       ...        ...   \n",
       "      1          3158      2          2        29  0.247878   0.146826   \n",
       "      1          3160      2          2        29  0.260886   0.140610   \n",
       "      1          3161      2          2        29  0.394918   0.209541   \n",
       "      1          3205      2          2        30  0.119737   0.044491   \n",
       "      1          3268      2          2        29  0.117722   0.078026   \n",
       "\n",
       "                tc_pt    tc_eta    tc_phi       tc_x       tc_y        tc_z  \\\n",
       "entry zside                                                                   \n",
       "1     1      0.012388  2.732934  1.640274  -3.055181  43.902790  336.952759   \n",
       "      1      0.008216  2.282752  1.387868  12.301889  66.498077  328.042755   \n",
       "      1      0.011856  2.414113  1.412514   9.577878  60.005169  336.952759   \n",
       "      1      0.008034  2.364613  1.354105  13.738898  62.407532  336.952759   \n",
       "      1      0.036622  2.527162  1.380067  10.271382  53.198460  336.952759   \n",
       "...               ...       ...       ...        ...        ...         ...   \n",
       "      1      0.024760  2.465975  1.607551  -2.311678  62.865662  367.699005   \n",
       "      1      0.026059  2.370057  1.524111   3.236349  69.271973  367.699005   \n",
       "      1      0.039448  2.354107  1.554397   1.155839  70.473152  367.699005   \n",
       "      1      0.007333  2.489176  1.349465  13.688898  60.834820  373.149048   \n",
       "      1      0.011759  2.579827  1.625326  -3.055181  55.972351  367.699005   \n",
       "\n",
       "             tc_simenergy        xz        yz  \n",
       "entry zside                                    \n",
       "1     1          0.033768 -0.009067  0.130294  \n",
       "      1          0.036441  0.037501  0.202712  \n",
       "      1          0.041923  0.028425  0.178082  \n",
       "      1          0.022640  0.040774  0.185212  \n",
       "      1          0.128003  0.030483  0.157881  \n",
       "...                   ...       ...       ...  \n",
       "      1          0.094718 -0.006287  0.170970  \n",
       "      1          0.098897  0.008802  0.188393  \n",
       "      1          0.155163  0.003143  0.191660  \n",
       "      1          0.054683  0.036685  0.163031  \n",
       "      1          0.083298 -0.008309  0.152223  \n",
       "\n",
       "[438 rows x 15 columns]"
      ]
     },
     "execution_count": 58,
     "metadata": {},
     "output_type": "execute_result"
    }
   ],
   "source": [
    "tc_test"
   ]
  },
  {
   "cell_type": "code",
   "execution_count": 59,
   "metadata": {
    "ExecuteTime": {
     "end_time": "2020-11-06T09:43:45.364247Z",
     "start_time": "2020-11-06T09:43:45.131099Z"
    }
   },
   "outputs": [
    {
     "data": {
      "application/vnd.plotly.v1+json": {
       "config": {
        "plotlyServerURL": "https://plot.ly"
       },
       "data": [
        {
         "hovertemplate": "xz=%{x}<br>yz=%{y}<br>tc_energy=%{marker.color}<extra></extra>",
         "legendgroup": "",
         "marker": {
          "color": [
           0.09565415978431702,
           0.04069281741976738,
           0.0668046623468399,
           0.0431203655898571,
           0.23068001866340637,
           0.15590734779834747,
           0.05178900063037872,
           0.151193305850029,
           0.04347403347492218,
           0.11005108803510666,
           0.06418513506650925,
           0.25099340081214905,
           0.1179906576871872,
           0.7676429152488708,
           0.022383898496627808,
           0.04257664456963539,
           0.07173424959182739,
           0.2340427041053772,
           0.049146492034196854,
           0.29299306869506836,
           0.2368517965078354,
           1.0453262329101562,
           0.14352275431156158,
           0.4371475279331207,
           0.4196062982082367,
           0.44210031628608704,
           0.0704658180475235,
           0.21766279637813568,
           0.1341935396194458,
           0.2298445999622345,
           0.12355681508779526,
           0.18006211519241333,
           0.06429728865623474,
           0.29508188366889954,
           0.0625389814376831,
           1.752016544342041,
           0.35797905921936035,
           0.21632708609104156,
           0.21830685436725616,
           0.5207415223121643,
           0.21985089778900146,
           0.7087535262107849,
           0.5558969378471375,
           0.024959346279501915,
           0.13492228090763092,
           0.06388530135154724,
           0.13144144415855408,
           7.969375133514404,
           22.74132537841797,
           0.5093955397605896,
           2.32371187210083,
           0.23652903735637665,
           0.28029167652130127,
           9.681042671203613,
           1.3002727031707764,
           0.9429193139076233,
           1.4980260133743286,
           1.9090698957443237,
           2.141387462615967,
           0.14986026287078857,
           1.6903674602508545,
           0.5654955506324768,
           0.730306088924408,
           0.4835888147354126,
           0.12034916877746582,
           0.18147516250610352,
           0.3697647750377655,
           0.06391988694667816,
           0.12579882144927979,
           6.869190216064453,
           1.0767172574996948,
           0.08806310594081879,
           10.479339599609375,
           0.154868021607399,
           0.10579804331064224,
           0.043450504541397095,
           0.43437668681144714,
           0.05123232677578926,
           0.02320249006152153,
           0.214625746011734,
           0.38309261202812195,
           0.5451188683509827,
           2.852774143218994,
           105.13227081298828,
           0.39168408513069153,
           5.523411273956299,
           0.08718623220920563,
           0.4694364666938782,
           3.8680665493011475,
           1.0328673124313354,
           0.14486949145793915,
           0.4825662076473236,
           0.08629903197288513,
           1.0594066381454468,
           0.3364051282405853,
           0.10032357275485992,
           0.07518373429775238,
           0.30099233984947205,
           0.39909833669662476,
           0.7077955007553101,
           0.05898335948586464,
           0.0522199384868145,
           0.10747328400611877,
           0.09259344637393951,
           0.21212385594844818,
           0.2729904353618622,
           0.14571648836135864,
           0.022585781291127205,
           0.02161651849746704,
           0.933400571346283,
           0.04256689175963402,
           0.21234777569770813,
           0.06520106643438339,
           0.22117847204208374,
           0.08566737920045853,
           0.48139330744743347,
           0.22304439544677734,
           0.1252754032611847,
           0.040941838175058365,
           0.09465734660625458,
           0.2074337750673294,
           0.041104577481746674,
           0.1425521969795227,
           0.040870074182748795,
           0.08072267472743988,
           0.15552473068237305,
           1.5039634704589844,
           0.6020739078521729,
           0.04447714611887932,
           7.048619270324707,
           0.07960914075374603,
           0.07188122719526291,
           0.04916130751371384,
           0.04261248931288719,
           0.30771735310554504,
           0.022812796756625175,
           0.02137663960456848,
           0.9736098051071167,
           1.3417179584503174,
           2.089120864868164,
           2.2401528358459473,
           0.2955035865306854,
           0.5086669921875,
           1.1240357160568237,
           0.21175527572631836,
           0.07779335975646973,
           0.0900404304265976,
           0.9609684944152832,
           0.047403376549482346,
           0.3883490264415741,
           0.3037211298942566,
           1.466867446899414,
           0.1380213499069214,
           0.053615935146808624,
           0.14574627578258514,
           0.4606935679912567,
           0.02178046479821205,
           0.24630600214004517,
           0.29782378673553467,
           0.3380618691444397,
           1.2108755111694336,
           0.2209254950284958,
           0.043317053467035294,
           0.3143371641635895,
           1.8677899837493896,
           0.08472505211830139,
           14.168379783630371,
           0.6415264010429382,
           0.07855288684368134,
           3.605034112930298,
           0.20433983206748962,
           0.6182713508605957,
           0.546179473400116,
           0.4746127426624298,
           1.9227294921875,
           0.3145713806152344,
           4.443505764007568,
           0.1531475931406021,
           0.13020309805870056,
           0.09934353083372116,
           0.5263051390647888,
           0.08582428097724915,
           0.18582837283611298,
           1.2464617490768433,
           0.10513335466384888,
           0.027113253250718117,
           0.40447908639907837,
           0.06559240072965622,
           0.5629590153694153,
           0.044155366718769073,
           0.18867941200733185,
           0.1404058188199997,
           0.22553026676177979,
           0.9432204365730286,
           0.08406537026166916,
           0.050773415714502335,
           0.2858508825302124,
           0.06905046105384827,
           0.3210088014602661,
           0.1358819454908371,
           0.6453243494033813,
           0.08691414445638657,
           0.08919607847929001,
           0.5321831107139587,
           0.02120969258248806,
           0.09281031042337418,
           0.2365472912788391,
           2.2782349586486816,
           0.11415961384773254,
           0.22722309827804565,
           0.15352903306484222,
           0.10971128940582275,
           0.024425018578767776,
           0.3023708462715149,
           0.04547171667218208,
           1.7377135753631592,
           0.10739877074956894,
           0.043362878262996674,
           1.9315667152404785,
           0.297847718000412,
           0.020875345915555954,
           1.140695333480835,
           0.3186056911945343,
           0.09509400278329849,
           0.215523362159729,
           85.56787872314453,
           7.414783000946045,
           1.4351404905319214,
           0.3109573423862457,
           0.27555686235427856,
           0.23979942500591278,
           0.06610278785228729,
           5.456792831420898,
           0.026403142139315605,
           0.029434029012918472,
           0.37883251905441284,
           0.6266809701919556,
           0.020690198987722397,
           0.16279828548431396,
           0.2830059826374054,
           0.13081888854503632,
           0.04300960898399353,
           0.06481435894966125,
           0.040924519300460815,
           0.08455079048871994,
           0.05875847116112709,
           0.04140104725956917,
           0.04428613558411598,
           0.1071731373667717,
           0.4604843258857727,
           0.3160403370857239,
           0.5992953777313232,
           0.4619300961494446,
           0.24017073214054108,
           0.6838554739952087,
           0.2603490948677063,
           0.06490959972143173,
           1.459783911705017,
           1.5975075960159302,
           0.7742516398429871,
           0.13145768642425537,
           3.8177177906036377,
           0.6570882201194763,
           0.5477527379989624,
           0.8153184056282043,
           0.3598215579986572,
           7.969880104064941,
           0.886029839515686,
           0.33231186866760254,
           0.5095699429512024,
           28.42978286743164,
           0.6369079351425171,
           38.72331237792969,
           1.300492763519287,
           1.7876416444778442,
           1.5662288665771484,
           0.9390421509742737,
           0.5715765357017517,
           0.1684655100107193,
           0.15197619795799255,
           0.13476857542991638,
           0.055511150509119034,
           0.045827414840459824,
           0.04058901593089104,
           0.1473666876554489,
           0.14842258393764496,
           0.041354648768901825,
           0.04179215431213379,
           0.18845689296722412,
           0.1277923583984375,
           0.12580038607120514,
           0.10396496951580048,
           0.04455479606986046,
           0.22938001155853271,
           0.142648383975029,
           0.1547631025314331,
           0.29854336380958557,
           0.1153024286031723,
           0.04082142189145088,
           0.3349483609199524,
           0.10049885511398315,
           0.040470972657203674,
           0.04086412861943245,
           0.06324325501918793,
           0.063323013484478,
           0.022003302350640297,
           0.19298815727233887,
           0.1818343549966812,
           0.0841381773352623,
           0.08009827882051468,
           0.05192791298031807,
           0.14840993285179138,
           0.33984875679016113,
           9.106843948364258,
           0.025004349648952484,
           3.482180118560791,
           4.853365898132324,
           0.7862498760223389,
           0.14871296286582947,
           0.025426914915442467,
           0.0647309198975563,
           0.3924928605556488,
           0.9923703074455261,
           0.07176065444946289,
           0.5639985799789429,
           0.17159166932106018,
           0.3357079029083252,
           1.3813027143478394,
           0.8828502297401428,
           7.927073955535889,
           0.20941326022148132,
           0.7261598706245422,
           0.15599818527698517,
           0.43229740858078003,
           14.161940574645996,
           1.6018401384353638,
           0.4467381536960602,
           88.8190689086914,
           0.6137632131576538,
           0.051013510674238205,
           0.07966714352369308,
           0.3208049535751343,
           0.2795398235321045,
           0.020991655066609383,
           0.21536625921726227,
           0.9073764085769653,
           12.795709609985352,
           0.10665477812290192,
           1.584608793258667,
           0.04420284554362297,
           0.24044452607631683,
           0.04907141253352165,
           0.02320638671517372,
           0.06388473510742188,
           0.21493467688560486,
           0.634926974773407,
           41.81730270385742,
           0.06521428376436234,
           0.3070593774318695,
           0.22636321187019348,
           0.2393118441104889,
           0.018057525157928467,
           0.06297225505113602,
           0.3733408451080322,
           0.10274118930101395,
           0.2131260484457016,
           1.8587218523025513,
           0.043492913246154785,
           1.0405668020248413,
           0.08768017590045929,
           13.738373756408691,
           0.042375363409519196,
           0.04378419369459152,
           0.10942573100328445,
           0.04757444187998772,
           0.13645972311496735,
           0.08450724184513092,
           0.080577053129673,
           0.23068644106388092,
           0.18952465057373047,
           0.30755043029785156,
           0.3449123203754425,
           0.4605799913406372,
           0.041260331869125366,
           0.04260295256972313,
           0.15988539159297943,
           0.0520738922059536,
           0.14421352744102478,
           0.06236620992422104,
           0.06073181331157684,
           0.08402200043201447,
           0.04697459936141968,
           0.04387831315398216,
           0.059378113597631454,
           0.1667633354663849,
           0.02068742923438549,
           0.043927617371082306,
           0.522494375705719,
           0.05380796268582344,
           0.020531943067908287,
           0.46752145886421204,
           0.04099249467253685,
           0.16505670547485352,
           0.06207140535116196,
           0.46359172463417053,
           0.0402350127696991,
           0.2918909788131714,
           0.02100459858775139,
           0.18690825998783112,
           0.20149943232536316,
           0.22168956696987152,
           0.06195668503642082,
           0.12282342463731766,
           0.0862772986292839,
           0.06215563416481018,
           0.6776118278503418,
           0.13322897255420685,
           0.1881028115749359,
           0.16886286437511444,
           0.37411198019981384,
           0.08521732687950134,
           0.15627732872962952,
           0.3032340407371521,
           0.020615587010979652,
           0.2221284806728363,
           0.14144030213356018,
           0.09582924097776413,
           0.36064204573631287,
           0.016720905900001526,
           0.024463463574647903,
           0.008359501138329506,
           0.431465744972229,
           0.03254613280296326,
           0.14682646095752716,
           0.14061027765274048,
           0.20954060554504395,
           0.04449091851711273,
           0.07802558690309525
          ],
          "coloraxis": "coloraxis",
          "symbol": "circle"
         },
         "mode": "markers",
         "name": "",
         "orientation": "v",
         "showlegend": false,
         "type": "scatter",
         "x": [
          -0.009067089296877384,
          0.03750087320804596,
          0.028424987569451332,
          0.04077396169304848,
          0.030483152717351913,
          0.012355843558907509,
          -0.0006515940185636282,
          -0.006515939719974995,
          -0.014335067011415958,
          -0.008470721542835236,
          0.0032579698599874973,
          -0.002606375841423869,
          0.01498666126281023,
          -0.002606375841423869,
          -0.002606375841423869,
          -0.014335067011415958,
          -0.006515939719974995,
          -0.014335067011415958,
          -0.0006515940185636282,
          0.0032579698599874973,
          -0.008470721542835236,
          -0.002606375841423869,
          0.005212751682847738,
          0.0032579698599874973,
          0.0032579698599874973,
          0.009122314862906933,
          0.02793257310986519,
          0.02793257310986519,
          0.02793257310986519,
          0.005491600837558508,
          0.0034864633344113827,
          0.039578989148139954,
          0.023537857457995415,
          0.011507019400596619,
          -0.02240341156721115,
          -0.008764199912548065,
          -0.012809215113520622,
          -0.014831723645329475,
          -0.020899247378110886,
          -0.020899247378110886,
          -0.014831723645329475,
          -0.014831723645329475,
          -0.014831723645329475,
          -0.020899247378110886,
          -0.020899247378110886,
          0.0033708461560308933,
          0.021573416888713837,
          -0.008764199912548065,
          -0.002696676878258586,
          -0.002696676878258586,
          0.0033708461560308933,
          0.009438368491828442,
          0.015505892224609852,
          -0.002696676878258586,
          -0.002696676878258586,
          -0.008764199912548065,
          -0.006741692312061787,
          -0.008764199912548065,
          -0.0006741692777723074,
          0.005393353756517172,
          0.0033708461560308933,
          0.0033708461560308933,
          0.009438368491828442,
          0.009438368491828442,
          0.009438368491828442,
          -0.08978056907653809,
          0.017828643321990967,
          0.01782863400876522,
          -0.0006921548047102988,
          -0.0006921548047102988,
          -0.006921547465026379,
          0.015919558703899384,
          -0.00899801217019558,
          -0.006921547465026379,
          0.011766630224883556,
          0.02214895375072956,
          -0.00899801217019558,
          -0.01938033476471901,
          -0.021456798538565636,
          -0.015227404423058033,
          -0.015227404423058033,
          -0.015227404423058033,
          -0.00899801217019558,
          -0.0027686189860105515,
          0.005537237972021103,
          0.0034607737325131893,
          0.009690165519714355,
          0.009690165519714355,
          -0.0027686189860105515,
          0.005537237972021103,
          0.015919558703899384,
          -0.015227404423058033,
          0.0034607737325131893,
          0.0034607737325131893,
          0.009690165519714355,
          0.011766630224883556,
          -0.013150939717888832,
          -0.0027686189860105515,
          -0.021456798538565636,
          0.009690165519714355,
          -0.014848926104605198,
          -0.020340347662568092,
          -0.02711258828639984,
          -0.040087904781103134,
          -0.027738934382796288,
          -0.008400395512580872,
          -0.002584737027063966,
          -0.008400395512580872,
          -0.014216054230928421,
          -0.002584737027063966,
          0.00323092145845294,
          0.005169474054127932,
          0.00323092145845294,
          -0.014216054230928421,
          -0.008400395512580872,
          -0.008400395512580872,
          0.00323092145845294,
          0.00323092145845294,
          -0.006547252647578716,
          -0.03857932239770889,
          0.005398878362029791,
          0.011312734335660934,
          0.01722658984363079,
          0.012023257091641426,
          0.009928165003657341,
          -0.006626893766224384,
          -0.008614961989223957,
          -0.014579166658222675,
          -0.020543372258543968,
          -0.0026507575530558825,
          -0.012591098435223103,
          -0.0006626894464716315,
          -0.006626893766224384,
          -0.008614961989223957,
          -0.014579166658222675,
          -0.014579166658222675,
          0.009277651086449623,
          0.003313446883112192,
          -0.008614961989223957,
          -0.008614961989223957,
          -0.0026507575530558825,
          -0.0026507575530558825,
          0.003313446883112192,
          0.003313446883112192,
          0.003313446883112192,
          0.005301515106111765,
          0.009277651086449623,
          0.009277651086449623,
          0.009277651086449623,
          0.015241855755448341,
          -0.020543372258543968,
          -0.0026507575530558825,
          -0.006683800369501114,
          -0.012699221260845661,
          -0.01470436155796051,
          -0.01470436155796051,
          -0.020719781517982483,
          -0.020719781517982483,
          -0.020719781517982483,
          0.021388163790106773,
          -0.0026735200081020594,
          0.005347040016204119,
          0.015372741036117077,
          0.005347040016204119,
          0.003341900184750557,
          -0.0026735200081020594,
          -0.0026735200081020594,
          -0.008688940666615963,
          -0.006683800369501114,
          -0.008688940666615963,
          0.00935732014477253,
          -0.01470436155796051,
          -0.006683800369501114,
          -0.008688940666615963,
          -0.008688940666615963,
          -0.0006683801184408367,
          -0.0026735200081020594,
          -0.0006683801184408367,
          0.003341900184750557,
          0.005347040016204119,
          0.00935732014477253,
          0.00935732014477253,
          0.015372741036117077,
          0.003341900184750557,
          0.01830853708088398,
          0.02878403663635254,
          0.005256758537143469,
          -0.014456085860729218,
          -0.00854223221540451,
          -0.020369939506053925,
          -0.006570948287844658,
          0.009199326857924461,
          -0.014456085860729218,
          -0.0026283792685717344,
          -0.0026283792685717344,
          -0.018398655578494072,
          0.003285474143922329,
          -0.020369939506053925,
          -0.014456085860729218,
          -0.0026283792685717344,
          0.003285474143922329,
          0.009199326857924461,
          0.009199326857924461,
          -0.00854223221540451,
          -0.00854223221540451,
          -0.00854223221540451,
          -0.0006570948753505945,
          -0.0026283792685717344,
          0.003285474143922329,
          0.015113180503249168,
          0.005256758537143469,
          0.015113180503249168,
          -0.0006983652710914612,
          -0.015364035032689571,
          0.022347688674926758,
          -0.002793460851535201,
          -0.00907874759286642,
          -0.015364035032689571,
          -0.00907874759286642,
          -0.002793460851535201,
          -0.002793460851535201,
          -0.0069836522452533245,
          -0.015364035032689571,
          0.005586921703070402,
          0.009777112863957882,
          -0.002793460851535201,
          -0.0006983652710914612,
          0.0034918261226266623,
          -0.015364035032689571,
          -0.0069836522452533245,
          0.0034918261226266623,
          0.009777112863957882,
          -0.00907874759286642,
          -0.0069836522452533245,
          -0.05580829456448555,
          -0.025090079754590988,
          -0.019022556021809578,
          -0.002842494985088706,
          -0.002842494985088706,
          -0.02702433243393898,
          -0.02702433243393898,
          -0.03303975611925125,
          -0.05108601599931717,
          -0.012521219439804554,
          -0.024249911308288574,
          -0.0027473110239952803,
          -0.04751892760396004,
          -0.03483454883098602,
          -0.008840776048600674,
          0.0115610146895051,
          0.005440477281808853,
          0.005440477281808853,
          -0.0006800597766414285,
          -0.021081851795315742,
          -0.01496131345629692,
          -0.021081851795315742,
          -0.01496131345629692,
          -0.0006800597766414285,
          -0.006800597067922354,
          0.009520835243165493,
          0.02176191285252571,
          -0.008840776048600674,
          -0.008840776048600674,
          0.009520835243165493,
          0.02176191285252571,
          -0.021081851795315742,
          -0.008840776048600674,
          -0.01496131345629692,
          -0.012921134009957314,
          -0.01496131345629692,
          -0.0027202386409044266,
          -0.0027202386409044266,
          -0.0027202386409044266,
          -0.0027202386409044266,
          0.003400298533961177,
          0.003400298533961177,
          0.003400298533961177,
          0.009520835243165493,
          0.009520835243165493,
          0.01564137265086174,
          -0.012921134009957314,
          -0.006800597067922354,
          -0.0333259291946888,
          -0.0385611392557621,
          -0.025309301912784576,
          -0.03142983838915825,
          -0.025309301912784576,
          -0.019188763573765755,
          -0.006947689224034548,
          -0.019188763573765755,
          -0.013300647027790546,
          -0.007071255706250668,
          -0.02679424360394478,
          -0.038722652941942215,
          -0.032758451998233795,
          -0.026568040251731873,
          -0.03248189762234688,
          -0.026568040251731873,
          -0.008758296258747578,
          -0.024662842974066734,
          -0.008758296258747578,
          -0.014722500927746296,
          -0.018698638305068016,
          -0.030627047643065453,
          -0.03194256126880646,
          -0.03194256126880646,
          -0.007804707158356905,
          0.016481850296258926,
          0.032588742673397064,
          -0.05241375043988228,
          -0.021800372749567032,
          -0.015515085309743881,
          -0.015093186870217323,
          -0.0089187016710639,
          0.021953728049993515,
          -0.0006860540015622973,
          0.0034302696585655212,
          -0.0089187016710639,
          0.0034302696585655212,
          0.011662917211651802,
          -0.015093186870217323,
          -0.0068605393171310425,
          -0.0068605393171310425,
          0.009604754857718945,
          0.0034302696585655212,
          0.009604754857718945,
          -0.02126767300069332,
          -0.015093186870217323,
          -0.015093186870217323,
          -0.0089187016710639,
          0.0054884315468370914,
          0.009604754857718945,
          0.0178374033421278,
          -0.0027442157734185457,
          -0.0027442157734185457,
          0.0034302696585655212,
          0.0054884315468370914,
          -0.0027442157734185457,
          0.009604754857718945,
          -0.0006860540015622973,
          0.0033429351169615984,
          0.009110708720982075,
          -0.0007046880200505257,
          0.003523439634591341,
          -0.009160943329334259,
          0.005637503229081631,
          -0.0007046880200505257,
          -0.0028187516145408154,
          -0.009160943329334259,
          0.00986563041806221,
          0.003523439634591341,
          -0.0007046880200505257,
          -0.013389070518314838,
          -0.015503134578466415,
          -0.007046879269182682,
          -0.007046879269182682,
          -0.0028187516145408154,
          -0.015503134578466415,
          -0.021845325827598572,
          -0.007046879269182682,
          0.02671286277472973,
          0.016661951318383217,
          -0.030368486419320107,
          -0.00671307323500514,
          -0.012626925483345985,
          -0.009244641289114952,
          -0.00284450501203537,
          0.022756041958928108,
          -0.007111262530088425,
          -0.0007111263112165034,
          -0.0007111263112165034,
          0.0035556312650442123,
          0.012089146301150322,
          -0.013511398807168007,
          -0.0007111263112165034,
          -0.021228943020105362,
          -0.01510840468108654,
          -0.027349481359124184,
          0.011916331015527248,
          0.03060450591146946,
          0.0036104789469391108,
          -0.013261163607239723,
          0.0055391667410731316,
          0.0035166614688932896,
          0.01767420768737793,
          -0.009313361719250679,
          -0.034682128578424454,
          0.04123007506132126,
          0.017373252660036087,
          0.039242006838321686,
          0.011409047059714794,
          0.028176629915833473,
          0.034297168254852295,
          -0.046114008873701096,
          -0.019357899203896523,
          -0.013183413073420525,
          0.03159717842936516,
          0.05776981636881828,
          0.02827661857008934,
          -0.02875267155468464,
          0.017985781654715538,
          0.017985790967941284,
          -0.024874627590179443,
          -0.012843785807490349,
          -0.012843785807490349,
          -0.020864346995949745,
          -0.01885920763015747,
          -0.024874627590179443,
          -0.030890049412846565,
          -0.03289518877863884,
          -0.008833506144583225,
          -0.0028180861845612526,
          -0.008833506144583225,
          0.009667940437793732,
          -0.012417265214025974,
          0.0032043191604316235,
          -0.019866779446601868,
          -0.008331229910254478,
          -0.0025634553749114275,
          0.0032043191604316235,
          -0.008331229910254478,
          -0.008331229910254478,
          -0.05495854467153549,
          0.017082372680306435,
          0.044449321925640106,
          0.009263250976800919,
          -0.0028707331512123346,
          -0.0028707331512123346,
          0.005741466302424669,
          0.010047566145658493,
          -0.007176833227276802,
          -0.0007176834042184055,
          -0.009329883381724358,
          -0.006286874879151583,
          0.008801625110208988,
          0.0031434374395757914,
          0.036684799939394,
          -0.00830891728401184
         ],
         "xaxis": "x",
         "y": [
          0.130293607711792,
          0.20271161198616028,
          0.17808184027671814,
          0.18521152436733246,
          0.15788106620311737,
          0.21390829980373383,
          0.1465650349855423,
          0.1499508172273636,
          0.1725226789712906,
          0.1691369265317917,
          0.17816565930843353,
          0.18606580793857574,
          0.1578509658575058,
          0.17929427325725555,
          0.165751114487648,
          0.17929427325725555,
          0.15672238171100616,
          0.15897957980632782,
          0.15333659946918488,
          0.16462253034114838,
          0.17590847611427307,
          0.1725226789712906,
          0.15672238171100616,
          0.17139409482479095,
          0.1849372237920761,
          0.16800831258296967,
          0.16799069941043854,
          0.18200305104255676,
          0.17499688267707825,
          0.1957402527332306,
          0.20152857899665833,
          0.21078993380069733,
          0.18532122671604156,
          0.19226723909378052,
          0.14375895261764526,
          0.18200305104255676,
          0.15864913165569305,
          0.18550613522529602,
          0.18200305104255676,
          0.16799069941043854,
          0.16448761522769928,
          0.1784999519586563,
          0.1714937537908554,
          0.16098451614379883,
          0.17499688267707825,
          0.19134460389614105,
          0.18083536624908447,
          0.17499688267707825,
          0.1784999519586563,
          0.19251228868961334,
          0.17733226716518402,
          0.187841534614563,
          0.17032606899738312,
          0.1714937537908554,
          0.18550613522529602,
          0.18900921940803528,
          0.1621522307395935,
          0.16799069941043854,
          0.16565530002117157,
          0.1621522307395935,
          0.17032606899738312,
          0.18433843553066254,
          0.17382916808128357,
          0.18083536624908447,
          0.16682298481464386,
          0.10508269816637039,
          0.2062280923128128,
          0.19209331274032593,
          0.16288158297538757,
          0.17007465660572052,
          0.16647812724113464,
          0.18206313252449036,
          0.17247235774993896,
          0.1592850387096405,
          0.15568849444389343,
          0.18565969169139862,
          0.18685851991176605,
          0.1592850387096405,
          0.17247235774993896,
          0.19045507907867432,
          0.1688758283853531,
          0.17606887221336365,
          0.1796654462814331,
          0.17606887221336365,
          0.16647812724113464,
          0.17487004399299622,
          0.18565969169139862,
          0.19285278022289276,
          0.18326197564601898,
          0.1592850387096405,
          0.16767697036266327,
          0.18326197564601898,
          0.1892562210559845,
          0.18206313252449036,
          0.1784665882587433,
          0.16288158297538757,
          0.16288158297538757,
          0.19045507907867432,
          0.1796654462814331,
          0.17127349972724915,
          0.13735604286193848,
          0.14406375586986542,
          0.15022270381450653,
          0.16976386308670044,
          0.16976386308670044,
          0.18116338551044464,
          0.18452104926109314,
          0.16101735830307007,
          0.17109036445617676,
          0.17780572175979614,
          0.17668649554252625,
          0.15542124211788177,
          0.16997115314006805,
          0.16437500715255737,
          0.17444804310798645,
          0.16773271560668945,
          0.16325579583644867,
          0.18340183794498444,
          0.1876818984746933,
          0.12011720985174179,
          0.19243527948856354,
          0.19584965705871582,
          0.19926398992538452,
          0.2081504613161087,
          0.21419847011566162,
          0.15250419080257416,
          0.1651301234960556,
          0.18234731256961823,
          0.17201700806617737,
          0.17546042799949646,
          0.14906075596809387,
          0.16283449530601501,
          0.15939107537269592,
          0.1857907474040985,
          0.17546042799949646,
          0.1685735434293747,
          0.1846429407596588,
          0.17431262135505676,
          0.17201700806617737,
          0.17890387773513794,
          0.18234731256961823,
          0.1892341673374176,
          0.167425736784935,
          0.18119949102401733,
          0.1880863606929779,
          0.15250419080257416,
          0.17086918652057648,
          0.17775607109069824,
          0.1639823019504547,
          0.18119949102401733,
          0.17890387773513794,
          0.1685735434293747,
          0.1468677669763565,
          0.15034078061580658,
          0.16307513415813446,
          0.17002111673355103,
          0.18044015765190125,
          0.1734941601753235,
          0.1596021205186844,
          0.17233647406101227,
          0.18391317129135132,
          0.1468677669763565,
          0.1827555000782013,
          0.15381377935409546,
          0.1688634604215622,
          0.19085916876792908,
          0.17696714401245117,
          0.1873861700296402,
          0.15381377935409546,
          0.1734941601753235,
          0.17233647406101227,
          0.17696714401245117,
          0.1607598066329956,
          0.16654813289642334,
          0.18044015765190125,
          0.1642327904701233,
          0.17002111673355103,
          0.15728679299354553,
          0.1827555000782013,
          0.1607598066329956,
          0.17928250133991241,
          0.18622851371765137,
          0.1688634604215622,
          0.17580948770046234,
          0.10964925587177277,
          0.14714698493480682,
          0.14438797533512115,
          0.17397914826869965,
          0.17739352583885193,
          0.17056480050086975,
          0.14438797533512115,
          0.1625979244709015,
          0.16715040802955627,
          0.1808079034090042,
          0.1876366138458252,
          0.15121671557426453,
          0.17284104228019714,
          0.16373606026172638,
          0.1808079034090042,
          0.16715040802955627,
          0.17966976761817932,
          0.17625540494918823,
          0.16942666471004486,
          0.17056480050086975,
          0.1842222511768341,
          0.16373606026172638,
          0.1614598035812378,
          0.17397914826869965,
          0.16601228713989258,
          0.16601228713989258,
          0.15121671557426453,
          0.17284104228019714,
          0.16434305906295776,
          0.17039108276367188,
          0.17281027138233185,
          0.18490631878376007,
          0.18853513896465302,
          0.18490631878376007,
          0.18127752840518951,
          0.19216397404670715,
          0.19942156970500946,
          0.1679718792438507,
          0.19216397404670715,
          0.1679718792438507,
          0.18732555210590363,
          0.17764867842197418,
          0.17160066962242126,
          0.1764390915632248,
          0.17764867842197418,
          0.16071423888206482,
          0.18369673192501068,
          0.18006791174411774,
          0.17401988804340363,
          0.15345659852027893,
          0.1169774979352951,
          0.19393256306648254,
          0.1974356323480606,
          0.20210644602775574,
          0.20911261439323425,
          0.16539046168327332,
          0.17928250133991241,
          0.1827555000782013,
          0.17696714401245117,
          0.19421008229255676,
          0.1806669533252716,
          0.21565335988998413,
          0.1926831752061844,
          0.1707131713628769,
          0.19066065549850464,
          0.16003531217575073,
          0.15650160610675812,
          0.16356901824474335,
          0.16003531217575073,
          0.1835932731628418,
          0.1659248024225235,
          0.16945849359035492,
          0.1871269792318344,
          0.16710267961025238,
          0.16356901824474335,
          0.18948277831077576,
          0.18241538107395172,
          0.16945849359035492,
          0.1835932731628418,
          0.17534798383712769,
          0.17534798383712769,
          0.17652589082717896,
          0.17652589082717896,
          0.18005956709384918,
          0.16003531217575073,
          0.17299216985702515,
          0.18005956709384918,
          0.19419434666633606,
          0.17299216985702515,
          0.1871269792318344,
          0.1788816750049591,
          0.18594907224178314,
          0.17181427776813507,
          0.18241538107395172,
          0.16828058660030365,
          0.18594907224178314,
          0.1529679149389267,
          0.14943420886993408,
          0.17032606899738312,
          0.20815043151378632,
          0.19562701880931854,
          0.19209331274032593,
          0.20269441604614258,
          0.19916070997714996,
          0.19916070997714996,
          0.19209331274032593,
          0.19910630583763123,
          0.2027028352022171,
          0.17086918652057648,
          0.1639823019504547,
          0.16053888201713562,
          0.16942666471004486,
          0.17966976761817932,
          0.1625979244709015,
          0.20210836827754974,
          0.1906302571296692,
          0.20899523794651031,
          0.20555181801319122,
          0.20096054673194885,
          0.1871868073940277,
          0.17668649554252625,
          0.16325579583644867,
          0.16439852118492126,
          0.13153383135795593,
          0.17780572175979614,
          0.22676129639148712,
          0.1544046252965927,
          0.13626053929328918,
          0.16738732159137726,
          0.17095215618610382,
          0.16263417899608612,
          0.16857556998729706,
          0.173328697681427,
          0.18521152436733246,
          0.19471776485443115,
          0.16144590079784393,
          0.18877637386322021,
          0.15788106620311737,
          0.16501076519489288,
          0.16976386308670044,
          0.18758808076381683,
          0.1911529302597046,
          0.17808184027671814,
          0.1745169758796692,
          0.1816466599702835,
          0.17808184027671814,
          0.15788106620311737,
          0.17689354717731476,
          0.15788106620311737,
          0.18877637386322021,
          0.1816466599702835,
          0.18045839667320251,
          0.16501076519489288,
          0.1745169758796692,
          0.18402324616909027,
          0.16144590079784393,
          0.19989202916622162,
          0.1965619921684265,
          0.16583095490932465,
          0.1926831752061844,
          0.1829187422990799,
          0.16949263215065002,
          0.17315427958965302,
          0.18658038973808289,
          0.17559540271759033,
          0.17437483370304108,
          0.17803649604320526,
          0.15850761532783508,
          0.16583095490932465,
          0.18658038973808289,
          0.16216929256916046,
          0.16949263215065002,
          0.17925703525543213,
          0.17925703525543213,
          0.17559540271759033,
          0.1548459380865097,
          0.23370985686779022,
          0.14127282798290253,
          0.18560652434825897,
          0.19243526458740234,
          0.19584964215755463,
          0.17719970643520355,
          0.18089480698108673,
          0.16857774555683136,
          0.17104119062423706,
          0.1673460602760315,
          0.17473629117012024,
          0.17966312170028687,
          0.1673460602760315,
          0.1673460602760315,
          0.15256556868553162,
          0.15035738050937653,
          0.1468236744403839,
          0.1515352576971054,
          0.19910630583763123,
          0.19550974667072296,
          0.20869708061218262,
          0.24535351991653442,
          0.197435662150383,
          0.20327413082122803,
          0.1904294639825821,
          0.2149171680212021,
          0.14603807032108307,
          0.19407367706298828,
          0.19407367706298828,
          0.20210835337638855,
          0.1906302571296692,
          0.16945849359035492,
          0.18005956709384918,
          0.22111694514751434,
          0.20091617107391357,
          0.20448102056980133,
          0.16365092992782593,
          0.17233647406101227,
          0.15168264508247375,
          0.19074849784374237,
          0.19378648698329926,
          0.2080458551645279,
          0.19921325147151947,
          0.19921325147151947,
          0.19226723909378052,
          0.21078993380069733,
          0.1957402378320694,
          0.19226723909378052,
          0.1957402378320694,
          0.20847459137439728,
          0.21078993380069733,
          0.2003709226846695,
          0.20384392142295837,
          0.14446789026260376,
          0.1858823597431183,
          0.1752317249774933,
          0.15969160199165344,
          0.1796717643737793,
          0.17634174227714539,
          0.1818917840719223,
          0.17301170527935028,
          0.15969160199165344,
          0.24253004789352417,
          0.19082430005073547,
          0.1953386664390564,
          0.1998530626296997,
          0.19747959077358246,
          0.18256278336048126,
          0.1726182997226715,
          0.1850489377975464,
          0.1726182997226715,
          0.17634746432304382,
          0.18629200756549835,
          0.17097043991088867,
          0.18839314579963684,
          0.19165989756584167,
          0.16303089261054993,
          0.15222328901290894
         ],
         "yaxis": "y"
        }
       ],
       "layout": {
        "coloraxis": {
         "colorbar": {
          "title": {
           "text": "tc_energy"
          }
         },
         "colorscale": [
          [
           0,
           "#0d0887"
          ],
          [
           0.1111111111111111,
           "#46039f"
          ],
          [
           0.2222222222222222,
           "#7201a8"
          ],
          [
           0.3333333333333333,
           "#9c179e"
          ],
          [
           0.4444444444444444,
           "#bd3786"
          ],
          [
           0.5555555555555556,
           "#d8576b"
          ],
          [
           0.6666666666666666,
           "#ed7953"
          ],
          [
           0.7777777777777778,
           "#fb9f3a"
          ],
          [
           0.8888888888888888,
           "#fdca26"
          ],
          [
           1,
           "#f0f921"
          ]
         ]
        },
        "legend": {
         "tracegroupgap": 0
        },
        "margin": {
         "t": 60
        },
        "template": {
         "data": {
          "bar": [
           {
            "error_x": {
             "color": "#2a3f5f"
            },
            "error_y": {
             "color": "#2a3f5f"
            },
            "marker": {
             "line": {
              "color": "#E5ECF6",
              "width": 0.5
             }
            },
            "type": "bar"
           }
          ],
          "barpolar": [
           {
            "marker": {
             "line": {
              "color": "#E5ECF6",
              "width": 0.5
             }
            },
            "type": "barpolar"
           }
          ],
          "carpet": [
           {
            "aaxis": {
             "endlinecolor": "#2a3f5f",
             "gridcolor": "white",
             "linecolor": "white",
             "minorgridcolor": "white",
             "startlinecolor": "#2a3f5f"
            },
            "baxis": {
             "endlinecolor": "#2a3f5f",
             "gridcolor": "white",
             "linecolor": "white",
             "minorgridcolor": "white",
             "startlinecolor": "#2a3f5f"
            },
            "type": "carpet"
           }
          ],
          "choropleth": [
           {
            "colorbar": {
             "outlinewidth": 0,
             "ticks": ""
            },
            "type": "choropleth"
           }
          ],
          "contour": [
           {
            "colorbar": {
             "outlinewidth": 0,
             "ticks": ""
            },
            "colorscale": [
             [
              0,
              "#0d0887"
             ],
             [
              0.1111111111111111,
              "#46039f"
             ],
             [
              0.2222222222222222,
              "#7201a8"
             ],
             [
              0.3333333333333333,
              "#9c179e"
             ],
             [
              0.4444444444444444,
              "#bd3786"
             ],
             [
              0.5555555555555556,
              "#d8576b"
             ],
             [
              0.6666666666666666,
              "#ed7953"
             ],
             [
              0.7777777777777778,
              "#fb9f3a"
             ],
             [
              0.8888888888888888,
              "#fdca26"
             ],
             [
              1,
              "#f0f921"
             ]
            ],
            "type": "contour"
           }
          ],
          "contourcarpet": [
           {
            "colorbar": {
             "outlinewidth": 0,
             "ticks": ""
            },
            "type": "contourcarpet"
           }
          ],
          "heatmap": [
           {
            "colorbar": {
             "outlinewidth": 0,
             "ticks": ""
            },
            "colorscale": [
             [
              0,
              "#0d0887"
             ],
             [
              0.1111111111111111,
              "#46039f"
             ],
             [
              0.2222222222222222,
              "#7201a8"
             ],
             [
              0.3333333333333333,
              "#9c179e"
             ],
             [
              0.4444444444444444,
              "#bd3786"
             ],
             [
              0.5555555555555556,
              "#d8576b"
             ],
             [
              0.6666666666666666,
              "#ed7953"
             ],
             [
              0.7777777777777778,
              "#fb9f3a"
             ],
             [
              0.8888888888888888,
              "#fdca26"
             ],
             [
              1,
              "#f0f921"
             ]
            ],
            "type": "heatmap"
           }
          ],
          "heatmapgl": [
           {
            "colorbar": {
             "outlinewidth": 0,
             "ticks": ""
            },
            "colorscale": [
             [
              0,
              "#0d0887"
             ],
             [
              0.1111111111111111,
              "#46039f"
             ],
             [
              0.2222222222222222,
              "#7201a8"
             ],
             [
              0.3333333333333333,
              "#9c179e"
             ],
             [
              0.4444444444444444,
              "#bd3786"
             ],
             [
              0.5555555555555556,
              "#d8576b"
             ],
             [
              0.6666666666666666,
              "#ed7953"
             ],
             [
              0.7777777777777778,
              "#fb9f3a"
             ],
             [
              0.8888888888888888,
              "#fdca26"
             ],
             [
              1,
              "#f0f921"
             ]
            ],
            "type": "heatmapgl"
           }
          ],
          "histogram": [
           {
            "marker": {
             "colorbar": {
              "outlinewidth": 0,
              "ticks": ""
             }
            },
            "type": "histogram"
           }
          ],
          "histogram2d": [
           {
            "colorbar": {
             "outlinewidth": 0,
             "ticks": ""
            },
            "colorscale": [
             [
              0,
              "#0d0887"
             ],
             [
              0.1111111111111111,
              "#46039f"
             ],
             [
              0.2222222222222222,
              "#7201a8"
             ],
             [
              0.3333333333333333,
              "#9c179e"
             ],
             [
              0.4444444444444444,
              "#bd3786"
             ],
             [
              0.5555555555555556,
              "#d8576b"
             ],
             [
              0.6666666666666666,
              "#ed7953"
             ],
             [
              0.7777777777777778,
              "#fb9f3a"
             ],
             [
              0.8888888888888888,
              "#fdca26"
             ],
             [
              1,
              "#f0f921"
             ]
            ],
            "type": "histogram2d"
           }
          ],
          "histogram2dcontour": [
           {
            "colorbar": {
             "outlinewidth": 0,
             "ticks": ""
            },
            "colorscale": [
             [
              0,
              "#0d0887"
             ],
             [
              0.1111111111111111,
              "#46039f"
             ],
             [
              0.2222222222222222,
              "#7201a8"
             ],
             [
              0.3333333333333333,
              "#9c179e"
             ],
             [
              0.4444444444444444,
              "#bd3786"
             ],
             [
              0.5555555555555556,
              "#d8576b"
             ],
             [
              0.6666666666666666,
              "#ed7953"
             ],
             [
              0.7777777777777778,
              "#fb9f3a"
             ],
             [
              0.8888888888888888,
              "#fdca26"
             ],
             [
              1,
              "#f0f921"
             ]
            ],
            "type": "histogram2dcontour"
           }
          ],
          "mesh3d": [
           {
            "colorbar": {
             "outlinewidth": 0,
             "ticks": ""
            },
            "type": "mesh3d"
           }
          ],
          "parcoords": [
           {
            "line": {
             "colorbar": {
              "outlinewidth": 0,
              "ticks": ""
             }
            },
            "type": "parcoords"
           }
          ],
          "pie": [
           {
            "automargin": true,
            "type": "pie"
           }
          ],
          "scatter": [
           {
            "marker": {
             "colorbar": {
              "outlinewidth": 0,
              "ticks": ""
             }
            },
            "type": "scatter"
           }
          ],
          "scatter3d": [
           {
            "line": {
             "colorbar": {
              "outlinewidth": 0,
              "ticks": ""
             }
            },
            "marker": {
             "colorbar": {
              "outlinewidth": 0,
              "ticks": ""
             }
            },
            "type": "scatter3d"
           }
          ],
          "scattercarpet": [
           {
            "marker": {
             "colorbar": {
              "outlinewidth": 0,
              "ticks": ""
             }
            },
            "type": "scattercarpet"
           }
          ],
          "scattergeo": [
           {
            "marker": {
             "colorbar": {
              "outlinewidth": 0,
              "ticks": ""
             }
            },
            "type": "scattergeo"
           }
          ],
          "scattergl": [
           {
            "marker": {
             "colorbar": {
              "outlinewidth": 0,
              "ticks": ""
             }
            },
            "type": "scattergl"
           }
          ],
          "scattermapbox": [
           {
            "marker": {
             "colorbar": {
              "outlinewidth": 0,
              "ticks": ""
             }
            },
            "type": "scattermapbox"
           }
          ],
          "scatterpolar": [
           {
            "marker": {
             "colorbar": {
              "outlinewidth": 0,
              "ticks": ""
             }
            },
            "type": "scatterpolar"
           }
          ],
          "scatterpolargl": [
           {
            "marker": {
             "colorbar": {
              "outlinewidth": 0,
              "ticks": ""
             }
            },
            "type": "scatterpolargl"
           }
          ],
          "scatterternary": [
           {
            "marker": {
             "colorbar": {
              "outlinewidth": 0,
              "ticks": ""
             }
            },
            "type": "scatterternary"
           }
          ],
          "surface": [
           {
            "colorbar": {
             "outlinewidth": 0,
             "ticks": ""
            },
            "colorscale": [
             [
              0,
              "#0d0887"
             ],
             [
              0.1111111111111111,
              "#46039f"
             ],
             [
              0.2222222222222222,
              "#7201a8"
             ],
             [
              0.3333333333333333,
              "#9c179e"
             ],
             [
              0.4444444444444444,
              "#bd3786"
             ],
             [
              0.5555555555555556,
              "#d8576b"
             ],
             [
              0.6666666666666666,
              "#ed7953"
             ],
             [
              0.7777777777777778,
              "#fb9f3a"
             ],
             [
              0.8888888888888888,
              "#fdca26"
             ],
             [
              1,
              "#f0f921"
             ]
            ],
            "type": "surface"
           }
          ],
          "table": [
           {
            "cells": {
             "fill": {
              "color": "#EBF0F8"
             },
             "line": {
              "color": "white"
             }
            },
            "header": {
             "fill": {
              "color": "#C8D4E3"
             },
             "line": {
              "color": "white"
             }
            },
            "type": "table"
           }
          ]
         },
         "layout": {
          "annotationdefaults": {
           "arrowcolor": "#2a3f5f",
           "arrowhead": 0,
           "arrowwidth": 1
          },
          "coloraxis": {
           "colorbar": {
            "outlinewidth": 0,
            "ticks": ""
           }
          },
          "colorscale": {
           "diverging": [
            [
             0,
             "#8e0152"
            ],
            [
             0.1,
             "#c51b7d"
            ],
            [
             0.2,
             "#de77ae"
            ],
            [
             0.3,
             "#f1b6da"
            ],
            [
             0.4,
             "#fde0ef"
            ],
            [
             0.5,
             "#f7f7f7"
            ],
            [
             0.6,
             "#e6f5d0"
            ],
            [
             0.7,
             "#b8e186"
            ],
            [
             0.8,
             "#7fbc41"
            ],
            [
             0.9,
             "#4d9221"
            ],
            [
             1,
             "#276419"
            ]
           ],
           "sequential": [
            [
             0,
             "#0d0887"
            ],
            [
             0.1111111111111111,
             "#46039f"
            ],
            [
             0.2222222222222222,
             "#7201a8"
            ],
            [
             0.3333333333333333,
             "#9c179e"
            ],
            [
             0.4444444444444444,
             "#bd3786"
            ],
            [
             0.5555555555555556,
             "#d8576b"
            ],
            [
             0.6666666666666666,
             "#ed7953"
            ],
            [
             0.7777777777777778,
             "#fb9f3a"
            ],
            [
             0.8888888888888888,
             "#fdca26"
            ],
            [
             1,
             "#f0f921"
            ]
           ],
           "sequentialminus": [
            [
             0,
             "#0d0887"
            ],
            [
             0.1111111111111111,
             "#46039f"
            ],
            [
             0.2222222222222222,
             "#7201a8"
            ],
            [
             0.3333333333333333,
             "#9c179e"
            ],
            [
             0.4444444444444444,
             "#bd3786"
            ],
            [
             0.5555555555555556,
             "#d8576b"
            ],
            [
             0.6666666666666666,
             "#ed7953"
            ],
            [
             0.7777777777777778,
             "#fb9f3a"
            ],
            [
             0.8888888888888888,
             "#fdca26"
            ],
            [
             1,
             "#f0f921"
            ]
           ]
          },
          "colorway": [
           "#636efa",
           "#EF553B",
           "#00cc96",
           "#ab63fa",
           "#FFA15A",
           "#19d3f3",
           "#FF6692",
           "#B6E880",
           "#FF97FF",
           "#FECB52"
          ],
          "font": {
           "color": "#2a3f5f"
          },
          "geo": {
           "bgcolor": "white",
           "lakecolor": "white",
           "landcolor": "#E5ECF6",
           "showlakes": true,
           "showland": true,
           "subunitcolor": "white"
          },
          "hoverlabel": {
           "align": "left"
          },
          "hovermode": "closest",
          "mapbox": {
           "style": "light"
          },
          "paper_bgcolor": "white",
          "plot_bgcolor": "#E5ECF6",
          "polar": {
           "angularaxis": {
            "gridcolor": "white",
            "linecolor": "white",
            "ticks": ""
           },
           "bgcolor": "#E5ECF6",
           "radialaxis": {
            "gridcolor": "white",
            "linecolor": "white",
            "ticks": ""
           }
          },
          "scene": {
           "xaxis": {
            "backgroundcolor": "#E5ECF6",
            "gridcolor": "white",
            "gridwidth": 2,
            "linecolor": "white",
            "showbackground": true,
            "ticks": "",
            "zerolinecolor": "white"
           },
           "yaxis": {
            "backgroundcolor": "#E5ECF6",
            "gridcolor": "white",
            "gridwidth": 2,
            "linecolor": "white",
            "showbackground": true,
            "ticks": "",
            "zerolinecolor": "white"
           },
           "zaxis": {
            "backgroundcolor": "#E5ECF6",
            "gridcolor": "white",
            "gridwidth": 2,
            "linecolor": "white",
            "showbackground": true,
            "ticks": "",
            "zerolinecolor": "white"
           }
          },
          "shapedefaults": {
           "line": {
            "color": "#2a3f5f"
           }
          },
          "ternary": {
           "aaxis": {
            "gridcolor": "white",
            "linecolor": "white",
            "ticks": ""
           },
           "baxis": {
            "gridcolor": "white",
            "linecolor": "white",
            "ticks": ""
           },
           "bgcolor": "#E5ECF6",
           "caxis": {
            "gridcolor": "white",
            "linecolor": "white",
            "ticks": ""
           }
          },
          "title": {
           "x": 0.05
          },
          "xaxis": {
           "automargin": true,
           "gridcolor": "white",
           "linecolor": "white",
           "ticks": "",
           "title": {
            "standoff": 15
           },
           "zerolinecolor": "white",
           "zerolinewidth": 2
          },
          "yaxis": {
           "automargin": true,
           "gridcolor": "white",
           "linecolor": "white",
           "ticks": "",
           "title": {
            "standoff": 15
           },
           "zerolinecolor": "white",
           "zerolinewidth": 2
          }
         }
        },
        "xaxis": {
         "anchor": "y",
         "domain": [
          0,
          1
         ],
         "title": {
          "text": "xz"
         }
        },
        "yaxis": {
         "anchor": "x",
         "domain": [
          0,
          1
         ],
         "title": {
          "text": "yz"
         }
        }
       }
      },
      "text/html": [
       "<div>\n",
       "        \n",
       "        \n",
       "            <div id=\"1b24d573-09f1-45fd-a8ba-68ba14ca08e6\" class=\"plotly-graph-div\" style=\"height:525px; width:100%;\"></div>\n",
       "            <script type=\"text/javascript\">\n",
       "                require([\"plotly\"], function(Plotly) {\n",
       "                    window.PLOTLYENV=window.PLOTLYENV || {};\n",
       "                    \n",
       "                if (document.getElementById(\"1b24d573-09f1-45fd-a8ba-68ba14ca08e6\")) {\n",
       "                    Plotly.newPlot(\n",
       "                        '1b24d573-09f1-45fd-a8ba-68ba14ca08e6',\n",
       "                        [{\"hovertemplate\": \"xz=%{x}<br>yz=%{y}<br>tc_energy=%{marker.color}<extra></extra>\", \"legendgroup\": \"\", \"marker\": {\"color\": [0.09565415978431702, 0.04069281741976738, 0.0668046623468399, 0.0431203655898571, 0.23068001866340637, 0.15590734779834747, 0.05178900063037872, 0.151193305850029, 0.04347403347492218, 0.11005108803510666, 0.06418513506650925, 0.25099340081214905, 0.1179906576871872, 0.7676429152488708, 0.022383898496627808, 0.04257664456963539, 0.07173424959182739, 0.2340427041053772, 0.049146492034196854, 0.29299306869506836, 0.2368517965078354, 1.0453262329101562, 0.14352275431156158, 0.4371475279331207, 0.4196062982082367, 0.44210031628608704, 0.0704658180475235, 0.21766279637813568, 0.1341935396194458, 0.2298445999622345, 0.12355681508779526, 0.18006211519241333, 0.06429728865623474, 0.29508188366889954, 0.0625389814376831, 1.752016544342041, 0.35797905921936035, 0.21632708609104156, 0.21830685436725616, 0.5207415223121643, 0.21985089778900146, 0.7087535262107849, 0.5558969378471375, 0.024959346279501915, 0.13492228090763092, 0.06388530135154724, 0.13144144415855408, 7.969375133514404, 22.74132537841797, 0.5093955397605896, 2.32371187210083, 0.23652903735637665, 0.28029167652130127, 9.681042671203613, 1.3002727031707764, 0.9429193139076233, 1.4980260133743286, 1.9090698957443237, 2.141387462615967, 0.14986026287078857, 1.6903674602508545, 0.5654955506324768, 0.730306088924408, 0.4835888147354126, 0.12034916877746582, 0.18147516250610352, 0.3697647750377655, 0.06391988694667816, 0.12579882144927979, 6.869190216064453, 1.0767172574996948, 0.08806310594081879, 10.479339599609375, 0.154868021607399, 0.10579804331064224, 0.043450504541397095, 0.43437668681144714, 0.05123232677578926, 0.02320249006152153, 0.214625746011734, 0.38309261202812195, 0.5451188683509827, 2.852774143218994, 105.13227081298828, 0.39168408513069153, 5.523411273956299, 0.08718623220920563, 0.4694364666938782, 3.8680665493011475, 1.0328673124313354, 0.14486949145793915, 0.4825662076473236, 0.08629903197288513, 1.0594066381454468, 0.3364051282405853, 0.10032357275485992, 0.07518373429775238, 0.30099233984947205, 0.39909833669662476, 0.7077955007553101, 0.05898335948586464, 0.0522199384868145, 0.10747328400611877, 0.09259344637393951, 0.21212385594844818, 0.2729904353618622, 0.14571648836135864, 0.022585781291127205, 0.02161651849746704, 0.933400571346283, 0.04256689175963402, 0.21234777569770813, 0.06520106643438339, 0.22117847204208374, 0.08566737920045853, 0.48139330744743347, 0.22304439544677734, 0.1252754032611847, 0.040941838175058365, 0.09465734660625458, 0.2074337750673294, 0.041104577481746674, 0.1425521969795227, 0.040870074182748795, 0.08072267472743988, 0.15552473068237305, 1.5039634704589844, 0.6020739078521729, 0.04447714611887932, 7.048619270324707, 0.07960914075374603, 0.07188122719526291, 0.04916130751371384, 0.04261248931288719, 0.30771735310554504, 0.022812796756625175, 0.02137663960456848, 0.9736098051071167, 1.3417179584503174, 2.089120864868164, 2.2401528358459473, 0.2955035865306854, 0.5086669921875, 1.1240357160568237, 0.21175527572631836, 0.07779335975646973, 0.0900404304265976, 0.9609684944152832, 0.047403376549482346, 0.3883490264415741, 0.3037211298942566, 1.466867446899414, 0.1380213499069214, 0.053615935146808624, 0.14574627578258514, 0.4606935679912567, 0.02178046479821205, 0.24630600214004517, 0.29782378673553467, 0.3380618691444397, 1.2108755111694336, 0.2209254950284958, 0.043317053467035294, 0.3143371641635895, 1.8677899837493896, 0.08472505211830139, 14.168379783630371, 0.6415264010429382, 0.07855288684368134, 3.605034112930298, 0.20433983206748962, 0.6182713508605957, 0.546179473400116, 0.4746127426624298, 1.9227294921875, 0.3145713806152344, 4.443505764007568, 0.1531475931406021, 0.13020309805870056, 0.09934353083372116, 0.5263051390647888, 0.08582428097724915, 0.18582837283611298, 1.2464617490768433, 0.10513335466384888, 0.027113253250718117, 0.40447908639907837, 0.06559240072965622, 0.5629590153694153, 0.044155366718769073, 0.18867941200733185, 0.1404058188199997, 0.22553026676177979, 0.9432204365730286, 0.08406537026166916, 0.050773415714502335, 0.2858508825302124, 0.06905046105384827, 0.3210088014602661, 0.1358819454908371, 0.6453243494033813, 0.08691414445638657, 0.08919607847929001, 0.5321831107139587, 0.02120969258248806, 0.09281031042337418, 0.2365472912788391, 2.2782349586486816, 0.11415961384773254, 0.22722309827804565, 0.15352903306484222, 0.10971128940582275, 0.024425018578767776, 0.3023708462715149, 0.04547171667218208, 1.7377135753631592, 0.10739877074956894, 0.043362878262996674, 1.9315667152404785, 0.297847718000412, 0.020875345915555954, 1.140695333480835, 0.3186056911945343, 0.09509400278329849, 0.215523362159729, 85.56787872314453, 7.414783000946045, 1.4351404905319214, 0.3109573423862457, 0.27555686235427856, 0.23979942500591278, 0.06610278785228729, 5.456792831420898, 0.026403142139315605, 0.029434029012918472, 0.37883251905441284, 0.6266809701919556, 0.020690198987722397, 0.16279828548431396, 0.2830059826374054, 0.13081888854503632, 0.04300960898399353, 0.06481435894966125, 0.040924519300460815, 0.08455079048871994, 0.05875847116112709, 0.04140104725956917, 0.04428613558411598, 0.1071731373667717, 0.4604843258857727, 0.3160403370857239, 0.5992953777313232, 0.4619300961494446, 0.24017073214054108, 0.6838554739952087, 0.2603490948677063, 0.06490959972143173, 1.459783911705017, 1.5975075960159302, 0.7742516398429871, 0.13145768642425537, 3.8177177906036377, 0.6570882201194763, 0.5477527379989624, 0.8153184056282043, 0.3598215579986572, 7.969880104064941, 0.886029839515686, 0.33231186866760254, 0.5095699429512024, 28.42978286743164, 0.6369079351425171, 38.72331237792969, 1.300492763519287, 1.7876416444778442, 1.5662288665771484, 0.9390421509742737, 0.5715765357017517, 0.1684655100107193, 0.15197619795799255, 0.13476857542991638, 0.055511150509119034, 0.045827414840459824, 0.04058901593089104, 0.1473666876554489, 0.14842258393764496, 0.041354648768901825, 0.04179215431213379, 0.18845689296722412, 0.1277923583984375, 0.12580038607120514, 0.10396496951580048, 0.04455479606986046, 0.22938001155853271, 0.142648383975029, 0.1547631025314331, 0.29854336380958557, 0.1153024286031723, 0.04082142189145088, 0.3349483609199524, 0.10049885511398315, 0.040470972657203674, 0.04086412861943245, 0.06324325501918793, 0.063323013484478, 0.022003302350640297, 0.19298815727233887, 0.1818343549966812, 0.0841381773352623, 0.08009827882051468, 0.05192791298031807, 0.14840993285179138, 0.33984875679016113, 9.106843948364258, 0.025004349648952484, 3.482180118560791, 4.853365898132324, 0.7862498760223389, 0.14871296286582947, 0.025426914915442467, 0.0647309198975563, 0.3924928605556488, 0.9923703074455261, 0.07176065444946289, 0.5639985799789429, 0.17159166932106018, 0.3357079029083252, 1.3813027143478394, 0.8828502297401428, 7.927073955535889, 0.20941326022148132, 0.7261598706245422, 0.15599818527698517, 0.43229740858078003, 14.161940574645996, 1.6018401384353638, 0.4467381536960602, 88.8190689086914, 0.6137632131576538, 0.051013510674238205, 0.07966714352369308, 0.3208049535751343, 0.2795398235321045, 0.020991655066609383, 0.21536625921726227, 0.9073764085769653, 12.795709609985352, 0.10665477812290192, 1.584608793258667, 0.04420284554362297, 0.24044452607631683, 0.04907141253352165, 0.02320638671517372, 0.06388473510742188, 0.21493467688560486, 0.634926974773407, 41.81730270385742, 0.06521428376436234, 0.3070593774318695, 0.22636321187019348, 0.2393118441104889, 0.018057525157928467, 0.06297225505113602, 0.3733408451080322, 0.10274118930101395, 0.2131260484457016, 1.8587218523025513, 0.043492913246154785, 1.0405668020248413, 0.08768017590045929, 13.738373756408691, 0.042375363409519196, 0.04378419369459152, 0.10942573100328445, 0.04757444187998772, 0.13645972311496735, 0.08450724184513092, 0.080577053129673, 0.23068644106388092, 0.18952465057373047, 0.30755043029785156, 0.3449123203754425, 0.4605799913406372, 0.041260331869125366, 0.04260295256972313, 0.15988539159297943, 0.0520738922059536, 0.14421352744102478, 0.06236620992422104, 0.06073181331157684, 0.08402200043201447, 0.04697459936141968, 0.04387831315398216, 0.059378113597631454, 0.1667633354663849, 0.02068742923438549, 0.043927617371082306, 0.522494375705719, 0.05380796268582344, 0.020531943067908287, 0.46752145886421204, 0.04099249467253685, 0.16505670547485352, 0.06207140535116196, 0.46359172463417053, 0.0402350127696991, 0.2918909788131714, 0.02100459858775139, 0.18690825998783112, 0.20149943232536316, 0.22168956696987152, 0.06195668503642082, 0.12282342463731766, 0.0862772986292839, 0.06215563416481018, 0.6776118278503418, 0.13322897255420685, 0.1881028115749359, 0.16886286437511444, 0.37411198019981384, 0.08521732687950134, 0.15627732872962952, 0.3032340407371521, 0.020615587010979652, 0.2221284806728363, 0.14144030213356018, 0.09582924097776413, 0.36064204573631287, 0.016720905900001526, 0.024463463574647903, 0.008359501138329506, 0.431465744972229, 0.03254613280296326, 0.14682646095752716, 0.14061027765274048, 0.20954060554504395, 0.04449091851711273, 0.07802558690309525], \"coloraxis\": \"coloraxis\", \"symbol\": \"circle\"}, \"mode\": \"markers\", \"name\": \"\", \"orientation\": \"v\", \"showlegend\": false, \"type\": \"scatter\", \"x\": [-0.009067089296877384, 0.03750087320804596, 0.028424987569451332, 0.04077396169304848, 0.030483152717351913, 0.012355843558907509, -0.0006515940185636282, -0.006515939719974995, -0.014335067011415958, -0.008470721542835236, 0.0032579698599874973, -0.002606375841423869, 0.01498666126281023, -0.002606375841423869, -0.002606375841423869, -0.014335067011415958, -0.006515939719974995, -0.014335067011415958, -0.0006515940185636282, 0.0032579698599874973, -0.008470721542835236, -0.002606375841423869, 0.005212751682847738, 0.0032579698599874973, 0.0032579698599874973, 0.009122314862906933, 0.02793257310986519, 0.02793257310986519, 0.02793257310986519, 0.005491600837558508, 0.0034864633344113827, 0.039578989148139954, 0.023537857457995415, 0.011507019400596619, -0.02240341156721115, -0.008764199912548065, -0.012809215113520622, -0.014831723645329475, -0.020899247378110886, -0.020899247378110886, -0.014831723645329475, -0.014831723645329475, -0.014831723645329475, -0.020899247378110886, -0.020899247378110886, 0.0033708461560308933, 0.021573416888713837, -0.008764199912548065, -0.002696676878258586, -0.002696676878258586, 0.0033708461560308933, 0.009438368491828442, 0.015505892224609852, -0.002696676878258586, -0.002696676878258586, -0.008764199912548065, -0.006741692312061787, -0.008764199912548065, -0.0006741692777723074, 0.005393353756517172, 0.0033708461560308933, 0.0033708461560308933, 0.009438368491828442, 0.009438368491828442, 0.009438368491828442, -0.08978056907653809, 0.017828643321990967, 0.01782863400876522, -0.0006921548047102988, -0.0006921548047102988, -0.006921547465026379, 0.015919558703899384, -0.00899801217019558, -0.006921547465026379, 0.011766630224883556, 0.02214895375072956, -0.00899801217019558, -0.01938033476471901, -0.021456798538565636, -0.015227404423058033, -0.015227404423058033, -0.015227404423058033, -0.00899801217019558, -0.0027686189860105515, 0.005537237972021103, 0.0034607737325131893, 0.009690165519714355, 0.009690165519714355, -0.0027686189860105515, 0.005537237972021103, 0.015919558703899384, -0.015227404423058033, 0.0034607737325131893, 0.0034607737325131893, 0.009690165519714355, 0.011766630224883556, -0.013150939717888832, -0.0027686189860105515, -0.021456798538565636, 0.009690165519714355, -0.014848926104605198, -0.020340347662568092, -0.02711258828639984, -0.040087904781103134, -0.027738934382796288, -0.008400395512580872, -0.002584737027063966, -0.008400395512580872, -0.014216054230928421, -0.002584737027063966, 0.00323092145845294, 0.005169474054127932, 0.00323092145845294, -0.014216054230928421, -0.008400395512580872, -0.008400395512580872, 0.00323092145845294, 0.00323092145845294, -0.006547252647578716, -0.03857932239770889, 0.005398878362029791, 0.011312734335660934, 0.01722658984363079, 0.012023257091641426, 0.009928165003657341, -0.006626893766224384, -0.008614961989223957, -0.014579166658222675, -0.020543372258543968, -0.0026507575530558825, -0.012591098435223103, -0.0006626894464716315, -0.006626893766224384, -0.008614961989223957, -0.014579166658222675, -0.014579166658222675, 0.009277651086449623, 0.003313446883112192, -0.008614961989223957, -0.008614961989223957, -0.0026507575530558825, -0.0026507575530558825, 0.003313446883112192, 0.003313446883112192, 0.003313446883112192, 0.005301515106111765, 0.009277651086449623, 0.009277651086449623, 0.009277651086449623, 0.015241855755448341, -0.020543372258543968, -0.0026507575530558825, -0.006683800369501114, -0.012699221260845661, -0.01470436155796051, -0.01470436155796051, -0.020719781517982483, -0.020719781517982483, -0.020719781517982483, 0.021388163790106773, -0.0026735200081020594, 0.005347040016204119, 0.015372741036117077, 0.005347040016204119, 0.003341900184750557, -0.0026735200081020594, -0.0026735200081020594, -0.008688940666615963, -0.006683800369501114, -0.008688940666615963, 0.00935732014477253, -0.01470436155796051, -0.006683800369501114, -0.008688940666615963, -0.008688940666615963, -0.0006683801184408367, -0.0026735200081020594, -0.0006683801184408367, 0.003341900184750557, 0.005347040016204119, 0.00935732014477253, 0.00935732014477253, 0.015372741036117077, 0.003341900184750557, 0.01830853708088398, 0.02878403663635254, 0.005256758537143469, -0.014456085860729218, -0.00854223221540451, -0.020369939506053925, -0.006570948287844658, 0.009199326857924461, -0.014456085860729218, -0.0026283792685717344, -0.0026283792685717344, -0.018398655578494072, 0.003285474143922329, -0.020369939506053925, -0.014456085860729218, -0.0026283792685717344, 0.003285474143922329, 0.009199326857924461, 0.009199326857924461, -0.00854223221540451, -0.00854223221540451, -0.00854223221540451, -0.0006570948753505945, -0.0026283792685717344, 0.003285474143922329, 0.015113180503249168, 0.005256758537143469, 0.015113180503249168, -0.0006983652710914612, -0.015364035032689571, 0.022347688674926758, -0.002793460851535201, -0.00907874759286642, -0.015364035032689571, -0.00907874759286642, -0.002793460851535201, -0.002793460851535201, -0.0069836522452533245, -0.015364035032689571, 0.005586921703070402, 0.009777112863957882, -0.002793460851535201, -0.0006983652710914612, 0.0034918261226266623, -0.015364035032689571, -0.0069836522452533245, 0.0034918261226266623, 0.009777112863957882, -0.00907874759286642, -0.0069836522452533245, -0.05580829456448555, -0.025090079754590988, -0.019022556021809578, -0.002842494985088706, -0.002842494985088706, -0.02702433243393898, -0.02702433243393898, -0.03303975611925125, -0.05108601599931717, -0.012521219439804554, -0.024249911308288574, -0.0027473110239952803, -0.04751892760396004, -0.03483454883098602, -0.008840776048600674, 0.0115610146895051, 0.005440477281808853, 0.005440477281808853, -0.0006800597766414285, -0.021081851795315742, -0.01496131345629692, -0.021081851795315742, -0.01496131345629692, -0.0006800597766414285, -0.006800597067922354, 0.009520835243165493, 0.02176191285252571, -0.008840776048600674, -0.008840776048600674, 0.009520835243165493, 0.02176191285252571, -0.021081851795315742, -0.008840776048600674, -0.01496131345629692, -0.012921134009957314, -0.01496131345629692, -0.0027202386409044266, -0.0027202386409044266, -0.0027202386409044266, -0.0027202386409044266, 0.003400298533961177, 0.003400298533961177, 0.003400298533961177, 0.009520835243165493, 0.009520835243165493, 0.01564137265086174, -0.012921134009957314, -0.006800597067922354, -0.0333259291946888, -0.0385611392557621, -0.025309301912784576, -0.03142983838915825, -0.025309301912784576, -0.019188763573765755, -0.006947689224034548, -0.019188763573765755, -0.013300647027790546, -0.007071255706250668, -0.02679424360394478, -0.038722652941942215, -0.032758451998233795, -0.026568040251731873, -0.03248189762234688, -0.026568040251731873, -0.008758296258747578, -0.024662842974066734, -0.008758296258747578, -0.014722500927746296, -0.018698638305068016, -0.030627047643065453, -0.03194256126880646, -0.03194256126880646, -0.007804707158356905, 0.016481850296258926, 0.032588742673397064, -0.05241375043988228, -0.021800372749567032, -0.015515085309743881, -0.015093186870217323, -0.0089187016710639, 0.021953728049993515, -0.0006860540015622973, 0.0034302696585655212, -0.0089187016710639, 0.0034302696585655212, 0.011662917211651802, -0.015093186870217323, -0.0068605393171310425, -0.0068605393171310425, 0.009604754857718945, 0.0034302696585655212, 0.009604754857718945, -0.02126767300069332, -0.015093186870217323, -0.015093186870217323, -0.0089187016710639, 0.0054884315468370914, 0.009604754857718945, 0.0178374033421278, -0.0027442157734185457, -0.0027442157734185457, 0.0034302696585655212, 0.0054884315468370914, -0.0027442157734185457, 0.009604754857718945, -0.0006860540015622973, 0.0033429351169615984, 0.009110708720982075, -0.0007046880200505257, 0.003523439634591341, -0.009160943329334259, 0.005637503229081631, -0.0007046880200505257, -0.0028187516145408154, -0.009160943329334259, 0.00986563041806221, 0.003523439634591341, -0.0007046880200505257, -0.013389070518314838, -0.015503134578466415, -0.007046879269182682, -0.007046879269182682, -0.0028187516145408154, -0.015503134578466415, -0.021845325827598572, -0.007046879269182682, 0.02671286277472973, 0.016661951318383217, -0.030368486419320107, -0.00671307323500514, -0.012626925483345985, -0.009244641289114952, -0.00284450501203537, 0.022756041958928108, -0.007111262530088425, -0.0007111263112165034, -0.0007111263112165034, 0.0035556312650442123, 0.012089146301150322, -0.013511398807168007, -0.0007111263112165034, -0.021228943020105362, -0.01510840468108654, -0.027349481359124184, 0.011916331015527248, 0.03060450591146946, 0.0036104789469391108, -0.013261163607239723, 0.0055391667410731316, 0.0035166614688932896, 0.01767420768737793, -0.009313361719250679, -0.034682128578424454, 0.04123007506132126, 0.017373252660036087, 0.039242006838321686, 0.011409047059714794, 0.028176629915833473, 0.034297168254852295, -0.046114008873701096, -0.019357899203896523, -0.013183413073420525, 0.03159717842936516, 0.05776981636881828, 0.02827661857008934, -0.02875267155468464, 0.017985781654715538, 0.017985790967941284, -0.024874627590179443, -0.012843785807490349, -0.012843785807490349, -0.020864346995949745, -0.01885920763015747, -0.024874627590179443, -0.030890049412846565, -0.03289518877863884, -0.008833506144583225, -0.0028180861845612526, -0.008833506144583225, 0.009667940437793732, -0.012417265214025974, 0.0032043191604316235, -0.019866779446601868, -0.008331229910254478, -0.0025634553749114275, 0.0032043191604316235, -0.008331229910254478, -0.008331229910254478, -0.05495854467153549, 0.017082372680306435, 0.044449321925640106, 0.009263250976800919, -0.0028707331512123346, -0.0028707331512123346, 0.005741466302424669, 0.010047566145658493, -0.007176833227276802, -0.0007176834042184055, -0.009329883381724358, -0.006286874879151583, 0.008801625110208988, 0.0031434374395757914, 0.036684799939394, -0.00830891728401184], \"xaxis\": \"x\", \"y\": [0.130293607711792, 0.20271161198616028, 0.17808184027671814, 0.18521152436733246, 0.15788106620311737, 0.21390829980373383, 0.1465650349855423, 0.1499508172273636, 0.1725226789712906, 0.1691369265317917, 0.17816565930843353, 0.18606580793857574, 0.1578509658575058, 0.17929427325725555, 0.165751114487648, 0.17929427325725555, 0.15672238171100616, 0.15897957980632782, 0.15333659946918488, 0.16462253034114838, 0.17590847611427307, 0.1725226789712906, 0.15672238171100616, 0.17139409482479095, 0.1849372237920761, 0.16800831258296967, 0.16799069941043854, 0.18200305104255676, 0.17499688267707825, 0.1957402527332306, 0.20152857899665833, 0.21078993380069733, 0.18532122671604156, 0.19226723909378052, 0.14375895261764526, 0.18200305104255676, 0.15864913165569305, 0.18550613522529602, 0.18200305104255676, 0.16799069941043854, 0.16448761522769928, 0.1784999519586563, 0.1714937537908554, 0.16098451614379883, 0.17499688267707825, 0.19134460389614105, 0.18083536624908447, 0.17499688267707825, 0.1784999519586563, 0.19251228868961334, 0.17733226716518402, 0.187841534614563, 0.17032606899738312, 0.1714937537908554, 0.18550613522529602, 0.18900921940803528, 0.1621522307395935, 0.16799069941043854, 0.16565530002117157, 0.1621522307395935, 0.17032606899738312, 0.18433843553066254, 0.17382916808128357, 0.18083536624908447, 0.16682298481464386, 0.10508269816637039, 0.2062280923128128, 0.19209331274032593, 0.16288158297538757, 0.17007465660572052, 0.16647812724113464, 0.18206313252449036, 0.17247235774993896, 0.1592850387096405, 0.15568849444389343, 0.18565969169139862, 0.18685851991176605, 0.1592850387096405, 0.17247235774993896, 0.19045507907867432, 0.1688758283853531, 0.17606887221336365, 0.1796654462814331, 0.17606887221336365, 0.16647812724113464, 0.17487004399299622, 0.18565969169139862, 0.19285278022289276, 0.18326197564601898, 0.1592850387096405, 0.16767697036266327, 0.18326197564601898, 0.1892562210559845, 0.18206313252449036, 0.1784665882587433, 0.16288158297538757, 0.16288158297538757, 0.19045507907867432, 0.1796654462814331, 0.17127349972724915, 0.13735604286193848, 0.14406375586986542, 0.15022270381450653, 0.16976386308670044, 0.16976386308670044, 0.18116338551044464, 0.18452104926109314, 0.16101735830307007, 0.17109036445617676, 0.17780572175979614, 0.17668649554252625, 0.15542124211788177, 0.16997115314006805, 0.16437500715255737, 0.17444804310798645, 0.16773271560668945, 0.16325579583644867, 0.18340183794498444, 0.1876818984746933, 0.12011720985174179, 0.19243527948856354, 0.19584965705871582, 0.19926398992538452, 0.2081504613161087, 0.21419847011566162, 0.15250419080257416, 0.1651301234960556, 0.18234731256961823, 0.17201700806617737, 0.17546042799949646, 0.14906075596809387, 0.16283449530601501, 0.15939107537269592, 0.1857907474040985, 0.17546042799949646, 0.1685735434293747, 0.1846429407596588, 0.17431262135505676, 0.17201700806617737, 0.17890387773513794, 0.18234731256961823, 0.1892341673374176, 0.167425736784935, 0.18119949102401733, 0.1880863606929779, 0.15250419080257416, 0.17086918652057648, 0.17775607109069824, 0.1639823019504547, 0.18119949102401733, 0.17890387773513794, 0.1685735434293747, 0.1468677669763565, 0.15034078061580658, 0.16307513415813446, 0.17002111673355103, 0.18044015765190125, 0.1734941601753235, 0.1596021205186844, 0.17233647406101227, 0.18391317129135132, 0.1468677669763565, 0.1827555000782013, 0.15381377935409546, 0.1688634604215622, 0.19085916876792908, 0.17696714401245117, 0.1873861700296402, 0.15381377935409546, 0.1734941601753235, 0.17233647406101227, 0.17696714401245117, 0.1607598066329956, 0.16654813289642334, 0.18044015765190125, 0.1642327904701233, 0.17002111673355103, 0.15728679299354553, 0.1827555000782013, 0.1607598066329956, 0.17928250133991241, 0.18622851371765137, 0.1688634604215622, 0.17580948770046234, 0.10964925587177277, 0.14714698493480682, 0.14438797533512115, 0.17397914826869965, 0.17739352583885193, 0.17056480050086975, 0.14438797533512115, 0.1625979244709015, 0.16715040802955627, 0.1808079034090042, 0.1876366138458252, 0.15121671557426453, 0.17284104228019714, 0.16373606026172638, 0.1808079034090042, 0.16715040802955627, 0.17966976761817932, 0.17625540494918823, 0.16942666471004486, 0.17056480050086975, 0.1842222511768341, 0.16373606026172638, 0.1614598035812378, 0.17397914826869965, 0.16601228713989258, 0.16601228713989258, 0.15121671557426453, 0.17284104228019714, 0.16434305906295776, 0.17039108276367188, 0.17281027138233185, 0.18490631878376007, 0.18853513896465302, 0.18490631878376007, 0.18127752840518951, 0.19216397404670715, 0.19942156970500946, 0.1679718792438507, 0.19216397404670715, 0.1679718792438507, 0.18732555210590363, 0.17764867842197418, 0.17160066962242126, 0.1764390915632248, 0.17764867842197418, 0.16071423888206482, 0.18369673192501068, 0.18006791174411774, 0.17401988804340363, 0.15345659852027893, 0.1169774979352951, 0.19393256306648254, 0.1974356323480606, 0.20210644602775574, 0.20911261439323425, 0.16539046168327332, 0.17928250133991241, 0.1827555000782013, 0.17696714401245117, 0.19421008229255676, 0.1806669533252716, 0.21565335988998413, 0.1926831752061844, 0.1707131713628769, 0.19066065549850464, 0.16003531217575073, 0.15650160610675812, 0.16356901824474335, 0.16003531217575073, 0.1835932731628418, 0.1659248024225235, 0.16945849359035492, 0.1871269792318344, 0.16710267961025238, 0.16356901824474335, 0.18948277831077576, 0.18241538107395172, 0.16945849359035492, 0.1835932731628418, 0.17534798383712769, 0.17534798383712769, 0.17652589082717896, 0.17652589082717896, 0.18005956709384918, 0.16003531217575073, 0.17299216985702515, 0.18005956709384918, 0.19419434666633606, 0.17299216985702515, 0.1871269792318344, 0.1788816750049591, 0.18594907224178314, 0.17181427776813507, 0.18241538107395172, 0.16828058660030365, 0.18594907224178314, 0.1529679149389267, 0.14943420886993408, 0.17032606899738312, 0.20815043151378632, 0.19562701880931854, 0.19209331274032593, 0.20269441604614258, 0.19916070997714996, 0.19916070997714996, 0.19209331274032593, 0.19910630583763123, 0.2027028352022171, 0.17086918652057648, 0.1639823019504547, 0.16053888201713562, 0.16942666471004486, 0.17966976761817932, 0.1625979244709015, 0.20210836827754974, 0.1906302571296692, 0.20899523794651031, 0.20555181801319122, 0.20096054673194885, 0.1871868073940277, 0.17668649554252625, 0.16325579583644867, 0.16439852118492126, 0.13153383135795593, 0.17780572175979614, 0.22676129639148712, 0.1544046252965927, 0.13626053929328918, 0.16738732159137726, 0.17095215618610382, 0.16263417899608612, 0.16857556998729706, 0.173328697681427, 0.18521152436733246, 0.19471776485443115, 0.16144590079784393, 0.18877637386322021, 0.15788106620311737, 0.16501076519489288, 0.16976386308670044, 0.18758808076381683, 0.1911529302597046, 0.17808184027671814, 0.1745169758796692, 0.1816466599702835, 0.17808184027671814, 0.15788106620311737, 0.17689354717731476, 0.15788106620311737, 0.18877637386322021, 0.1816466599702835, 0.18045839667320251, 0.16501076519489288, 0.1745169758796692, 0.18402324616909027, 0.16144590079784393, 0.19989202916622162, 0.1965619921684265, 0.16583095490932465, 0.1926831752061844, 0.1829187422990799, 0.16949263215065002, 0.17315427958965302, 0.18658038973808289, 0.17559540271759033, 0.17437483370304108, 0.17803649604320526, 0.15850761532783508, 0.16583095490932465, 0.18658038973808289, 0.16216929256916046, 0.16949263215065002, 0.17925703525543213, 0.17925703525543213, 0.17559540271759033, 0.1548459380865097, 0.23370985686779022, 0.14127282798290253, 0.18560652434825897, 0.19243526458740234, 0.19584964215755463, 0.17719970643520355, 0.18089480698108673, 0.16857774555683136, 0.17104119062423706, 0.1673460602760315, 0.17473629117012024, 0.17966312170028687, 0.1673460602760315, 0.1673460602760315, 0.15256556868553162, 0.15035738050937653, 0.1468236744403839, 0.1515352576971054, 0.19910630583763123, 0.19550974667072296, 0.20869708061218262, 0.24535351991653442, 0.197435662150383, 0.20327413082122803, 0.1904294639825821, 0.2149171680212021, 0.14603807032108307, 0.19407367706298828, 0.19407367706298828, 0.20210835337638855, 0.1906302571296692, 0.16945849359035492, 0.18005956709384918, 0.22111694514751434, 0.20091617107391357, 0.20448102056980133, 0.16365092992782593, 0.17233647406101227, 0.15168264508247375, 0.19074849784374237, 0.19378648698329926, 0.2080458551645279, 0.19921325147151947, 0.19921325147151947, 0.19226723909378052, 0.21078993380069733, 0.1957402378320694, 0.19226723909378052, 0.1957402378320694, 0.20847459137439728, 0.21078993380069733, 0.2003709226846695, 0.20384392142295837, 0.14446789026260376, 0.1858823597431183, 0.1752317249774933, 0.15969160199165344, 0.1796717643737793, 0.17634174227714539, 0.1818917840719223, 0.17301170527935028, 0.15969160199165344, 0.24253004789352417, 0.19082430005073547, 0.1953386664390564, 0.1998530626296997, 0.19747959077358246, 0.18256278336048126, 0.1726182997226715, 0.1850489377975464, 0.1726182997226715, 0.17634746432304382, 0.18629200756549835, 0.17097043991088867, 0.18839314579963684, 0.19165989756584167, 0.16303089261054993, 0.15222328901290894], \"yaxis\": \"y\"}],\n",
       "                        {\"coloraxis\": {\"colorbar\": {\"title\": {\"text\": \"tc_energy\"}}, \"colorscale\": [[0.0, \"#0d0887\"], [0.1111111111111111, \"#46039f\"], [0.2222222222222222, \"#7201a8\"], [0.3333333333333333, \"#9c179e\"], [0.4444444444444444, \"#bd3786\"], [0.5555555555555556, \"#d8576b\"], [0.6666666666666666, \"#ed7953\"], [0.7777777777777778, \"#fb9f3a\"], [0.8888888888888888, \"#fdca26\"], [1.0, \"#f0f921\"]]}, \"legend\": {\"tracegroupgap\": 0}, \"margin\": {\"t\": 60}, \"template\": {\"data\": {\"bar\": [{\"error_x\": {\"color\": \"#2a3f5f\"}, \"error_y\": {\"color\": \"#2a3f5f\"}, \"marker\": {\"line\": {\"color\": \"#E5ECF6\", \"width\": 0.5}}, \"type\": \"bar\"}], \"barpolar\": [{\"marker\": {\"line\": {\"color\": \"#E5ECF6\", \"width\": 0.5}}, \"type\": \"barpolar\"}], \"carpet\": [{\"aaxis\": {\"endlinecolor\": \"#2a3f5f\", \"gridcolor\": \"white\", \"linecolor\": \"white\", \"minorgridcolor\": \"white\", \"startlinecolor\": \"#2a3f5f\"}, \"baxis\": {\"endlinecolor\": \"#2a3f5f\", \"gridcolor\": \"white\", \"linecolor\": \"white\", \"minorgridcolor\": \"white\", \"startlinecolor\": \"#2a3f5f\"}, \"type\": \"carpet\"}], \"choropleth\": [{\"colorbar\": {\"outlinewidth\": 0, \"ticks\": \"\"}, \"type\": \"choropleth\"}], \"contour\": [{\"colorbar\": {\"outlinewidth\": 0, \"ticks\": \"\"}, \"colorscale\": [[0.0, \"#0d0887\"], [0.1111111111111111, \"#46039f\"], [0.2222222222222222, \"#7201a8\"], [0.3333333333333333, \"#9c179e\"], [0.4444444444444444, \"#bd3786\"], [0.5555555555555556, \"#d8576b\"], [0.6666666666666666, \"#ed7953\"], [0.7777777777777778, \"#fb9f3a\"], [0.8888888888888888, \"#fdca26\"], [1.0, \"#f0f921\"]], \"type\": \"contour\"}], \"contourcarpet\": [{\"colorbar\": {\"outlinewidth\": 0, \"ticks\": \"\"}, \"type\": \"contourcarpet\"}], \"heatmap\": [{\"colorbar\": {\"outlinewidth\": 0, \"ticks\": \"\"}, \"colorscale\": [[0.0, \"#0d0887\"], [0.1111111111111111, \"#46039f\"], [0.2222222222222222, \"#7201a8\"], [0.3333333333333333, \"#9c179e\"], [0.4444444444444444, \"#bd3786\"], [0.5555555555555556, \"#d8576b\"], [0.6666666666666666, \"#ed7953\"], [0.7777777777777778, \"#fb9f3a\"], [0.8888888888888888, \"#fdca26\"], [1.0, \"#f0f921\"]], \"type\": \"heatmap\"}], \"heatmapgl\": [{\"colorbar\": {\"outlinewidth\": 0, \"ticks\": \"\"}, \"colorscale\": [[0.0, \"#0d0887\"], [0.1111111111111111, \"#46039f\"], [0.2222222222222222, \"#7201a8\"], [0.3333333333333333, \"#9c179e\"], [0.4444444444444444, \"#bd3786\"], [0.5555555555555556, \"#d8576b\"], [0.6666666666666666, \"#ed7953\"], [0.7777777777777778, \"#fb9f3a\"], [0.8888888888888888, \"#fdca26\"], [1.0, \"#f0f921\"]], \"type\": \"heatmapgl\"}], \"histogram\": [{\"marker\": {\"colorbar\": {\"outlinewidth\": 0, \"ticks\": \"\"}}, \"type\": \"histogram\"}], \"histogram2d\": [{\"colorbar\": {\"outlinewidth\": 0, \"ticks\": \"\"}, \"colorscale\": [[0.0, \"#0d0887\"], [0.1111111111111111, \"#46039f\"], [0.2222222222222222, \"#7201a8\"], [0.3333333333333333, \"#9c179e\"], [0.4444444444444444, \"#bd3786\"], [0.5555555555555556, \"#d8576b\"], [0.6666666666666666, \"#ed7953\"], [0.7777777777777778, \"#fb9f3a\"], [0.8888888888888888, \"#fdca26\"], [1.0, \"#f0f921\"]], \"type\": \"histogram2d\"}], \"histogram2dcontour\": [{\"colorbar\": {\"outlinewidth\": 0, \"ticks\": \"\"}, \"colorscale\": [[0.0, \"#0d0887\"], [0.1111111111111111, \"#46039f\"], [0.2222222222222222, \"#7201a8\"], [0.3333333333333333, \"#9c179e\"], [0.4444444444444444, \"#bd3786\"], [0.5555555555555556, \"#d8576b\"], [0.6666666666666666, \"#ed7953\"], [0.7777777777777778, \"#fb9f3a\"], [0.8888888888888888, \"#fdca26\"], [1.0, \"#f0f921\"]], \"type\": \"histogram2dcontour\"}], \"mesh3d\": [{\"colorbar\": {\"outlinewidth\": 0, \"ticks\": \"\"}, \"type\": \"mesh3d\"}], \"parcoords\": [{\"line\": {\"colorbar\": {\"outlinewidth\": 0, \"ticks\": \"\"}}, \"type\": \"parcoords\"}], \"pie\": [{\"automargin\": true, \"type\": \"pie\"}], \"scatter\": [{\"marker\": {\"colorbar\": {\"outlinewidth\": 0, \"ticks\": \"\"}}, \"type\": \"scatter\"}], \"scatter3d\": [{\"line\": {\"colorbar\": {\"outlinewidth\": 0, \"ticks\": \"\"}}, \"marker\": {\"colorbar\": {\"outlinewidth\": 0, \"ticks\": \"\"}}, \"type\": \"scatter3d\"}], \"scattercarpet\": [{\"marker\": {\"colorbar\": {\"outlinewidth\": 0, \"ticks\": \"\"}}, \"type\": \"scattercarpet\"}], \"scattergeo\": [{\"marker\": {\"colorbar\": {\"outlinewidth\": 0, \"ticks\": \"\"}}, \"type\": \"scattergeo\"}], \"scattergl\": [{\"marker\": {\"colorbar\": {\"outlinewidth\": 0, \"ticks\": \"\"}}, \"type\": \"scattergl\"}], \"scattermapbox\": [{\"marker\": {\"colorbar\": {\"outlinewidth\": 0, \"ticks\": \"\"}}, \"type\": \"scattermapbox\"}], \"scatterpolar\": [{\"marker\": {\"colorbar\": {\"outlinewidth\": 0, \"ticks\": \"\"}}, \"type\": \"scatterpolar\"}], \"scatterpolargl\": [{\"marker\": {\"colorbar\": {\"outlinewidth\": 0, \"ticks\": \"\"}}, \"type\": \"scatterpolargl\"}], \"scatterternary\": [{\"marker\": {\"colorbar\": {\"outlinewidth\": 0, \"ticks\": \"\"}}, \"type\": \"scatterternary\"}], \"surface\": [{\"colorbar\": {\"outlinewidth\": 0, \"ticks\": \"\"}, \"colorscale\": [[0.0, \"#0d0887\"], [0.1111111111111111, \"#46039f\"], [0.2222222222222222, \"#7201a8\"], [0.3333333333333333, \"#9c179e\"], [0.4444444444444444, \"#bd3786\"], [0.5555555555555556, \"#d8576b\"], [0.6666666666666666, \"#ed7953\"], [0.7777777777777778, \"#fb9f3a\"], [0.8888888888888888, \"#fdca26\"], [1.0, \"#f0f921\"]], \"type\": \"surface\"}], \"table\": [{\"cells\": {\"fill\": {\"color\": \"#EBF0F8\"}, \"line\": {\"color\": \"white\"}}, \"header\": {\"fill\": {\"color\": \"#C8D4E3\"}, \"line\": {\"color\": \"white\"}}, \"type\": \"table\"}]}, \"layout\": {\"annotationdefaults\": {\"arrowcolor\": \"#2a3f5f\", \"arrowhead\": 0, \"arrowwidth\": 1}, \"coloraxis\": {\"colorbar\": {\"outlinewidth\": 0, \"ticks\": \"\"}}, \"colorscale\": {\"diverging\": [[0, \"#8e0152\"], [0.1, \"#c51b7d\"], [0.2, \"#de77ae\"], [0.3, \"#f1b6da\"], [0.4, \"#fde0ef\"], [0.5, \"#f7f7f7\"], [0.6, \"#e6f5d0\"], [0.7, \"#b8e186\"], [0.8, \"#7fbc41\"], [0.9, \"#4d9221\"], [1, \"#276419\"]], \"sequential\": [[0.0, \"#0d0887\"], [0.1111111111111111, \"#46039f\"], [0.2222222222222222, \"#7201a8\"], [0.3333333333333333, \"#9c179e\"], [0.4444444444444444, \"#bd3786\"], [0.5555555555555556, \"#d8576b\"], [0.6666666666666666, \"#ed7953\"], [0.7777777777777778, \"#fb9f3a\"], [0.8888888888888888, \"#fdca26\"], [1.0, \"#f0f921\"]], \"sequentialminus\": [[0.0, \"#0d0887\"], [0.1111111111111111, \"#46039f\"], [0.2222222222222222, \"#7201a8\"], [0.3333333333333333, \"#9c179e\"], [0.4444444444444444, \"#bd3786\"], [0.5555555555555556, \"#d8576b\"], [0.6666666666666666, \"#ed7953\"], [0.7777777777777778, \"#fb9f3a\"], [0.8888888888888888, \"#fdca26\"], [1.0, \"#f0f921\"]]}, \"colorway\": [\"#636efa\", \"#EF553B\", \"#00cc96\", \"#ab63fa\", \"#FFA15A\", \"#19d3f3\", \"#FF6692\", \"#B6E880\", \"#FF97FF\", \"#FECB52\"], \"font\": {\"color\": \"#2a3f5f\"}, \"geo\": {\"bgcolor\": \"white\", \"lakecolor\": \"white\", \"landcolor\": \"#E5ECF6\", \"showlakes\": true, \"showland\": true, \"subunitcolor\": \"white\"}, \"hoverlabel\": {\"align\": \"left\"}, \"hovermode\": \"closest\", \"mapbox\": {\"style\": \"light\"}, \"paper_bgcolor\": \"white\", \"plot_bgcolor\": \"#E5ECF6\", \"polar\": {\"angularaxis\": {\"gridcolor\": \"white\", \"linecolor\": \"white\", \"ticks\": \"\"}, \"bgcolor\": \"#E5ECF6\", \"radialaxis\": {\"gridcolor\": \"white\", \"linecolor\": \"white\", \"ticks\": \"\"}}, \"scene\": {\"xaxis\": {\"backgroundcolor\": \"#E5ECF6\", \"gridcolor\": \"white\", \"gridwidth\": 2, \"linecolor\": \"white\", \"showbackground\": true, \"ticks\": \"\", \"zerolinecolor\": \"white\"}, \"yaxis\": {\"backgroundcolor\": \"#E5ECF6\", \"gridcolor\": \"white\", \"gridwidth\": 2, \"linecolor\": \"white\", \"showbackground\": true, \"ticks\": \"\", \"zerolinecolor\": \"white\"}, \"zaxis\": {\"backgroundcolor\": \"#E5ECF6\", \"gridcolor\": \"white\", \"gridwidth\": 2, \"linecolor\": \"white\", \"showbackground\": true, \"ticks\": \"\", \"zerolinecolor\": \"white\"}}, \"shapedefaults\": {\"line\": {\"color\": \"#2a3f5f\"}}, \"ternary\": {\"aaxis\": {\"gridcolor\": \"white\", \"linecolor\": \"white\", \"ticks\": \"\"}, \"baxis\": {\"gridcolor\": \"white\", \"linecolor\": \"white\", \"ticks\": \"\"}, \"bgcolor\": \"#E5ECF6\", \"caxis\": {\"gridcolor\": \"white\", \"linecolor\": \"white\", \"ticks\": \"\"}}, \"title\": {\"x\": 0.05}, \"xaxis\": {\"automargin\": true, \"gridcolor\": \"white\", \"linecolor\": \"white\", \"ticks\": \"\", \"title\": {\"standoff\": 15}, \"zerolinecolor\": \"white\", \"zerolinewidth\": 2}, \"yaxis\": {\"automargin\": true, \"gridcolor\": \"white\", \"linecolor\": \"white\", \"ticks\": \"\", \"title\": {\"standoff\": 15}, \"zerolinecolor\": \"white\", \"zerolinewidth\": 2}}}, \"xaxis\": {\"anchor\": \"y\", \"domain\": [0.0, 1.0], \"title\": {\"text\": \"xz\"}}, \"yaxis\": {\"anchor\": \"x\", \"domain\": [0.0, 1.0], \"title\": {\"text\": \"yz\"}}},\n",
       "                        {\"responsive\": true}\n",
       "                    ).then(function(){\n",
       "                            \n",
       "var gd = document.getElementById('1b24d573-09f1-45fd-a8ba-68ba14ca08e6');\n",
       "var x = new MutationObserver(function (mutations, observer) {{\n",
       "        var display = window.getComputedStyle(gd).display;\n",
       "        if (!display || display === 'none') {{\n",
       "            console.log([gd, 'removed!']);\n",
       "            Plotly.purge(gd);\n",
       "            observer.disconnect();\n",
       "        }}\n",
       "}});\n",
       "\n",
       "// Listen for the removal of the full notebook cells\n",
       "var notebookContainer = gd.closest('#notebook-container');\n",
       "if (notebookContainer) {{\n",
       "    x.observe(notebookContainer, {childList: true});\n",
       "}}\n",
       "\n",
       "// Listen for the clearing of the current output cell\n",
       "var outputEl = gd.closest('.output');\n",
       "if (outputEl) {{\n",
       "    x.observe(outputEl, {childList: true});\n",
       "}}\n",
       "\n",
       "                        })\n",
       "                };\n",
       "                });\n",
       "            </script>\n",
       "        </div>"
      ]
     },
     "metadata": {},
     "output_type": "display_data"
    }
   ],
   "source": [
    "px.scatter(tc_test, x='xz', y='yz', color='tc_energy')"
   ]
  },
  {
   "cell_type": "code",
   "execution_count": 55,
   "metadata": {
    "ExecuteTime": {
     "end_time": "2020-11-04T15:44:26.465200Z",
     "start_time": "2020-11-04T15:44:25.993544Z"
    }
   },
   "outputs": [
    {
     "data": {
      "text/plain": [
       "array([[-0.13193381,  0.03818321],\n",
       "       [-0.1479583 ,  0.02893142],\n",
       "       [ 0.01337249, -0.1280192 ],\n",
       "       ...,\n",
       "       [-0.06433772, -0.06939916],\n",
       "       [-0.16441058,  0.04612712],\n",
       "       [ 0.01578903, -0.18504895]], dtype=float32)"
      ]
     },
     "execution_count": 55,
     "metadata": {},
     "output_type": "execute_result"
    }
   ],
   "source": [
    "tc_test[['xz', 'yz']].values"
   ]
  },
  {
   "cell_type": "code",
   "execution_count": 76,
   "metadata": {
    "ExecuteTime": {
     "end_time": "2020-11-04T16:03:14.786333Z",
     "start_time": "2020-11-04T16:03:14.333345Z"
    }
   },
   "outputs": [],
   "source": [
    "db = DBSCAN(eps=0.005, min_samples=10).fit(tc_test[['xz', 'yz']].values)"
   ]
  },
  {
   "cell_type": "code",
   "execution_count": 77,
   "metadata": {
    "ExecuteTime": {
     "end_time": "2020-11-04T16:03:17.083329Z",
     "start_time": "2020-11-04T16:03:16.904316Z"
    }
   },
   "outputs": [
    {
     "data": {
      "text/plain": [
       "(array([ 57.,   0.,   0.,   0.,   0.,   0.,   0.,   0.,   0., 141.]),\n",
       " array([-1. , -0.9, -0.8, -0.7, -0.6, -0.5, -0.4, -0.3, -0.2, -0.1,  0. ]),\n",
       " <a list of 10 Patch objects>)"
      ]
     },
     "execution_count": 77,
     "metadata": {},
     "output_type": "execute_result"
    },
    {
     "data": {
      "image/png": "[encoded data removed]",
      "text/plain": [
       "<Figure size 432x288 with 1 Axes>"
      ]
     },
     "metadata": {
      "needs_background": "light"
     },
     "output_type": "display_data"
    }
   ],
   "source": [
    "plt.hist(db.labels_)"
   ]
  },
  {
   "cell_type": "code",
   "execution_count": 78,
   "metadata": {
    "ExecuteTime": {
     "end_time": "2020-11-04T16:03:20.612678Z",
     "start_time": "2020-11-04T16:03:20.555534Z"
    }
   },
   "outputs": [
    {
     "data": {
      "text/html": [
       "<div>\n",
       "<style scoped>\n",
       "    .dataframe tbody tr th:only-of-type {\n",
       "        vertical-align: middle;\n",
       "    }\n",
       "\n",
       "    .dataframe tbody tr th {\n",
       "        vertical-align: top;\n",
       "    }\n",
       "\n",
       "    .dataframe thead th {\n",
       "        text-align: right;\n",
       "    }\n",
       "</style>\n",
       "<table border=\"1\" class=\"dataframe\">\n",
       "  <thead>\n",
       "    <tr style=\"text-align: right;\">\n",
       "      <th></th>\n",
       "      <th>index</th>\n",
       "      <th>entry</th>\n",
       "      <th>subentry</th>\n",
       "      <th>event</th>\n",
       "      <th>tc_subdet</th>\n",
       "      <th>tc_zside</th>\n",
       "      <th>tc_layer</th>\n",
       "      <th>tc_mipPt</th>\n",
       "      <th>tc_energy</th>\n",
       "      <th>tc_pt</th>\n",
       "      <th>tc_eta</th>\n",
       "      <th>tc_phi</th>\n",
       "      <th>tc_x</th>\n",
       "      <th>tc_y</th>\n",
       "      <th>tc_z</th>\n",
       "      <th>tc_simenergy</th>\n",
       "      <th>xz</th>\n",
       "      <th>yz</th>\n",
       "    </tr>\n",
       "  </thead>\n",
       "  <tbody>\n",
       "    <tr>\n",
       "      <th>64</th>\n",
       "      <td>64</td>\n",
       "      <td>0</td>\n",
       "      <td>64</td>\n",
       "      <td>184087</td>\n",
       "      <td>1</td>\n",
       "      <td>-1</td>\n",
       "      <td>15</td>\n",
       "      <td>0.751372</td>\n",
       "      <td>0.129297</td>\n",
       "      <td>0.021347</td>\n",
       "      <td>-2.487457</td>\n",
       "      <td>-2.101371</td>\n",
       "      <td>-29.045973</td>\n",
       "      <td>-49.508308</td>\n",
       "      <td>-342.892792</td>\n",
       "      <td>0.128916</td>\n",
       "      <td>-0.084709</td>\n",
       "      <td>-0.144384</td>\n",
       "    </tr>\n",
       "    <tr>\n",
       "      <th>66</th>\n",
       "      <td>66</td>\n",
       "      <td>0</td>\n",
       "      <td>66</td>\n",
       "      <td>184087</td>\n",
       "      <td>1</td>\n",
       "      <td>-1</td>\n",
       "      <td>15</td>\n",
       "      <td>4.009594</td>\n",
       "      <td>0.689583</td>\n",
       "      <td>0.113916</td>\n",
       "      <td>-2.486881</td>\n",
       "      <td>-2.059531</td>\n",
       "      <td>-26.965462</td>\n",
       "      <td>-50.709492</td>\n",
       "      <td>-342.892792</td>\n",
       "      <td>0.715898</td>\n",
       "      <td>-0.078641</td>\n",
       "      <td>-0.147887</td>\n",
       "    </tr>\n",
       "    <tr>\n",
       "      <th>67</th>\n",
       "      <td>67</td>\n",
       "      <td>0</td>\n",
       "      <td>67</td>\n",
       "      <td>184087</td>\n",
       "      <td>1</td>\n",
       "      <td>-1</td>\n",
       "      <td>15</td>\n",
       "      <td>5.525685</td>\n",
       "      <td>0.948177</td>\n",
       "      <td>0.156989</td>\n",
       "      <td>-2.484586</td>\n",
       "      <td>-2.017812</td>\n",
       "      <td>-24.884953</td>\n",
       "      <td>-51.910675</td>\n",
       "      <td>-342.892792</td>\n",
       "      <td>0.975184</td>\n",
       "      <td>-0.072574</td>\n",
       "      <td>-0.151390</td>\n",
       "    </tr>\n",
       "    <tr>\n",
       "      <th>68</th>\n",
       "      <td>68</td>\n",
       "      <td>0</td>\n",
       "      <td>68</td>\n",
       "      <td>184087</td>\n",
       "      <td>1</td>\n",
       "      <td>-1</td>\n",
       "      <td>15</td>\n",
       "      <td>0.665506</td>\n",
       "      <td>0.118522</td>\n",
       "      <td>0.018908</td>\n",
       "      <td>-2.522260</td>\n",
       "      <td>-2.036555</td>\n",
       "      <td>-24.884953</td>\n",
       "      <td>-49.508308</td>\n",
       "      <td>-342.892792</td>\n",
       "      <td>0.135843</td>\n",
       "      <td>-0.072574</td>\n",
       "      <td>-0.144384</td>\n",
       "    </tr>\n",
       "    <tr>\n",
       "      <th>81</th>\n",
       "      <td>81</td>\n",
       "      <td>0</td>\n",
       "      <td>81</td>\n",
       "      <td>184087</td>\n",
       "      <td>1</td>\n",
       "      <td>-1</td>\n",
       "      <td>19</td>\n",
       "      <td>0.760828</td>\n",
       "      <td>0.129297</td>\n",
       "      <td>0.021616</td>\n",
       "      <td>-2.474774</td>\n",
       "      <td>-1.991211</td>\n",
       "      <td>-24.141447</td>\n",
       "      <td>-53.999260</td>\n",
       "      <td>-348.832764</td>\n",
       "      <td>0.137247</td>\n",
       "      <td>-0.069206</td>\n",
       "      <td>-0.154800</td>\n",
       "    </tr>\n",
       "    <tr>\n",
       "      <th>...</th>\n",
       "      <td>...</td>\n",
       "      <td>...</td>\n",
       "      <td>...</td>\n",
       "      <td>...</td>\n",
       "      <td>...</td>\n",
       "      <td>...</td>\n",
       "      <td>...</td>\n",
       "      <td>...</td>\n",
       "      <td>...</td>\n",
       "      <td>...</td>\n",
       "      <td>...</td>\n",
       "      <td>...</td>\n",
       "      <td>...</td>\n",
       "      <td>...</td>\n",
       "      <td>...</td>\n",
       "      <td>...</td>\n",
       "      <td>...</td>\n",
       "      <td>...</td>\n",
       "    </tr>\n",
       "    <tr>\n",
       "      <th>2145</th>\n",
       "      <td>2145</td>\n",
       "      <td>0</td>\n",
       "      <td>2145</td>\n",
       "      <td>184087</td>\n",
       "      <td>1</td>\n",
       "      <td>-1</td>\n",
       "      <td>25</td>\n",
       "      <td>0.448722</td>\n",
       "      <td>0.075423</td>\n",
       "      <td>0.012749</td>\n",
       "      <td>-2.463622</td>\n",
       "      <td>-1.975228</td>\n",
       "      <td>-24.141447</td>\n",
       "      <td>-56.401627</td>\n",
       "      <td>-357.742798</td>\n",
       "      <td>0.074073</td>\n",
       "      <td>-0.067483</td>\n",
       "      <td>-0.157660</td>\n",
       "    </tr>\n",
       "    <tr>\n",
       "      <th>2243</th>\n",
       "      <td>2243</td>\n",
       "      <td>0</td>\n",
       "      <td>2243</td>\n",
       "      <td>184087</td>\n",
       "      <td>1</td>\n",
       "      <td>-1</td>\n",
       "      <td>21</td>\n",
       "      <td>0.126375</td>\n",
       "      <td>0.021549</td>\n",
       "      <td>0.003590</td>\n",
       "      <td>-2.478220</td>\n",
       "      <td>-1.951002</td>\n",
       "      <td>-22.060938</td>\n",
       "      <td>-55.200439</td>\n",
       "      <td>-351.802765</td>\n",
       "      <td>0.030274</td>\n",
       "      <td>-0.062708</td>\n",
       "      <td>-0.156907</td>\n",
       "    </tr>\n",
       "    <tr>\n",
       "      <th>2244</th>\n",
       "      <td>2244</td>\n",
       "      <td>0</td>\n",
       "      <td>2244</td>\n",
       "      <td>184087</td>\n",
       "      <td>1</td>\n",
       "      <td>-1</td>\n",
       "      <td>21</td>\n",
       "      <td>0.377291</td>\n",
       "      <td>0.064648</td>\n",
       "      <td>0.010719</td>\n",
       "      <td>-2.483134</td>\n",
       "      <td>-1.991211</td>\n",
       "      <td>-24.141447</td>\n",
       "      <td>-53.999260</td>\n",
       "      <td>-351.802765</td>\n",
       "      <td>0.056677</td>\n",
       "      <td>-0.068622</td>\n",
       "      <td>-0.153493</td>\n",
       "    </tr>\n",
       "    <tr>\n",
       "      <th>2293</th>\n",
       "      <td>2293</td>\n",
       "      <td>0</td>\n",
       "      <td>2293</td>\n",
       "      <td>184087</td>\n",
       "      <td>1</td>\n",
       "      <td>-1</td>\n",
       "      <td>23</td>\n",
       "      <td>0.626728</td>\n",
       "      <td>0.107747</td>\n",
       "      <td>0.017806</td>\n",
       "      <td>-2.486510</td>\n",
       "      <td>-1.951002</td>\n",
       "      <td>-22.060938</td>\n",
       "      <td>-55.200439</td>\n",
       "      <td>-354.772736</td>\n",
       "      <td>0.102877</td>\n",
       "      <td>-0.062183</td>\n",
       "      <td>-0.155594</td>\n",
       "    </tr>\n",
       "    <tr>\n",
       "      <th>2294</th>\n",
       "      <td>2294</td>\n",
       "      <td>0</td>\n",
       "      <td>2294</td>\n",
       "      <td>184087</td>\n",
       "      <td>1</td>\n",
       "      <td>-1</td>\n",
       "      <td>23</td>\n",
       "      <td>0.249479</td>\n",
       "      <td>0.043099</td>\n",
       "      <td>0.007088</td>\n",
       "      <td>-2.491425</td>\n",
       "      <td>-1.991211</td>\n",
       "      <td>-24.141447</td>\n",
       "      <td>-53.999260</td>\n",
       "      <td>-354.772736</td>\n",
       "      <td>0.050209</td>\n",
       "      <td>-0.068048</td>\n",
       "      <td>-0.152208</td>\n",
       "    </tr>\n",
       "  </tbody>\n",
       "</table>\n",
       "<p>141 rows × 18 columns</p>\n",
       "</div>"
      ],
      "text/plain": [
       "      index  entry  subentry   event  tc_subdet  tc_zside  tc_layer  tc_mipPt  \\\n",
       "64       64      0        64  184087          1        -1        15  0.751372   \n",
       "66       66      0        66  184087          1        -1        15  4.009594   \n",
       "67       67      0        67  184087          1        -1        15  5.525685   \n",
       "68       68      0        68  184087          1        -1        15  0.665506   \n",
       "81       81      0        81  184087          1        -1        19  0.760828   \n",
       "...     ...    ...       ...     ...        ...       ...       ...       ...   \n",
       "2145   2145      0      2145  184087          1        -1        25  0.448722   \n",
       "2243   2243      0      2243  184087          1        -1        21  0.126375   \n",
       "2244   2244      0      2244  184087          1        -1        21  0.377291   \n",
       "2293   2293      0      2293  184087          1        -1        23  0.626728   \n",
       "2294   2294      0      2294  184087          1        -1        23  0.249479   \n",
       "\n",
       "      tc_energy     tc_pt    tc_eta    tc_phi       tc_x       tc_y  \\\n",
       "64     0.129297  0.021347 -2.487457 -2.101371 -29.045973 -49.508308   \n",
       "66     0.689583  0.113916 -2.486881 -2.059531 -26.965462 -50.709492   \n",
       "67     0.948177  0.156989 -2.484586 -2.017812 -24.884953 -51.910675   \n",
       "68     0.118522  0.018908 -2.522260 -2.036555 -24.884953 -49.508308   \n",
       "81     0.129297  0.021616 -2.474774 -1.991211 -24.141447 -53.999260   \n",
       "...         ...       ...       ...       ...        ...        ...   \n",
       "2145   0.075423  0.012749 -2.463622 -1.975228 -24.141447 -56.401627   \n",
       "2243   0.021549  0.003590 -2.478220 -1.951002 -22.060938 -55.200439   \n",
       "2244   0.064648  0.010719 -2.483134 -1.991211 -24.141447 -53.999260   \n",
       "2293   0.107747  0.017806 -2.486510 -1.951002 -22.060938 -55.200439   \n",
       "2294   0.043099  0.007088 -2.491425 -1.991211 -24.141447 -53.999260   \n",
       "\n",
       "            tc_z  tc_simenergy        xz        yz  \n",
       "64   -342.892792      0.128916 -0.084709 -0.144384  \n",
       "66   -342.892792      0.715898 -0.078641 -0.147887  \n",
       "67   -342.892792      0.975184 -0.072574 -0.151390  \n",
       "68   -342.892792      0.135843 -0.072574 -0.144384  \n",
       "81   -348.832764      0.137247 -0.069206 -0.154800  \n",
       "...          ...           ...       ...       ...  \n",
       "2145 -357.742798      0.074073 -0.067483 -0.157660  \n",
       "2243 -351.802765      0.030274 -0.062708 -0.156907  \n",
       "2244 -351.802765      0.056677 -0.068622 -0.153493  \n",
       "2293 -354.772736      0.102877 -0.062183 -0.155594  \n",
       "2294 -354.772736      0.050209 -0.068048 -0.152208  \n",
       "\n",
       "[141 rows x 18 columns]"
      ]
     },
     "execution_count": 78,
     "metadata": {},
     "output_type": "execute_result"
    }
   ],
   "source": [
    "tc_test[db.labels_!=-1]"
   ]
  },
  {
   "cell_type": "code",
   "execution_count": 80,
   "metadata": {
    "ExecuteTime": {
     "end_time": "2020-11-04T16:03:30.694498Z",
     "start_time": "2020-11-04T16:03:30.612384Z"
    }
   },
   "outputs": [
    {
     "data": {
      "application/vnd.plotly.v1+json": {
       "config": {
        "plotlyServerURL": "https://plot.ly"
       },
       "data": [
        {
         "hovertemplate": "xz=%{x}<br>yz=%{y}<br>tc_pt=%{marker.color}<extra></extra>",
         "legendgroup": "",
         "marker": {
          "color": [
           0.021347101777791977,
           0.11391588300466537,
           0.15698930621147156,
           0.018907584249973297,
           0.021615752950310707,
           0.1053881123661995,
           0.013561269268393517,
           0.3484112620353699,
           0.01089930534362793,
           0.00968440156430006,
           0.1652059704065323,
           0.013582983985543251,
           0.1745261549949646,
           0.01088498905301094,
           0.0038923448882997036,
           0.015004009939730167,
           0.015011371113359928,
           0.008699902333319187,
           0.01909644715487957,
           0.005685943644493818,
           0.02716670371592045,
           0.2706119120121002,
           0.22509659826755524,
           0.019452126696705818,
           0.0060166106559336185,
           0.014308656565845013,
           0.0036942281294614077,
           0.09860846400260925,
           0.052999600768089294,
           1.1930750608444214,
           0.02387433871626854,
           0.030799230560660362,
           0.3572661876678467,
           0.005769206676632166,
           0.013021910563111305,
           0.011577903293073177,
           0.003972705453634262,
           0.013806316070258617,
           0.015496921725571156,
           0.06831331551074982,
           0.7039265632629395,
           0.009782709181308746,
           0.6440815329551697,
           0.18172477185726166,
           0.04916893318295479,
           0.02551032416522503,
           0.007317184470593929,
           0.03515343740582466,
           0.01465360913425684,
           0.009150768630206585,
           0.034030377864837646,
           0.032975129783153534,
           0.007095776032656431,
           0.04248517006635666,
           0.006848291959613562,
           1.414608120918274,
           0.02131383679807186,
           0.16245713829994202,
           0.008894328959286213,
           0.1030900850892067,
           0.023202629759907722,
           0.007008186541497707,
           0.024381287395954132,
           0.018172990530729294,
           0.0017597295809537172,
           0.01878492906689644,
           0.013758613727986813,
           0.019059104844927788,
           0.011070169508457184,
           0.020998623222112656,
           0.0036918686237186193,
           0.10342300683259964,
           0.005365163553506136,
           0.09996560961008072,
           0.0038292501121759415,
           0.043602149933576584,
           0.05565662309527397,
           0.04160306975245476,
           0.4029940664768219,
           0.020769767463207245,
           0.018351148813962936,
           0.016145965084433556,
           0.40208327770233154,
           0.06384794414043427,
           0.00379540235735476,
           0.05494868382811546,
           0.10049347579479218,
           0.07449282705783844,
           0.014334327541291714,
           0.5351386666297913,
           1.5379973649978638,
           0.021766342222690582,
           0.005740534979850054,
           0.0018446780741214752,
           0.3542712926864624,
           0.007627926301211119,
           0.003694203682243824,
           0.026723897084593773,
           0.005308127962052822,
           0.10580834746360779,
           0.7027823328971863,
           1.2855253219604492,
           0.003649990539997816,
           0.06338813900947571,
           0.02113640122115612,
           0.0038491389714181423,
           0.009651361033320427,
           0.06491032242774963,
           0.0359855554997921,
           0.2979147136211395,
           0.05226261168718338,
           0.011160850524902344,
           0.0039749834686517715,
           0.14398011565208435,
           0.09199138730764389,
           0.02736317180097103,
           0.12708452343940735,
           0.043451063334941864,
           0.03245541453361511,
           1.0446664094924927,
           0.0035067787393927574,
           0.028969362378120422,
           0.03709866479039192,
           0.017475366592407227,
           0.8685887455940247,
           0.05063894763588905,
           0.005738392472267151,
           0.0323294997215271,
           0.008747193031013012,
           0.07719375938177109,
           0.00169032858684659,
           0.024506060406565666,
           0.033057473599910736,
           0.10171523690223694,
           0.04572702944278717,
           0.018819045275449753,
           0.01274857483804226,
           0.003590406384319067,
           0.01071915403008461,
           0.01780587062239647,
           0.007087904028594494
          ],
          "coloraxis": "coloraxis",
          "symbol": "circle"
         },
         "mode": "markers",
         "name": "",
         "orientation": "v",
         "showlegend": false,
         "type": "scatter",
         "x": [
          -0.08470861613750458,
          -0.07864108681678772,
          -0.07257356494665146,
          -0.07257356494665146,
          -0.0692063644528389,
          -0.07545723766088486,
          -0.08738565444946289,
          -0.08142144978046417,
          -0.09334985166788101,
          -0.09334985166788101,
          -0.08142144978046417,
          -0.08142144978046417,
          -0.07545723766088486,
          -0.08738565444946289,
          -0.07545723766088486,
          -0.08738565444946289,
          -0.09334985166788101,
          -0.07073552161455154,
          -0.07664937525987625,
          -0.07293207943439484,
          -0.08429214358329773,
          -0.07811764627695084,
          -0.08429214358329773,
          -0.07811764627695084,
          -0.08429214358329773,
          -0.06489985436201096,
          -0.07102038711309433,
          -0.07881231606006622,
          -0.08504171669483185,
          -0.07743511348962784,
          -0.08355565369129181,
          -0.08355565369129181,
          -0.08355565369129181,
          -0.08967619389295578,
          -0.08967619389295578,
          -0.07743511348962784,
          -0.08967619389295578,
          -0.07014336436986923,
          -0.07600770890712738,
          -0.07610520720481873,
          -0.07610520720481873,
          -0.0821206346154213,
          -0.0821206346154213,
          -0.0821206346154213,
          -0.08813605457544327,
          -0.07610520720481873,
          -0.08813605457544327,
          -0.09415147453546524,
          -0.09415147453546524,
          -0.0852092057466507,
          -0.0852092057466507,
          -0.07939354330301285,
          -0.073577880859375,
          -0.0852092057466507,
          -0.07517823576927185,
          -0.081463523209095,
          -0.081463523209095,
          -0.07517823576927185,
          -0.07517823576927185,
          -0.08774881064891815,
          -0.0688929483294487,
          -0.061159294098615646,
          -0.08450762182474136,
          -0.07873985171318054,
          -0.07297206670045853,
          -0.07873985171318054,
          -0.09178689867258072,
          -0.08592255413532257,
          -0.08592255413532257,
          -0.08005820959806442,
          -0.09178689867258072,
          -0.08005820959806442,
          -0.07419385761022568,
          -0.08005820959806442,
          -0.07419385761022568,
          -0.09313112497329712,
          -0.06708712875843048,
          -0.07320766896009445,
          -0.07320766896009445,
          -0.07932820171117783,
          -0.07320766896009445,
          -0.0854487419128418,
          -0.07932820171117783,
          -0.06433771550655365,
          -0.07040522992610931,
          -0.07040522992610931,
          -0.07585886865854263,
          -0.07585886865854263,
          -0.08220105618238449,
          -0.08220105618238449,
          -0.07676438987255096,
          -0.07676438987255096,
          -0.07676438987255096,
          -0.08889944851398468,
          -0.08283192664384842,
          -0.08889944851398468,
          -0.09496696293354034,
          -0.08283192664384842,
          -0.06828028708696365,
          -0.07450968772172928,
          -0.07450968772172928,
          -0.08073907345533371,
          -0.08696847409009933,
          -0.08073907345533371,
          -0.08664792031049728,
          -0.08073407411575317,
          -0.07482021301984787,
          -0.07482021301984787,
          -0.08664792031049728,
          -0.08073407411575317,
          -0.07482021301984787,
          -0.08664792031049728,
          -0.08073407411575317,
          -0.08073407411575317,
          -0.07195036858320236,
          -0.06593494117259979,
          -0.07796578854322433,
          -0.07655195146799088,
          -0.06547190248966217,
          -0.07385294139385223,
          -0.06767845153808594,
          -0.09237639605998993,
          -0.06767845153808594,
          -0.07385294139385223,
          -0.08002742379903793,
          -0.08620191365480423,
          -0.07951947301626205,
          -0.08478805422782898,
          -0.08326618373394012,
          -0.07133777439594269,
          -0.07133777439594269,
          -0.0773019790649414,
          -0.08276601135730743,
          -0.06980065256357193,
          -0.06378523260354996,
          -0.06980065256357193,
          -0.06748269498348236,
          -0.06270825862884521,
          -0.06862210482358932,
          -0.06218329444527626,
          -0.06804764270782471
         ],
         "xaxis": "x",
         "y": [
          -0.1443842202425003,
          -0.14788730442523956,
          -0.15139038860797882,
          -0.1443842202425003,
          -0.15479984879493713,
          -0.160538911819458,
          -0.160538911819458,
          -0.15020860731601715,
          -0.14332173764705658,
          -0.15709544718265533,
          -0.15709544718265533,
          -0.1639823317527771,
          -0.15365202724933624,
          -0.14676517248153687,
          -0.16742576658725739,
          -0.15365202724933624,
          -0.15020860731601715,
          -0.14755618572235107,
          -0.14414182305335999,
          -0.16313348710536957,
          -0.16263419389724731,
          -0.15906935930252075,
          -0.15550453960895538,
          -0.16619905829429626,
          -0.16976389288902283,
          -0.15532372891902924,
          -0.15885743498802185,
          -0.16048389673233032,
          -0.15688736736774445,
          -0.15767952799797058,
          -0.16828061640262604,
          -0.161213219165802,
          -0.15414585173130035,
          -0.15767952799797058,
          -0.15061216056346893,
          -0.1647469401359558,
          -0.1647469401359558,
          -0.14632092416286469,
          -0.1429351419210434,
          -0.16191749274730682,
          -0.15497146546840668,
          -0.1653904914855957,
          -0.151498481631279,
          -0.15844446420669556,
          -0.15497146546840668,
          -0.16886349022388458,
          -0.14802546799182892,
          -0.15844446420669556,
          -0.14455246925354004,
          -0.14982512593269348,
          -0.15654048323631287,
          -0.15318278968334198,
          -0.14982512593269348,
          -0.14310979843139648,
          -0.1423085778951645,
          -0.15319499373435974,
          -0.14593738317489624,
          -0.1568237990140915,
          -0.1495661735534668,
          -0.1495661735534668,
          -0.15319499373435974,
          -0.15303155779838562,
          -0.15525159239768982,
          -0.15192154049873352,
          -0.1485915333032608,
          -0.15858161449432373,
          -0.16123677790164948,
          -0.15785099565982819,
          -0.1510794311761856,
          -0.16123677790164948,
          -0.14769364893436432,
          -0.1544651985168457,
          -0.1510794311761856,
          -0.14769364893436432,
          -0.16462254524230957,
          -0.14973175525665283,
          -0.14917945861816406,
          -0.14564575254917145,
          -0.15271314978599548,
          -0.14211207628250122,
          -0.1385783851146698,
          -0.14564575254917145,
          -0.14917945861816406,
          -0.1539783626794815,
          -0.16448764503002167,
          -0.15748146176338196,
          -0.15092028677463531,
          -0.15824362635612488,
          -0.14725863933563232,
          -0.1545819640159607,
          -0.15631376206874847,
          -0.1703260987997055,
          -0.16331994533538818,
          -0.14930759370326996,
          -0.15281067788600922,
          -0.15631376206874847,
          -0.1458045095205307,
          -0.15981683135032654,
          -0.15183265507221222,
          -0.14823611080646515,
          -0.1554291993379593,
          -0.15183265507221222,
          -0.14823611080646515,
          -0.14463958144187927,
          -0.15918360650539398,
          -0.16259795427322388,
          -0.16601231694221497,
          -0.1523548662662506,
          -0.14552614092826843,
          -0.1557692140340805,
          -0.15918360650539398,
          -0.1523548662662506,
          -0.16942669451236725,
          -0.14894050359725952,
          -0.15009038150310516,
          -0.14661738276481628,
          -0.14661738276481628,
          -0.152299165725708,
          -0.15669280290603638,
          -0.15405920147895813,
          -0.15049436688423157,
          -0.14336469769477844,
          -0.14336469769477844,
          -0.1469295173883438,
          -0.15049436688423157,
          -0.1469295173883438,
          -0.1619238704442978,
          -0.15105585753917694,
          -0.1419256329536438,
          -0.14881250262260437,
          -0.1419256329536438,
          -0.14536906778812408,
          -0.15673598647117615,
          -0.1561291515827179,
          -0.15265613794326782,
          -0.16307516396045685,
          -0.15765970945358276,
          -0.1569073498249054,
          -0.1534930020570755,
          -0.15559379756450653,
          -0.15220803022384644
         ],
         "yaxis": "y"
        }
       ],
       "layout": {
        "coloraxis": {
         "colorbar": {
          "title": {
           "text": "tc_pt"
          }
         },
         "colorscale": [
          [
           0,
           "#0d0887"
          ],
          [
           0.1111111111111111,
           "#46039f"
          ],
          [
           0.2222222222222222,
           "#7201a8"
          ],
          [
           0.3333333333333333,
           "#9c179e"
          ],
          [
           0.4444444444444444,
           "#bd3786"
          ],
          [
           0.5555555555555556,
           "#d8576b"
          ],
          [
           0.6666666666666666,
           "#ed7953"
          ],
          [
           0.7777777777777778,
           "#fb9f3a"
          ],
          [
           0.8888888888888888,
           "#fdca26"
          ],
          [
           1,
           "#f0f921"
          ]
         ]
        },
        "legend": {
         "tracegroupgap": 0
        },
        "margin": {
         "t": 60
        },
        "template": {
         "data": {
          "bar": [
           {
            "error_x": {
             "color": "#2a3f5f"
            },
            "error_y": {
             "color": "#2a3f5f"
            },
            "marker": {
             "line": {
              "color": "#E5ECF6",
              "width": 0.5
             }
            },
            "type": "bar"
           }
          ],
          "barpolar": [
           {
            "marker": {
             "line": {
              "color": "#E5ECF6",
              "width": 0.5
             }
            },
            "type": "barpolar"
           }
          ],
          "carpet": [
           {
            "aaxis": {
             "endlinecolor": "#2a3f5f",
             "gridcolor": "white",
             "linecolor": "white",
             "minorgridcolor": "white",
             "startlinecolor": "#2a3f5f"
            },
            "baxis": {
             "endlinecolor": "#2a3f5f",
             "gridcolor": "white",
             "linecolor": "white",
             "minorgridcolor": "white",
             "startlinecolor": "#2a3f5f"
            },
            "type": "carpet"
           }
          ],
          "choropleth": [
           {
            "colorbar": {
             "outlinewidth": 0,
             "ticks": ""
            },
            "type": "choropleth"
           }
          ],
          "contour": [
           {
            "colorbar": {
             "outlinewidth": 0,
             "ticks": ""
            },
            "colorscale": [
             [
              0,
              "#0d0887"
             ],
             [
              0.1111111111111111,
              "#46039f"
             ],
             [
              0.2222222222222222,
              "#7201a8"
             ],
             [
              0.3333333333333333,
              "#9c179e"
             ],
             [
              0.4444444444444444,
              "#bd3786"
             ],
             [
              0.5555555555555556,
              "#d8576b"
             ],
             [
              0.6666666666666666,
              "#ed7953"
             ],
             [
              0.7777777777777778,
              "#fb9f3a"
             ],
             [
              0.8888888888888888,
              "#fdca26"
             ],
             [
              1,
              "#f0f921"
             ]
            ],
            "type": "contour"
           }
          ],
          "contourcarpet": [
           {
            "colorbar": {
             "outlinewidth": 0,
             "ticks": ""
            },
            "type": "contourcarpet"
           }
          ],
          "heatmap": [
           {
            "colorbar": {
             "outlinewidth": 0,
             "ticks": ""
            },
            "colorscale": [
             [
              0,
              "#0d0887"
             ],
             [
              0.1111111111111111,
              "#46039f"
             ],
             [
              0.2222222222222222,
              "#7201a8"
             ],
             [
              0.3333333333333333,
              "#9c179e"
             ],
             [
              0.4444444444444444,
              "#bd3786"
             ],
             [
              0.5555555555555556,
              "#d8576b"
             ],
             [
              0.6666666666666666,
              "#ed7953"
             ],
             [
              0.7777777777777778,
              "#fb9f3a"
             ],
             [
              0.8888888888888888,
              "#fdca26"
             ],
             [
              1,
              "#f0f921"
             ]
            ],
            "type": "heatmap"
           }
          ],
          "heatmapgl": [
           {
            "colorbar": {
             "outlinewidth": 0,
             "ticks": ""
            },
            "colorscale": [
             [
              0,
              "#0d0887"
             ],
             [
              0.1111111111111111,
              "#46039f"
             ],
             [
              0.2222222222222222,
              "#7201a8"
             ],
             [
              0.3333333333333333,
              "#9c179e"
             ],
             [
              0.4444444444444444,
              "#bd3786"
             ],
             [
              0.5555555555555556,
              "#d8576b"
             ],
             [
              0.6666666666666666,
              "#ed7953"
             ],
             [
              0.7777777777777778,
              "#fb9f3a"
             ],
             [
              0.8888888888888888,
              "#fdca26"
             ],
             [
              1,
              "#f0f921"
             ]
            ],
            "type": "heatmapgl"
           }
          ],
          "histogram": [
           {
            "marker": {
             "colorbar": {
              "outlinewidth": 0,
              "ticks": ""
             }
            },
            "type": "histogram"
           }
          ],
          "histogram2d": [
           {
            "colorbar": {
             "outlinewidth": 0,
             "ticks": ""
            },
            "colorscale": [
             [
              0,
              "#0d0887"
             ],
             [
              0.1111111111111111,
              "#46039f"
             ],
             [
              0.2222222222222222,
              "#7201a8"
             ],
             [
              0.3333333333333333,
              "#9c179e"
             ],
             [
              0.4444444444444444,
              "#bd3786"
             ],
             [
              0.5555555555555556,
              "#d8576b"
             ],
             [
              0.6666666666666666,
              "#ed7953"
             ],
             [
              0.7777777777777778,
              "#fb9f3a"
             ],
             [
              0.8888888888888888,
              "#fdca26"
             ],
             [
              1,
              "#f0f921"
             ]
            ],
            "type": "histogram2d"
           }
          ],
          "histogram2dcontour": [
           {
            "colorbar": {
             "outlinewidth": 0,
             "ticks": ""
            },
            "colorscale": [
             [
              0,
              "#0d0887"
             ],
             [
              0.1111111111111111,
              "#46039f"
             ],
             [
              0.2222222222222222,
              "#7201a8"
             ],
             [
              0.3333333333333333,
              "#9c179e"
             ],
             [
              0.4444444444444444,
              "#bd3786"
             ],
             [
              0.5555555555555556,
              "#d8576b"
             ],
             [
              0.6666666666666666,
              "#ed7953"
             ],
             [
              0.7777777777777778,
              "#fb9f3a"
             ],
             [
              0.8888888888888888,
              "#fdca26"
             ],
             [
              1,
              "#f0f921"
             ]
            ],
            "type": "histogram2dcontour"
           }
          ],
          "mesh3d": [
           {
            "colorbar": {
             "outlinewidth": 0,
             "ticks": ""
            },
            "type": "mesh3d"
           }
          ],
          "parcoords": [
           {
            "line": {
             "colorbar": {
              "outlinewidth": 0,
              "ticks": ""
             }
            },
            "type": "parcoords"
           }
          ],
          "pie": [
           {
            "automargin": true,
            "type": "pie"
           }
          ],
          "scatter": [
           {
            "marker": {
             "colorbar": {
              "outlinewidth": 0,
              "ticks": ""
             }
            },
            "type": "scatter"
           }
          ],
          "scatter3d": [
           {
            "line": {
             "colorbar": {
              "outlinewidth": 0,
              "ticks": ""
             }
            },
            "marker": {
             "colorbar": {
              "outlinewidth": 0,
              "ticks": ""
             }
            },
            "type": "scatter3d"
           }
          ],
          "scattercarpet": [
           {
            "marker": {
             "colorbar": {
              "outlinewidth": 0,
              "ticks": ""
             }
            },
            "type": "scattercarpet"
           }
          ],
          "scattergeo": [
           {
            "marker": {
             "colorbar": {
              "outlinewidth": 0,
              "ticks": ""
             }
            },
            "type": "scattergeo"
           }
          ],
          "scattergl": [
           {
            "marker": {
             "colorbar": {
              "outlinewidth": 0,
              "ticks": ""
             }
            },
            "type": "scattergl"
           }
          ],
          "scattermapbox": [
           {
            "marker": {
             "colorbar": {
              "outlinewidth": 0,
              "ticks": ""
             }
            },
            "type": "scattermapbox"
           }
          ],
          "scatterpolar": [
           {
            "marker": {
             "colorbar": {
              "outlinewidth": 0,
              "ticks": ""
             }
            },
            "type": "scatterpolar"
           }
          ],
          "scatterpolargl": [
           {
            "marker": {
             "colorbar": {
              "outlinewidth": 0,
              "ticks": ""
             }
            },
            "type": "scatterpolargl"
           }
          ],
          "scatterternary": [
           {
            "marker": {
             "colorbar": {
              "outlinewidth": 0,
              "ticks": ""
             }
            },
            "type": "scatterternary"
           }
          ],
          "surface": [
           {
            "colorbar": {
             "outlinewidth": 0,
             "ticks": ""
            },
            "colorscale": [
             [
              0,
              "#0d0887"
             ],
             [
              0.1111111111111111,
              "#46039f"
             ],
             [
              0.2222222222222222,
              "#7201a8"
             ],
             [
              0.3333333333333333,
              "#9c179e"
             ],
             [
              0.4444444444444444,
              "#bd3786"
             ],
             [
              0.5555555555555556,
              "#d8576b"
             ],
             [
              0.6666666666666666,
              "#ed7953"
             ],
             [
              0.7777777777777778,
              "#fb9f3a"
             ],
             [
              0.8888888888888888,
              "#fdca26"
             ],
             [
              1,
              "#f0f921"
             ]
            ],
            "type": "surface"
           }
          ],
          "table": [
           {
            "cells": {
             "fill": {
              "color": "#EBF0F8"
             },
             "line": {
              "color": "white"
             }
            },
            "header": {
             "fill": {
              "color": "#C8D4E3"
             },
             "line": {
              "color": "white"
             }
            },
            "type": "table"
           }
          ]
         },
         "layout": {
          "annotationdefaults": {
           "arrowcolor": "#2a3f5f",
           "arrowhead": 0,
           "arrowwidth": 1
          },
          "coloraxis": {
           "colorbar": {
            "outlinewidth": 0,
            "ticks": ""
           }
          },
          "colorscale": {
           "diverging": [
            [
             0,
             "#8e0152"
            ],
            [
             0.1,
             "#c51b7d"
            ],
            [
             0.2,
             "#de77ae"
            ],
            [
             0.3,
             "#f1b6da"
            ],
            [
             0.4,
             "#fde0ef"
            ],
            [
             0.5,
             "#f7f7f7"
            ],
            [
             0.6,
             "#e6f5d0"
            ],
            [
             0.7,
             "#b8e186"
            ],
            [
             0.8,
             "#7fbc41"
            ],
            [
             0.9,
             "#4d9221"
            ],
            [
             1,
             "#276419"
            ]
           ],
           "sequential": [
            [
             0,
             "#0d0887"
            ],
            [
             0.1111111111111111,
             "#46039f"
            ],
            [
             0.2222222222222222,
             "#7201a8"
            ],
            [
             0.3333333333333333,
             "#9c179e"
            ],
            [
             0.4444444444444444,
             "#bd3786"
            ],
            [
             0.5555555555555556,
             "#d8576b"
            ],
            [
             0.6666666666666666,
             "#ed7953"
            ],
            [
             0.7777777777777778,
             "#fb9f3a"
            ],
            [
             0.8888888888888888,
             "#fdca26"
            ],
            [
             1,
             "#f0f921"
            ]
           ],
           "sequentialminus": [
            [
             0,
             "#0d0887"
            ],
            [
             0.1111111111111111,
             "#46039f"
            ],
            [
             0.2222222222222222,
             "#7201a8"
            ],
            [
             0.3333333333333333,
             "#9c179e"
            ],
            [
             0.4444444444444444,
             "#bd3786"
            ],
            [
             0.5555555555555556,
             "#d8576b"
            ],
            [
             0.6666666666666666,
             "#ed7953"
            ],
            [
             0.7777777777777778,
             "#fb9f3a"
            ],
            [
             0.8888888888888888,
             "#fdca26"
            ],
            [
             1,
             "#f0f921"
            ]
           ]
          },
          "colorway": [
           "#636efa",
           "#EF553B",
           "#00cc96",
           "#ab63fa",
           "#FFA15A",
           "#19d3f3",
           "#FF6692",
           "#B6E880",
           "#FF97FF",
           "#FECB52"
          ],
          "font": {
           "color": "#2a3f5f"
          },
          "geo": {
           "bgcolor": "white",
           "lakecolor": "white",
           "landcolor": "#E5ECF6",
           "showlakes": true,
           "showland": true,
           "subunitcolor": "white"
          },
          "hoverlabel": {
           "align": "left"
          },
          "hovermode": "closest",
          "mapbox": {
           "style": "light"
          },
          "paper_bgcolor": "white",
          "plot_bgcolor": "#E5ECF6",
          "polar": {
           "angularaxis": {
            "gridcolor": "white",
            "linecolor": "white",
            "ticks": ""
           },
           "bgcolor": "#E5ECF6",
           "radialaxis": {
            "gridcolor": "white",
            "linecolor": "white",
            "ticks": ""
           }
          },
          "scene": {
           "xaxis": {
            "backgroundcolor": "#E5ECF6",
            "gridcolor": "white",
            "gridwidth": 2,
            "linecolor": "white",
            "showbackground": true,
            "ticks": "",
            "zerolinecolor": "white"
           },
           "yaxis": {
            "backgroundcolor": "#E5ECF6",
            "gridcolor": "white",
            "gridwidth": 2,
            "linecolor": "white",
            "showbackground": true,
            "ticks": "",
            "zerolinecolor": "white"
           },
           "zaxis": {
            "backgroundcolor": "#E5ECF6",
            "gridcolor": "white",
            "gridwidth": 2,
            "linecolor": "white",
            "showbackground": true,
            "ticks": "",
            "zerolinecolor": "white"
           }
          },
          "shapedefaults": {
           "line": {
            "color": "#2a3f5f"
           }
          },
          "ternary": {
           "aaxis": {
            "gridcolor": "white",
            "linecolor": "white",
            "ticks": ""
           },
           "baxis": {
            "gridcolor": "white",
            "linecolor": "white",
            "ticks": ""
           },
           "bgcolor": "#E5ECF6",
           "caxis": {
            "gridcolor": "white",
            "linecolor": "white",
            "ticks": ""
           }
          },
          "title": {
           "x": 0.05
          },
          "xaxis": {
           "automargin": true,
           "gridcolor": "white",
           "linecolor": "white",
           "ticks": "",
           "title": {
            "standoff": 15
           },
           "zerolinecolor": "white",
           "zerolinewidth": 2
          },
          "yaxis": {
           "automargin": true,
           "gridcolor": "white",
           "linecolor": "white",
           "ticks": "",
           "title": {
            "standoff": 15
           },
           "zerolinecolor": "white",
           "zerolinewidth": 2
          }
         }
        },
        "xaxis": {
         "anchor": "y",
         "domain": [
          0,
          1
         ],
         "title": {
          "text": "xz"
         }
        },
        "yaxis": {
         "anchor": "x",
         "domain": [
          0,
          1
         ],
         "title": {
          "text": "yz"
         }
        }
       }
      },
      "text/html": [
       "<div>\n",
       "        \n",
       "        \n",
       "            <div id=\"620b9d85-3235-42da-8fb9-34eac88d3cfc\" class=\"plotly-graph-div\" style=\"height:525px; width:100%;\"></div>\n",
       "            <script type=\"text/javascript\">\n",
       "                require([\"plotly\"], function(Plotly) {\n",
       "                    window.PLOTLYENV=window.PLOTLYENV || {};\n",
       "                    \n",
       "                if (document.getElementById(\"620b9d85-3235-42da-8fb9-34eac88d3cfc\")) {\n",
       "                    Plotly.newPlot(\n",
       "                        '620b9d85-3235-42da-8fb9-34eac88d3cfc',\n",
       "                        [{\"hovertemplate\": \"xz=%{x}<br>yz=%{y}<br>tc_pt=%{marker.color}<extra></extra>\", \"legendgroup\": \"\", \"marker\": {\"color\": [0.021347101777791977, 0.11391588300466537, 0.15698930621147156, 0.018907584249973297, 0.021615752950310707, 0.1053881123661995, 0.013561269268393517, 0.3484112620353699, 0.01089930534362793, 0.00968440156430006, 0.1652059704065323, 0.013582983985543251, 0.1745261549949646, 0.01088498905301094, 0.0038923448882997036, 0.015004009939730167, 0.015011371113359928, 0.008699902333319187, 0.01909644715487957, 0.005685943644493818, 0.02716670371592045, 0.2706119120121002, 0.22509659826755524, 0.019452126696705818, 0.0060166106559336185, 0.014308656565845013, 0.0036942281294614077, 0.09860846400260925, 0.052999600768089294, 1.1930750608444214, 0.02387433871626854, 0.030799230560660362, 0.3572661876678467, 0.005769206676632166, 0.013021910563111305, 0.011577903293073177, 0.003972705453634262, 0.013806316070258617, 0.015496921725571156, 0.06831331551074982, 0.7039265632629395, 0.009782709181308746, 0.6440815329551697, 0.18172477185726166, 0.04916893318295479, 0.02551032416522503, 0.007317184470593929, 0.03515343740582466, 0.01465360913425684, 0.009150768630206585, 0.034030377864837646, 0.032975129783153534, 0.007095776032656431, 0.04248517006635666, 0.006848291959613562, 1.414608120918274, 0.02131383679807186, 0.16245713829994202, 0.008894328959286213, 0.1030900850892067, 0.023202629759907722, 0.007008186541497707, 0.024381287395954132, 0.018172990530729294, 0.0017597295809537172, 0.01878492906689644, 0.013758613727986813, 0.019059104844927788, 0.011070169508457184, 0.020998623222112656, 0.0036918686237186193, 0.10342300683259964, 0.005365163553506136, 0.09996560961008072, 0.0038292501121759415, 0.043602149933576584, 0.05565662309527397, 0.04160306975245476, 0.4029940664768219, 0.020769767463207245, 0.018351148813962936, 0.016145965084433556, 0.40208327770233154, 0.06384794414043427, 0.00379540235735476, 0.05494868382811546, 0.10049347579479218, 0.07449282705783844, 0.014334327541291714, 0.5351386666297913, 1.5379973649978638, 0.021766342222690582, 0.005740534979850054, 0.0018446780741214752, 0.3542712926864624, 0.007627926301211119, 0.003694203682243824, 0.026723897084593773, 0.005308127962052822, 0.10580834746360779, 0.7027823328971863, 1.2855253219604492, 0.003649990539997816, 0.06338813900947571, 0.02113640122115612, 0.0038491389714181423, 0.009651361033320427, 0.06491032242774963, 0.0359855554997921, 0.2979147136211395, 0.05226261168718338, 0.011160850524902344, 0.0039749834686517715, 0.14398011565208435, 0.09199138730764389, 0.02736317180097103, 0.12708452343940735, 0.043451063334941864, 0.03245541453361511, 1.0446664094924927, 0.0035067787393927574, 0.028969362378120422, 0.03709866479039192, 0.017475366592407227, 0.8685887455940247, 0.05063894763588905, 0.005738392472267151, 0.0323294997215271, 0.008747193031013012, 0.07719375938177109, 0.00169032858684659, 0.024506060406565666, 0.033057473599910736, 0.10171523690223694, 0.04572702944278717, 0.018819045275449753, 0.01274857483804226, 0.003590406384319067, 0.01071915403008461, 0.01780587062239647, 0.007087904028594494], \"coloraxis\": \"coloraxis\", \"symbol\": \"circle\"}, \"mode\": \"markers\", \"name\": \"\", \"orientation\": \"v\", \"showlegend\": false, \"type\": \"scatter\", \"x\": [-0.08470861613750458, -0.07864108681678772, -0.07257356494665146, -0.07257356494665146, -0.0692063644528389, -0.07545723766088486, -0.08738565444946289, -0.08142144978046417, -0.09334985166788101, -0.09334985166788101, -0.08142144978046417, -0.08142144978046417, -0.07545723766088486, -0.08738565444946289, -0.07545723766088486, -0.08738565444946289, -0.09334985166788101, -0.07073552161455154, -0.07664937525987625, -0.07293207943439484, -0.08429214358329773, -0.07811764627695084, -0.08429214358329773, -0.07811764627695084, -0.08429214358329773, -0.06489985436201096, -0.07102038711309433, -0.07881231606006622, -0.08504171669483185, -0.07743511348962784, -0.08355565369129181, -0.08355565369129181, -0.08355565369129181, -0.08967619389295578, -0.08967619389295578, -0.07743511348962784, -0.08967619389295578, -0.07014336436986923, -0.07600770890712738, -0.07610520720481873, -0.07610520720481873, -0.0821206346154213, -0.0821206346154213, -0.0821206346154213, -0.08813605457544327, -0.07610520720481873, -0.08813605457544327, -0.09415147453546524, -0.09415147453546524, -0.0852092057466507, -0.0852092057466507, -0.07939354330301285, -0.073577880859375, -0.0852092057466507, -0.07517823576927185, -0.081463523209095, -0.081463523209095, -0.07517823576927185, -0.07517823576927185, -0.08774881064891815, -0.0688929483294487, -0.061159294098615646, -0.08450762182474136, -0.07873985171318054, -0.07297206670045853, -0.07873985171318054, -0.09178689867258072, -0.08592255413532257, -0.08592255413532257, -0.08005820959806442, -0.09178689867258072, -0.08005820959806442, -0.07419385761022568, -0.08005820959806442, -0.07419385761022568, -0.09313112497329712, -0.06708712875843048, -0.07320766896009445, -0.07320766896009445, -0.07932820171117783, -0.07320766896009445, -0.0854487419128418, -0.07932820171117783, -0.06433771550655365, -0.07040522992610931, -0.07040522992610931, -0.07585886865854263, -0.07585886865854263, -0.08220105618238449, -0.08220105618238449, -0.07676438987255096, -0.07676438987255096, -0.07676438987255096, -0.08889944851398468, -0.08283192664384842, -0.08889944851398468, -0.09496696293354034, -0.08283192664384842, -0.06828028708696365, -0.07450968772172928, -0.07450968772172928, -0.08073907345533371, -0.08696847409009933, -0.08073907345533371, -0.08664792031049728, -0.08073407411575317, -0.07482021301984787, -0.07482021301984787, -0.08664792031049728, -0.08073407411575317, -0.07482021301984787, -0.08664792031049728, -0.08073407411575317, -0.08073407411575317, -0.07195036858320236, -0.06593494117259979, -0.07796578854322433, -0.07655195146799088, -0.06547190248966217, -0.07385294139385223, -0.06767845153808594, -0.09237639605998993, -0.06767845153808594, -0.07385294139385223, -0.08002742379903793, -0.08620191365480423, -0.07951947301626205, -0.08478805422782898, -0.08326618373394012, -0.07133777439594269, -0.07133777439594269, -0.0773019790649414, -0.08276601135730743, -0.06980065256357193, -0.06378523260354996, -0.06980065256357193, -0.06748269498348236, -0.06270825862884521, -0.06862210482358932, -0.06218329444527626, -0.06804764270782471], \"xaxis\": \"x\", \"y\": [-0.1443842202425003, -0.14788730442523956, -0.15139038860797882, -0.1443842202425003, -0.15479984879493713, -0.160538911819458, -0.160538911819458, -0.15020860731601715, -0.14332173764705658, -0.15709544718265533, -0.15709544718265533, -0.1639823317527771, -0.15365202724933624, -0.14676517248153687, -0.16742576658725739, -0.15365202724933624, -0.15020860731601715, -0.14755618572235107, -0.14414182305335999, -0.16313348710536957, -0.16263419389724731, -0.15906935930252075, -0.15550453960895538, -0.16619905829429626, -0.16976389288902283, -0.15532372891902924, -0.15885743498802185, -0.16048389673233032, -0.15688736736774445, -0.15767952799797058, -0.16828061640262604, -0.161213219165802, -0.15414585173130035, -0.15767952799797058, -0.15061216056346893, -0.1647469401359558, -0.1647469401359558, -0.14632092416286469, -0.1429351419210434, -0.16191749274730682, -0.15497146546840668, -0.1653904914855957, -0.151498481631279, -0.15844446420669556, -0.15497146546840668, -0.16886349022388458, -0.14802546799182892, -0.15844446420669556, -0.14455246925354004, -0.14982512593269348, -0.15654048323631287, -0.15318278968334198, -0.14982512593269348, -0.14310979843139648, -0.1423085778951645, -0.15319499373435974, -0.14593738317489624, -0.1568237990140915, -0.1495661735534668, -0.1495661735534668, -0.15319499373435974, -0.15303155779838562, -0.15525159239768982, -0.15192154049873352, -0.1485915333032608, -0.15858161449432373, -0.16123677790164948, -0.15785099565982819, -0.1510794311761856, -0.16123677790164948, -0.14769364893436432, -0.1544651985168457, -0.1510794311761856, -0.14769364893436432, -0.16462254524230957, -0.14973175525665283, -0.14917945861816406, -0.14564575254917145, -0.15271314978599548, -0.14211207628250122, -0.1385783851146698, -0.14564575254917145, -0.14917945861816406, -0.1539783626794815, -0.16448764503002167, -0.15748146176338196, -0.15092028677463531, -0.15824362635612488, -0.14725863933563232, -0.1545819640159607, -0.15631376206874847, -0.1703260987997055, -0.16331994533538818, -0.14930759370326996, -0.15281067788600922, -0.15631376206874847, -0.1458045095205307, -0.15981683135032654, -0.15183265507221222, -0.14823611080646515, -0.1554291993379593, -0.15183265507221222, -0.14823611080646515, -0.14463958144187927, -0.15918360650539398, -0.16259795427322388, -0.16601231694221497, -0.1523548662662506, -0.14552614092826843, -0.1557692140340805, -0.15918360650539398, -0.1523548662662506, -0.16942669451236725, -0.14894050359725952, -0.15009038150310516, -0.14661738276481628, -0.14661738276481628, -0.152299165725708, -0.15669280290603638, -0.15405920147895813, -0.15049436688423157, -0.14336469769477844, -0.14336469769477844, -0.1469295173883438, -0.15049436688423157, -0.1469295173883438, -0.1619238704442978, -0.15105585753917694, -0.1419256329536438, -0.14881250262260437, -0.1419256329536438, -0.14536906778812408, -0.15673598647117615, -0.1561291515827179, -0.15265613794326782, -0.16307516396045685, -0.15765970945358276, -0.1569073498249054, -0.1534930020570755, -0.15559379756450653, -0.15220803022384644], \"yaxis\": \"y\"}],\n",
       "                        {\"coloraxis\": {\"colorbar\": {\"title\": {\"text\": \"tc_pt\"}}, \"colorscale\": [[0.0, \"#0d0887\"], [0.1111111111111111, \"#46039f\"], [0.2222222222222222, \"#7201a8\"], [0.3333333333333333, \"#9c179e\"], [0.4444444444444444, \"#bd3786\"], [0.5555555555555556, \"#d8576b\"], [0.6666666666666666, \"#ed7953\"], [0.7777777777777778, \"#fb9f3a\"], [0.8888888888888888, \"#fdca26\"], [1.0, \"#f0f921\"]]}, \"legend\": {\"tracegroupgap\": 0}, \"margin\": {\"t\": 60}, \"template\": {\"data\": {\"bar\": [{\"error_x\": {\"color\": \"#2a3f5f\"}, \"error_y\": {\"color\": \"#2a3f5f\"}, \"marker\": {\"line\": {\"color\": \"#E5ECF6\", \"width\": 0.5}}, \"type\": \"bar\"}], \"barpolar\": [{\"marker\": {\"line\": {\"color\": \"#E5ECF6\", \"width\": 0.5}}, \"type\": \"barpolar\"}], \"carpet\": [{\"aaxis\": {\"endlinecolor\": \"#2a3f5f\", \"gridcolor\": \"white\", \"linecolor\": \"white\", \"minorgridcolor\": \"white\", \"startlinecolor\": \"#2a3f5f\"}, \"baxis\": {\"endlinecolor\": \"#2a3f5f\", \"gridcolor\": \"white\", \"linecolor\": \"white\", \"minorgridcolor\": \"white\", \"startlinecolor\": \"#2a3f5f\"}, \"type\": \"carpet\"}], \"choropleth\": [{\"colorbar\": {\"outlinewidth\": 0, \"ticks\": \"\"}, \"type\": \"choropleth\"}], \"contour\": [{\"colorbar\": {\"outlinewidth\": 0, \"ticks\": \"\"}, \"colorscale\": [[0.0, \"#0d0887\"], [0.1111111111111111, \"#46039f\"], [0.2222222222222222, \"#7201a8\"], [0.3333333333333333, \"#9c179e\"], [0.4444444444444444, \"#bd3786\"], [0.5555555555555556, \"#d8576b\"], [0.6666666666666666, \"#ed7953\"], [0.7777777777777778, \"#fb9f3a\"], [0.8888888888888888, \"#fdca26\"], [1.0, \"#f0f921\"]], \"type\": \"contour\"}], \"contourcarpet\": [{\"colorbar\": {\"outlinewidth\": 0, \"ticks\": \"\"}, \"type\": \"contourcarpet\"}], \"heatmap\": [{\"colorbar\": {\"outlinewidth\": 0, \"ticks\": \"\"}, \"colorscale\": [[0.0, \"#0d0887\"], [0.1111111111111111, \"#46039f\"], [0.2222222222222222, \"#7201a8\"], [0.3333333333333333, \"#9c179e\"], [0.4444444444444444, \"#bd3786\"], [0.5555555555555556, \"#d8576b\"], [0.6666666666666666, \"#ed7953\"], [0.7777777777777778, \"#fb9f3a\"], [0.8888888888888888, \"#fdca26\"], [1.0, \"#f0f921\"]], \"type\": \"heatmap\"}], \"heatmapgl\": [{\"colorbar\": {\"outlinewidth\": 0, \"ticks\": \"\"}, \"colorscale\": [[0.0, \"#0d0887\"], [0.1111111111111111, \"#46039f\"], [0.2222222222222222, \"#7201a8\"], [0.3333333333333333, \"#9c179e\"], [0.4444444444444444, \"#bd3786\"], [0.5555555555555556, \"#d8576b\"], [0.6666666666666666, \"#ed7953\"], [0.7777777777777778, \"#fb9f3a\"], [0.8888888888888888, \"#fdca26\"], [1.0, \"#f0f921\"]], \"type\": \"heatmapgl\"}], \"histogram\": [{\"marker\": {\"colorbar\": {\"outlinewidth\": 0, \"ticks\": \"\"}}, \"type\": \"histogram\"}], \"histogram2d\": [{\"colorbar\": {\"outlinewidth\": 0, \"ticks\": \"\"}, \"colorscale\": [[0.0, \"#0d0887\"], [0.1111111111111111, \"#46039f\"], [0.2222222222222222, \"#7201a8\"], [0.3333333333333333, \"#9c179e\"], [0.4444444444444444, \"#bd3786\"], [0.5555555555555556, \"#d8576b\"], [0.6666666666666666, \"#ed7953\"], [0.7777777777777778, \"#fb9f3a\"], [0.8888888888888888, \"#fdca26\"], [1.0, \"#f0f921\"]], \"type\": \"histogram2d\"}], \"histogram2dcontour\": [{\"colorbar\": {\"outlinewidth\": 0, \"ticks\": \"\"}, \"colorscale\": [[0.0, \"#0d0887\"], [0.1111111111111111, \"#46039f\"], [0.2222222222222222, \"#7201a8\"], [0.3333333333333333, \"#9c179e\"], [0.4444444444444444, \"#bd3786\"], [0.5555555555555556, \"#d8576b\"], [0.6666666666666666, \"#ed7953\"], [0.7777777777777778, \"#fb9f3a\"], [0.8888888888888888, \"#fdca26\"], [1.0, \"#f0f921\"]], \"type\": \"histogram2dcontour\"}], \"mesh3d\": [{\"colorbar\": {\"outlinewidth\": 0, \"ticks\": \"\"}, \"type\": \"mesh3d\"}], \"parcoords\": [{\"line\": {\"colorbar\": {\"outlinewidth\": 0, \"ticks\": \"\"}}, \"type\": \"parcoords\"}], \"pie\": [{\"automargin\": true, \"type\": \"pie\"}], \"scatter\": [{\"marker\": {\"colorbar\": {\"outlinewidth\": 0, \"ticks\": \"\"}}, \"type\": \"scatter\"}], \"scatter3d\": [{\"line\": {\"colorbar\": {\"outlinewidth\": 0, \"ticks\": \"\"}}, \"marker\": {\"colorbar\": {\"outlinewidth\": 0, \"ticks\": \"\"}}, \"type\": \"scatter3d\"}], \"scattercarpet\": [{\"marker\": {\"colorbar\": {\"outlinewidth\": 0, \"ticks\": \"\"}}, \"type\": \"scattercarpet\"}], \"scattergeo\": [{\"marker\": {\"colorbar\": {\"outlinewidth\": 0, \"ticks\": \"\"}}, \"type\": \"scattergeo\"}], \"scattergl\": [{\"marker\": {\"colorbar\": {\"outlinewidth\": 0, \"ticks\": \"\"}}, \"type\": \"scattergl\"}], \"scattermapbox\": [{\"marker\": {\"colorbar\": {\"outlinewidth\": 0, \"ticks\": \"\"}}, \"type\": \"scattermapbox\"}], \"scatterpolar\": [{\"marker\": {\"colorbar\": {\"outlinewidth\": 0, \"ticks\": \"\"}}, \"type\": \"scatterpolar\"}], \"scatterpolargl\": [{\"marker\": {\"colorbar\": {\"outlinewidth\": 0, \"ticks\": \"\"}}, \"type\": \"scatterpolargl\"}], \"scatterternary\": [{\"marker\": {\"colorbar\": {\"outlinewidth\": 0, \"ticks\": \"\"}}, \"type\": \"scatterternary\"}], \"surface\": [{\"colorbar\": {\"outlinewidth\": 0, \"ticks\": \"\"}, \"colorscale\": [[0.0, \"#0d0887\"], [0.1111111111111111, \"#46039f\"], [0.2222222222222222, \"#7201a8\"], [0.3333333333333333, \"#9c179e\"], [0.4444444444444444, \"#bd3786\"], [0.5555555555555556, \"#d8576b\"], [0.6666666666666666, \"#ed7953\"], [0.7777777777777778, \"#fb9f3a\"], [0.8888888888888888, \"#fdca26\"], [1.0, \"#f0f921\"]], \"type\": \"surface\"}], \"table\": [{\"cells\": {\"fill\": {\"color\": \"#EBF0F8\"}, \"line\": {\"color\": \"white\"}}, \"header\": {\"fill\": {\"color\": \"#C8D4E3\"}, \"line\": {\"color\": \"white\"}}, \"type\": \"table\"}]}, \"layout\": {\"annotationdefaults\": {\"arrowcolor\": \"#2a3f5f\", \"arrowhead\": 0, \"arrowwidth\": 1}, \"coloraxis\": {\"colorbar\": {\"outlinewidth\": 0, \"ticks\": \"\"}}, \"colorscale\": {\"diverging\": [[0, \"#8e0152\"], [0.1, \"#c51b7d\"], [0.2, \"#de77ae\"], [0.3, \"#f1b6da\"], [0.4, \"#fde0ef\"], [0.5, \"#f7f7f7\"], [0.6, \"#e6f5d0\"], [0.7, \"#b8e186\"], [0.8, \"#7fbc41\"], [0.9, \"#4d9221\"], [1, \"#276419\"]], \"sequential\": [[0.0, \"#0d0887\"], [0.1111111111111111, \"#46039f\"], [0.2222222222222222, \"#7201a8\"], [0.3333333333333333, \"#9c179e\"], [0.4444444444444444, \"#bd3786\"], [0.5555555555555556, \"#d8576b\"], [0.6666666666666666, \"#ed7953\"], [0.7777777777777778, \"#fb9f3a\"], [0.8888888888888888, \"#fdca26\"], [1.0, \"#f0f921\"]], \"sequentialminus\": [[0.0, \"#0d0887\"], [0.1111111111111111, \"#46039f\"], [0.2222222222222222, \"#7201a8\"], [0.3333333333333333, \"#9c179e\"], [0.4444444444444444, \"#bd3786\"], [0.5555555555555556, \"#d8576b\"], [0.6666666666666666, \"#ed7953\"], [0.7777777777777778, \"#fb9f3a\"], [0.8888888888888888, \"#fdca26\"], [1.0, \"#f0f921\"]]}, \"colorway\": [\"#636efa\", \"#EF553B\", \"#00cc96\", \"#ab63fa\", \"#FFA15A\", \"#19d3f3\", \"#FF6692\", \"#B6E880\", \"#FF97FF\", \"#FECB52\"], \"font\": {\"color\": \"#2a3f5f\"}, \"geo\": {\"bgcolor\": \"white\", \"lakecolor\": \"white\", \"landcolor\": \"#E5ECF6\", \"showlakes\": true, \"showland\": true, \"subunitcolor\": \"white\"}, \"hoverlabel\": {\"align\": \"left\"}, \"hovermode\": \"closest\", \"mapbox\": {\"style\": \"light\"}, \"paper_bgcolor\": \"white\", \"plot_bgcolor\": \"#E5ECF6\", \"polar\": {\"angularaxis\": {\"gridcolor\": \"white\", \"linecolor\": \"white\", \"ticks\": \"\"}, \"bgcolor\": \"#E5ECF6\", \"radialaxis\": {\"gridcolor\": \"white\", \"linecolor\": \"white\", \"ticks\": \"\"}}, \"scene\": {\"xaxis\": {\"backgroundcolor\": \"#E5ECF6\", \"gridcolor\": \"white\", \"gridwidth\": 2, \"linecolor\": \"white\", \"showbackground\": true, \"ticks\": \"\", \"zerolinecolor\": \"white\"}, \"yaxis\": {\"backgroundcolor\": \"#E5ECF6\", \"gridcolor\": \"white\", \"gridwidth\": 2, \"linecolor\": \"white\", \"showbackground\": true, \"ticks\": \"\", \"zerolinecolor\": \"white\"}, \"zaxis\": {\"backgroundcolor\": \"#E5ECF6\", \"gridcolor\": \"white\", \"gridwidth\": 2, \"linecolor\": \"white\", \"showbackground\": true, \"ticks\": \"\", \"zerolinecolor\": \"white\"}}, \"shapedefaults\": {\"line\": {\"color\": \"#2a3f5f\"}}, \"ternary\": {\"aaxis\": {\"gridcolor\": \"white\", \"linecolor\": \"white\", \"ticks\": \"\"}, \"baxis\": {\"gridcolor\": \"white\", \"linecolor\": \"white\", \"ticks\": \"\"}, \"bgcolor\": \"#E5ECF6\", \"caxis\": {\"gridcolor\": \"white\", \"linecolor\": \"white\", \"ticks\": \"\"}}, \"title\": {\"x\": 0.05}, \"xaxis\": {\"automargin\": true, \"gridcolor\": \"white\", \"linecolor\": \"white\", \"ticks\": \"\", \"title\": {\"standoff\": 15}, \"zerolinecolor\": \"white\", \"zerolinewidth\": 2}, \"yaxis\": {\"automargin\": true, \"gridcolor\": \"white\", \"linecolor\": \"white\", \"ticks\": \"\", \"title\": {\"standoff\": 15}, \"zerolinecolor\": \"white\", \"zerolinewidth\": 2}}}, \"xaxis\": {\"anchor\": \"y\", \"domain\": [0.0, 1.0], \"title\": {\"text\": \"xz\"}}, \"yaxis\": {\"anchor\": \"x\", \"domain\": [0.0, 1.0], \"title\": {\"text\": \"yz\"}}},\n",
       "                        {\"responsive\": true}\n",
       "                    ).then(function(){\n",
       "                            \n",
       "var gd = document.getElementById('620b9d85-3235-42da-8fb9-34eac88d3cfc');\n",
       "var x = new MutationObserver(function (mutations, observer) {{\n",
       "        var display = window.getComputedStyle(gd).display;\n",
       "        if (!display || display === 'none') {{\n",
       "            console.log([gd, 'removed!']);\n",
       "            Plotly.purge(gd);\n",
       "            observer.disconnect();\n",
       "        }}\n",
       "}});\n",
       "\n",
       "// Listen for the removal of the full notebook cells\n",
       "var notebookContainer = gd.closest('#notebook-container');\n",
       "if (notebookContainer) {{\n",
       "    x.observe(notebookContainer, {childList: true});\n",
       "}}\n",
       "\n",
       "// Listen for the clearing of the current output cell\n",
       "var outputEl = gd.closest('.output');\n",
       "if (outputEl) {{\n",
       "    x.observe(outputEl, {childList: true});\n",
       "}}\n",
       "\n",
       "                        })\n",
       "                };\n",
       "                });\n",
       "            </script>\n",
       "        </div>"
      ]
     },
     "metadata": {},
     "output_type": "display_data"
    }
   ],
   "source": [
    "px.scatter(tc_test[db.labels_!=-1], x='xz', y='yz', color='tc_pt')"
   ]
  },
  {
   "cell_type": "code",
   "execution_count": null,
   "metadata": {},
   "outputs": [],
   "source": []
  }
 ],
 "metadata": {
  "kernelspec": {
   "display_name": "Python 3",
   "language": "python",
   "name": "python3"
  },
  "language_info": {
   "codemirror_mode": {
    "name": "ipython",
    "version": 3
   },
   "file_extension": ".py",
   "mimetype": "text/x-python",
   "name": "python",
   "nbconvert_exporter": "python",
   "pygments_lexer": "ipython3",
   "version": "3.7.0"
  },
  "toc": {
   "base_numbering": 1,
   "nav_menu": {},
   "number_sections": true,
   "sideBar": true,
   "skip_h1_title": false,
   "title_cell": "Table of Contents",
   "title_sidebar": "Contents",
   "toc_cell": false,
   "toc_position": {},
   "toc_section_display": true,
   "toc_window_display": false
  }
 },
 "nbformat": 4,
 "nbformat_minor": 2
}
